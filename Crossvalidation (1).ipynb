{
 "cells": [
  {
   "cell_type": "code",
   "execution_count": 1,
   "id": "7543ae0f-1000-40de-a5f5-db4d09efa9cc",
   "metadata": {},
   "outputs": [],
   "source": [
    "import numpy as np\n",
    "from sklearn.model_selection import KFold\n",
    "import pandas as pd\n",
    "from sklearn.tree import DecisionTreeClassifier\n",
    "import matplotlib.pyplot as plt\n",
    "from sklearn.metrics import mean_absolute_error"
   ]
  },
  {
   "cell_type": "code",
   "execution_count": 2,
   "id": "7f02ffd3-638d-414f-ba9d-ccff2bd868a8",
   "metadata": {},
   "outputs": [
    {
     "data": {
      "text/html": [
       "<div>\n",
       "<style scoped>\n",
       "    .dataframe tbody tr th:only-of-type {\n",
       "        vertical-align: middle;\n",
       "    }\n",
       "\n",
       "    .dataframe tbody tr th {\n",
       "        vertical-align: top;\n",
       "    }\n",
       "\n",
       "    .dataframe thead th {\n",
       "        text-align: right;\n",
       "    }\n",
       "</style>\n",
       "<table border=\"1\" class=\"dataframe\">\n",
       "  <thead>\n",
       "    <tr style=\"text-align: right;\">\n",
       "      <th></th>\n",
       "      <th>age</th>\n",
       "      <th>sex</th>\n",
       "      <th>bmi</th>\n",
       "      <th>children</th>\n",
       "      <th>smoker</th>\n",
       "      <th>region</th>\n",
       "      <th>charges</th>\n",
       "    </tr>\n",
       "  </thead>\n",
       "  <tbody>\n",
       "    <tr>\n",
       "      <th>0</th>\n",
       "      <td>19</td>\n",
       "      <td>female</td>\n",
       "      <td>27.900</td>\n",
       "      <td>0</td>\n",
       "      <td>yes</td>\n",
       "      <td>southwest</td>\n",
       "      <td>16884.92400</td>\n",
       "    </tr>\n",
       "    <tr>\n",
       "      <th>1</th>\n",
       "      <td>18</td>\n",
       "      <td>male</td>\n",
       "      <td>33.770</td>\n",
       "      <td>1</td>\n",
       "      <td>no</td>\n",
       "      <td>southeast</td>\n",
       "      <td>1725.55230</td>\n",
       "    </tr>\n",
       "    <tr>\n",
       "      <th>2</th>\n",
       "      <td>28</td>\n",
       "      <td>male</td>\n",
       "      <td>33.000</td>\n",
       "      <td>3</td>\n",
       "      <td>no</td>\n",
       "      <td>southeast</td>\n",
       "      <td>4449.46200</td>\n",
       "    </tr>\n",
       "    <tr>\n",
       "      <th>3</th>\n",
       "      <td>33</td>\n",
       "      <td>male</td>\n",
       "      <td>22.705</td>\n",
       "      <td>0</td>\n",
       "      <td>no</td>\n",
       "      <td>northwest</td>\n",
       "      <td>21984.47061</td>\n",
       "    </tr>\n",
       "    <tr>\n",
       "      <th>4</th>\n",
       "      <td>32</td>\n",
       "      <td>male</td>\n",
       "      <td>28.880</td>\n",
       "      <td>0</td>\n",
       "      <td>no</td>\n",
       "      <td>northwest</td>\n",
       "      <td>3866.85520</td>\n",
       "    </tr>\n",
       "    <tr>\n",
       "      <th>...</th>\n",
       "      <td>...</td>\n",
       "      <td>...</td>\n",
       "      <td>...</td>\n",
       "      <td>...</td>\n",
       "      <td>...</td>\n",
       "      <td>...</td>\n",
       "      <td>...</td>\n",
       "    </tr>\n",
       "    <tr>\n",
       "      <th>595</th>\n",
       "      <td>46</td>\n",
       "      <td>female</td>\n",
       "      <td>33.725</td>\n",
       "      <td>1</td>\n",
       "      <td>no</td>\n",
       "      <td>northeast</td>\n",
       "      <td>8823.98575</td>\n",
       "    </tr>\n",
       "    <tr>\n",
       "      <th>596</th>\n",
       "      <td>42</td>\n",
       "      <td>female</td>\n",
       "      <td>29.480</td>\n",
       "      <td>2</td>\n",
       "      <td>no</td>\n",
       "      <td>southeast</td>\n",
       "      <td>7640.30920</td>\n",
       "    </tr>\n",
       "    <tr>\n",
       "      <th>597</th>\n",
       "      <td>34</td>\n",
       "      <td>female</td>\n",
       "      <td>33.250</td>\n",
       "      <td>1</td>\n",
       "      <td>no</td>\n",
       "      <td>northeast</td>\n",
       "      <td>5594.84550</td>\n",
       "    </tr>\n",
       "    <tr>\n",
       "      <th>598</th>\n",
       "      <td>43</td>\n",
       "      <td>male</td>\n",
       "      <td>32.600</td>\n",
       "      <td>2</td>\n",
       "      <td>no</td>\n",
       "      <td>southwest</td>\n",
       "      <td>7441.50100</td>\n",
       "    </tr>\n",
       "    <tr>\n",
       "      <th>599</th>\n",
       "      <td>52</td>\n",
       "      <td>female</td>\n",
       "      <td>37.525</td>\n",
       "      <td>2</td>\n",
       "      <td>no</td>\n",
       "      <td>northwest</td>\n",
       "      <td>33471.97189</td>\n",
       "    </tr>\n",
       "  </tbody>\n",
       "</table>\n",
       "<p>600 rows × 7 columns</p>\n",
       "</div>"
      ],
      "text/plain": [
       "     age     sex     bmi  children smoker     region      charges\n",
       "0     19  female  27.900         0    yes  southwest  16884.92400\n",
       "1     18    male  33.770         1     no  southeast   1725.55230\n",
       "2     28    male  33.000         3     no  southeast   4449.46200\n",
       "3     33    male  22.705         0     no  northwest  21984.47061\n",
       "4     32    male  28.880         0     no  northwest   3866.85520\n",
       "..   ...     ...     ...       ...    ...        ...          ...\n",
       "595   46  female  33.725         1     no  northeast   8823.98575\n",
       "596   42  female  29.480         2     no  southeast   7640.30920\n",
       "597   34  female  33.250         1     no  northeast   5594.84550\n",
       "598   43    male  32.600         2     no  southwest   7441.50100\n",
       "599   52  female  37.525         2     no  northwest  33471.97189\n",
       "\n",
       "[600 rows x 7 columns]"
      ]
     },
     "execution_count": 2,
     "metadata": {},
     "output_type": "execute_result"
    }
   ],
   "source": [
    "data = pd.read_csv(\"medical_insurance.csv\" , nrows = 600)\n",
    "data"
   ]
  },
  {
   "cell_type": "code",
   "execution_count": 3,
   "id": "133ca70d-20e8-4169-bf9f-cd6c31d9561d",
   "metadata": {},
   "outputs": [
    {
     "data": {
      "text/plain": [
       "'\\ndata = data.iloc[:, :-1]\\ndata = data[[\"Precip Type\",\\t\"Temperature (C)\",\\t\"Apparent Temperature (C)\",\\t\"Humidity\",\\t\"Wind Speed (km/h)\",\\t\"Wind Bearing (degrees)\",\\t\"Visibility (km)\",\\n\"Loud Cover\",\\t\"Pressure (millibars)\"]]\\n'"
      ]
     },
     "execution_count": 3,
     "metadata": {},
     "output_type": "execute_result"
    }
   ],
   "source": [
    "\"\"\"\n",
    "data = data.iloc[:, :-1]\n",
    "data = data[[\"Precip Type\",\t\"Temperature (C)\",\t\"Apparent Temperature (C)\",\t\"Humidity\",\t\"Wind Speed (km/h)\",\t\"Wind Bearing (degrees)\",\t\"Visibility (km)\",\n",
    "\"Loud Cover\",\t\"Pressure (millibars)\"]]\n",
    "\"\"\""
   ]
  },
  {
   "cell_type": "code",
   "execution_count": 4,
   "id": "aea8510d-236d-4c07-8e46-6f20ec8dc446",
   "metadata": {},
   "outputs": [],
   "source": [
    "#data = data.drop(\"id\", axis=1)"
   ]
  },
  {
   "cell_type": "code",
   "execution_count": 5,
   "id": "6e35a010-5ad3-42bd-a79c-55cd11655890",
   "metadata": {},
   "outputs": [
    {
     "data": {
      "text/html": [
       "<div>\n",
       "<style scoped>\n",
       "    .dataframe tbody tr th:only-of-type {\n",
       "        vertical-align: middle;\n",
       "    }\n",
       "\n",
       "    .dataframe tbody tr th {\n",
       "        vertical-align: top;\n",
       "    }\n",
       "\n",
       "    .dataframe thead th {\n",
       "        text-align: right;\n",
       "    }\n",
       "</style>\n",
       "<table border=\"1\" class=\"dataframe\">\n",
       "  <thead>\n",
       "    <tr style=\"text-align: right;\">\n",
       "      <th></th>\n",
       "      <th>age</th>\n",
       "      <th>sex</th>\n",
       "      <th>bmi</th>\n",
       "      <th>children</th>\n",
       "      <th>smoker</th>\n",
       "      <th>region</th>\n",
       "      <th>charges</th>\n",
       "    </tr>\n",
       "  </thead>\n",
       "  <tbody>\n",
       "    <tr>\n",
       "      <th>0</th>\n",
       "      <td>19</td>\n",
       "      <td>0</td>\n",
       "      <td>27.900</td>\n",
       "      <td>0</td>\n",
       "      <td>1</td>\n",
       "      <td>3</td>\n",
       "      <td>16884.92400</td>\n",
       "    </tr>\n",
       "    <tr>\n",
       "      <th>1</th>\n",
       "      <td>18</td>\n",
       "      <td>1</td>\n",
       "      <td>33.770</td>\n",
       "      <td>1</td>\n",
       "      <td>0</td>\n",
       "      <td>2</td>\n",
       "      <td>1725.55230</td>\n",
       "    </tr>\n",
       "    <tr>\n",
       "      <th>2</th>\n",
       "      <td>28</td>\n",
       "      <td>1</td>\n",
       "      <td>33.000</td>\n",
       "      <td>3</td>\n",
       "      <td>0</td>\n",
       "      <td>2</td>\n",
       "      <td>4449.46200</td>\n",
       "    </tr>\n",
       "    <tr>\n",
       "      <th>3</th>\n",
       "      <td>33</td>\n",
       "      <td>1</td>\n",
       "      <td>22.705</td>\n",
       "      <td>0</td>\n",
       "      <td>0</td>\n",
       "      <td>1</td>\n",
       "      <td>21984.47061</td>\n",
       "    </tr>\n",
       "    <tr>\n",
       "      <th>4</th>\n",
       "      <td>32</td>\n",
       "      <td>1</td>\n",
       "      <td>28.880</td>\n",
       "      <td>0</td>\n",
       "      <td>0</td>\n",
       "      <td>1</td>\n",
       "      <td>3866.85520</td>\n",
       "    </tr>\n",
       "  </tbody>\n",
       "</table>\n",
       "</div>"
      ],
      "text/plain": [
       "   age  sex     bmi  children  smoker  region      charges\n",
       "0   19    0  27.900         0       1       3  16884.92400\n",
       "1   18    1  33.770         1       0       2   1725.55230\n",
       "2   28    1  33.000         3       0       2   4449.46200\n",
       "3   33    1  22.705         0       0       1  21984.47061\n",
       "4   32    1  28.880         0       0       1   3866.85520"
      ]
     },
     "execution_count": 5,
     "metadata": {},
     "output_type": "execute_result"
    }
   ],
   "source": [
    "from sklearn import preprocessing \n",
    "#make an instance of Label Encoder\n",
    "label_encoder = preprocessing.LabelEncoder()\n",
    "data[\"sex\"] = label_encoder.fit_transform(data[\"sex\"])\n",
    "data[\"children\"] = label_encoder.fit_transform(data[\"children\"])\n",
    "data[\"smoker\"] = label_encoder.fit_transform(data[\"smoker\"])\n",
    "data[\"region\"] = label_encoder.fit_transform(data[\"region\"])\n",
    "data.head()"
   ]
  },
  {
   "cell_type": "code",
   "execution_count": 6,
   "id": "911887a2-7ca6-4e26-bbc3-7f94676b5ed3",
   "metadata": {},
   "outputs": [
    {
     "name": "stdout",
     "output_type": "stream",
     "text": [
      "(600, 7)\n",
      "(600, 6)\n",
      "(600,)\n"
     ]
    }
   ],
   "source": [
    "X = data.iloc[: , 0:-1]\n",
    "#print(X)\n",
    "y = data.iloc[: , -1]\n",
    "#print(y)\n",
    "print(data.shape)\n",
    "print(X.shape)\n",
    "print(y.shape)"
   ]
  },
  {
   "cell_type": "code",
   "execution_count": 7,
   "id": "7a5e2bb3-f45a-4f79-bdc5-20e4a208a3d7",
   "metadata": {},
   "outputs": [],
   "source": [
    "from sklearn.preprocessing import StandardScaler\n",
    "object= StandardScaler()\n",
    "\n",
    "# standardization \n",
    "X = object.fit_transform(X) \n",
    "#y = object.fit_transform(y) "
   ]
  },
  {
   "cell_type": "code",
   "execution_count": 8,
   "id": "0c750709-4405-4b62-a5f3-d1ca61ced061",
   "metadata": {
    "scrolled": true
   },
   "outputs": [],
   "source": [
    "from sklearn.model_selection import train_test_split\n",
    "X_train, X_test, y_train, y_test = train_test_split(X, y, test_size=0.33, random_state=42)"
   ]
  },
  {
   "cell_type": "code",
   "execution_count": 9,
   "id": "81ed1d79-1d4a-40e7-babf-6e9c7c414633",
   "metadata": {
    "scrolled": true
   },
   "outputs": [
    {
     "data": {
      "text/plain": [
       "array([[ 1.20723174, -1.00668904, -0.35784902, -0.88995213, -0.49478609,\n",
       "         1.34162279],\n",
       "       [-1.41368653,  0.99335541, -0.40835264, -0.04639561, -0.49478609,\n",
       "         1.34162279],\n",
       "       [ 0.51751641, -1.00668904,  0.52007227,  1.64071744, -0.49478609,\n",
       "        -0.46934161],\n",
       "       ...,\n",
       "       [-1.48265806,  0.99335541, -0.2450576 , -0.04639561, -0.49478609,\n",
       "         0.43614059],\n",
       "       [ 1.41414634,  0.99335541,  0.38455422,  1.64071744, -0.49478609,\n",
       "         0.43614059],\n",
       "       [-1.48265806, -1.00668904, -0.11964027, -0.88995213, -0.49478609,\n",
       "        -1.37482381]])"
      ]
     },
     "execution_count": 9,
     "metadata": {},
     "output_type": "execute_result"
    }
   ],
   "source": [
    "X_train"
   ]
  },
  {
   "cell_type": "markdown",
   "id": "51a1f5a0-70ee-45fb-b2ed-51a2c7a0783b",
   "metadata": {},
   "source": [
    "## Experiment 1"
   ]
  },
  {
   "cell_type": "markdown",
   "id": "38869aa4-4d8f-4781-93e6-fd931adda350",
   "metadata": {},
   "source": [
    "### Linear Regression"
   ]
  },
  {
   "cell_type": "code",
   "execution_count": 10,
   "id": "1a76a9d0-c667-4138-8464-e38cdd9ee17a",
   "metadata": {},
   "outputs": [
    {
     "name": "stdout",
     "output_type": "stream",
     "text": [
      "Reg_Score 0.7407499678566778\n",
      "Coefficient [3447.04020171 -438.67484153 2242.2870417    82.58002713 9730.44846467\n",
      " -668.89179916]\n",
      "Intercept 13716.29287908457\n"
     ]
    }
   ],
   "source": [
    "from sklearn.linear_model import LinearRegression\n",
    "\n",
    "reg = LinearRegression().fit(X_train, y_train)\n",
    "print(\"Reg_Score\" , reg.score(X_train, y_train))\n",
    "print(\"Coefficient\",  reg.coef_)\n",
    "print(\"Intercept\",  reg.intercept_)\n",
    "y_pred =  reg.predict(X_test)\n",
    "errors_lr = mean_absolute_error(y_test, y_pred)"
   ]
  },
  {
   "cell_type": "markdown",
   "id": "d5b963ab-85df-4d6a-bfa0-ec3a2619a2a5",
   "metadata": {},
   "source": [
    "### Poly"
   ]
  },
  {
   "cell_type": "code",
   "execution_count": 11,
   "id": "50325b5f-8345-4d81-a36f-28fc6b67a8b6",
   "metadata": {},
   "outputs": [],
   "source": [
    "# Fitting Polynomial Regression to the dataset\n",
    "from sklearn.preprocessing import PolynomialFeatures\n",
    "\n",
    "poly = PolynomialFeatures(degree=1)\n",
    "X_poly = poly.fit_transform(X_train)\n",
    "\n",
    "poly.fit(X_poly, y_train)\n",
    "lin2 = LinearRegression()\n",
    "lin2.fit(X_poly, y_train)\n",
    "\n",
    "y_pred =  lin2.predict(poly.fit_transform(X_test))\n",
    "errors_pr = mean_absolute_error(y_test, y_pred)"
   ]
  },
  {
   "cell_type": "markdown",
   "id": "80cf7e0f-0ee7-4277-afb5-e452a2d3bbaa",
   "metadata": {},
   "source": [
    "### Decision Tree Regression"
   ]
  },
  {
   "cell_type": "code",
   "execution_count": 12,
   "id": "784654a8-3364-40c2-ade5-2b1df5e984c8",
   "metadata": {},
   "outputs": [
    {
     "name": "stdout",
     "output_type": "stream",
     "text": [
      "[10435.06525 28868.6639   1639.5631   1534.3045  14133.03775  9634.538\n",
      "  3385.39915  1719.4363  17878.90068  1253.936   47896.79135  8124.4084\n",
      " 46889.2612  24513.09126  2801.2588   7077.1894  36149.4835   1842.519\n",
      "  7726.854   47928.03    19442.3535  37701.8768   6079.6715   8516.829\n",
      "  7726.854   10461.9794  12592.5345   2156.7518   8334.45755  6196.448\n",
      "  8232.6388   4074.4537  48885.13561 19214.70553  2302.3      1639.5631\n",
      " 12592.5345  20630.28351 37701.8768   7742.1098   3561.8889  36837.467\n",
      "  3877.30425  2855.43755  6406.4107   4827.90495  7789.635    5012.471\n",
      " 23288.9284  23082.95533 10231.4999   3561.8889   3756.6216   4040.55825\n",
      "  9193.8385   9620.3307   6600.20595  9620.3307   2395.17155  1639.5631\n",
      "  4922.9159   6082.405    9140.951    5253.524    3385.39915 35147.52848\n",
      " 10435.06525  5974.3847  19144.57652  8444.474   11090.7178   8232.6388\n",
      "  3857.75925 23082.95533  4618.0799   8823.279   38709.176   17560.37975\n",
      "  1261.859    7345.084    8083.9198   5974.3847   7740.337    4762.329\n",
      " 20630.28351 48824.45     7152.6714   3981.9768  24513.09126  2719.27975\n",
      " 21082.16     2534.39375  8302.53565  6799.458   34303.1672  21659.9301\n",
      "  7749.1564  30942.1918  35147.52848 10736.87075 14133.03775 14692.66935\n",
      "  8232.6388  13390.559    6186.127    4032.2407   5354.07465 42303.69215\n",
      "  7345.084    2211.13075 13470.86     1632.56445 12044.342    1625.43375\n",
      " 11165.41765 14133.03775  3046.062   10461.9794  13844.506    3857.75925\n",
      "  4922.9159  12815.44495 35147.52848 19214.70553  7371.772   24513.09126\n",
      "  4463.2051  36197.699    4827.90495 30259.99556 37742.5757  24059.68019\n",
      " 20630.28351 19594.80965 25081.76784  5910.944   11944.59435 28868.6639\n",
      " 17560.37975  5709.1644   3561.8889  24603.04837 36837.467    7526.70645\n",
      "  7726.854   19521.9682  20630.28351 11187.6567  13405.3903  17081.08\n",
      " 14711.7438  14451.83515 19214.70553 24513.09126 13405.3903  28868.6639\n",
      "  1137.4697   4149.736   24227.33724 12044.342    9290.1395   7682.67\n",
      " 10601.412   24603.04837  5125.2157  20984.0936  12592.5345   3385.39915\n",
      "  2719.27975  8871.1517  15518.18025 14692.66935  8334.45755  9644.2525\n",
      "  6184.2994   7682.67    21797.0004   2801.2588   5125.2157  12592.5345\n",
      "  2866.091    7256.7231  11187.6567   2497.0383  16586.49771  5246.047\n",
      " 35147.52848 15612.19335  8232.6388  45863.205   15612.19335  7726.854\n",
      " 18972.495   14001.1338  10381.4787  13919.8229   1256.299   11454.0215 ]\n"
     ]
    },
    {
     "data": {
      "text/plain": [
       "<Figure size 2500x2000 with 0 Axes>"
      ]
     },
     "metadata": {},
     "output_type": "display_data"
    }
   ],
   "source": [
    "from sklearn.tree import DecisionTreeRegressor\n",
    "# Fit regression model\n",
    "Regressor = DecisionTreeRegressor()\n",
    "Regressor.fit(X_train, y_train)\n",
    "y_pred = Regressor.predict(X_test)\n",
    "print(y_pred)\n",
    "\n",
    "\n",
    "from sklearn.metrics import accuracy_score\n",
    "from sklearn import tree\n",
    "\n",
    "features = data.columns\n",
    "features = features[:-1]\n",
    "features\n",
    "\n",
    "fig = plt.figure(figsize=(25,20))\n",
    "#plot = tree.plot_tree(Regressor, feature_names=features, filled=True)\n",
    "\n",
    "from sklearn import tree\n",
    "#print(tree.export_text(Regressor))\n",
    "\n",
    "\n",
    "from sklearn.metrics import mean_squared_error\n",
    "errors = mean_squared_error(y_test, y_pred)\n",
    "# example of calculate the root mean squared error\n",
    "errors_dt = mean_absolute_error(y_test, y_pred)"
   ]
  },
  {
   "cell_type": "markdown",
   "id": "537ad31d-3672-4ea6-b779-63fd11fa47e7",
   "metadata": {},
   "source": [
    "### Random Forest "
   ]
  },
  {
   "cell_type": "code",
   "execution_count": 13,
   "id": "3b88e17c-3a81-4d39-9988-9b49bcd9cb66",
   "metadata": {},
   "outputs": [],
   "source": [
    "from sklearn.ensemble import RandomForestRegressor\n",
    "\n",
    "# Instantiate model with 1000 decision trees\n",
    "rf = RandomForestRegressor(n_estimators = 1000, random_state = 42)\n",
    "# Train the model on training data\n",
    "rf.fit(X_train, y_train)\n",
    "\n",
    "# Use the forest's predict method on the test data\n",
    "y_pred = rf.predict(X_test)\n",
    "errors_rf = mean_absolute_error(y_test, y_pred)"
   ]
  },
  {
   "cell_type": "code",
   "execution_count": null,
   "id": "c4dde9b7-e91f-4a5f-95cd-dd743eeaf6e2",
   "metadata": {},
   "outputs": [],
   "source": []
  },
  {
   "cell_type": "code",
   "execution_count": 14,
   "id": "6011b8f7-a449-4aba-a5b1-0ff84d528329",
   "metadata": {},
   "outputs": [],
   "source": [
    "from sklearn.svm import SVR\n",
    "regressor = SVR(kernel = 'rbf')\n",
    "regressor.fit(X_train, y_train)\n",
    "y_pred = regressor.predict(X_test)\n",
    "#y_pred = sc_y.inverse_transform(y_pred) \n",
    "y_pred\n",
    "errors_sm = mean_absolute_error(y_test, y_pred)"
   ]
  },
  {
   "cell_type": "markdown",
   "id": "fa4b4cec-b144-460f-9fbd-ae92dc5d6a65",
   "metadata": {},
   "source": [
    "### Error Rate"
   ]
  },
  {
   "cell_type": "code",
   "execution_count": 15,
   "id": "c3467af0-23ed-4527-af2d-209adbd9f9db",
   "metadata": {},
   "outputs": [
    {
     "data": {
      "text/html": [
       "<div>\n",
       "<style scoped>\n",
       "    .dataframe tbody tr th:only-of-type {\n",
       "        vertical-align: middle;\n",
       "    }\n",
       "\n",
       "    .dataframe tbody tr th {\n",
       "        vertical-align: top;\n",
       "    }\n",
       "\n",
       "    .dataframe thead th {\n",
       "        text-align: right;\n",
       "    }\n",
       "</style>\n",
       "<table border=\"1\" class=\"dataframe\">\n",
       "  <thead>\n",
       "    <tr style=\"text-align: right;\">\n",
       "      <th></th>\n",
       "      <th>name</th>\n",
       "      <th>Error</th>\n",
       "    </tr>\n",
       "  </thead>\n",
       "  <tbody>\n",
       "    <tr>\n",
       "      <th>0</th>\n",
       "      <td>LR</td>\n",
       "      <td>4291.357721</td>\n",
       "    </tr>\n",
       "    <tr>\n",
       "      <th>1</th>\n",
       "      <td>Ply</td>\n",
       "      <td>4291.357721</td>\n",
       "    </tr>\n",
       "    <tr>\n",
       "      <th>2</th>\n",
       "      <td>DT</td>\n",
       "      <td>3706.500141</td>\n",
       "    </tr>\n",
       "    <tr>\n",
       "      <th>3</th>\n",
       "      <td>RF</td>\n",
       "      <td>3017.481552</td>\n",
       "    </tr>\n",
       "    <tr>\n",
       "      <th>4</th>\n",
       "      <td>SVM</td>\n",
       "      <td>7534.725342</td>\n",
       "    </tr>\n",
       "  </tbody>\n",
       "</table>\n",
       "</div>"
      ],
      "text/plain": [
       "  name        Error\n",
       "0   LR  4291.357721\n",
       "1  Ply  4291.357721\n",
       "2   DT  3706.500141\n",
       "3   RF  3017.481552\n",
       "4  SVM  7534.725342"
      ]
     },
     "execution_count": 15,
     "metadata": {},
     "output_type": "execute_result"
    }
   ],
   "source": [
    "error = errors_lr, errors_pr, errors_dt, errors_rf, errors_sm\n",
    "error =  {\"name\": [\"LR\", \"Ply\", \"DT\", \"RF\" , \"SVM\"], \"Error\": error} \n",
    "error = pd.DataFrame(error) \n",
    "error\n",
    "\n"
   ]
  },
  {
   "cell_type": "code",
   "execution_count": 16,
   "id": "28f686bc-bc5b-4c98-b9ed-e72d98ce914f",
   "metadata": {},
   "outputs": [],
   "source": [
    "error1 = list(error)"
   ]
  },
  {
   "cell_type": "code",
   "execution_count": 17,
   "id": "5ddf4d39-585b-4b80-a48e-5e0b816030a1",
   "metadata": {},
   "outputs": [
    {
     "data": {
      "text/plain": [
       "['name', 'Error']"
      ]
     },
     "execution_count": 17,
     "metadata": {},
     "output_type": "execute_result"
    }
   ],
   "source": [
    "error1"
   ]
  },
  {
   "cell_type": "code",
   "execution_count": 18,
   "id": "74461222-620c-4f24-add2-1f91f0f741d9",
   "metadata": {},
   "outputs": [
    {
     "data": {
      "text/html": [
       "<div>\n",
       "<style scoped>\n",
       "    .dataframe tbody tr th:only-of-type {\n",
       "        vertical-align: middle;\n",
       "    }\n",
       "\n",
       "    .dataframe tbody tr th {\n",
       "        vertical-align: top;\n",
       "    }\n",
       "\n",
       "    .dataframe thead th {\n",
       "        text-align: right;\n",
       "    }\n",
       "</style>\n",
       "<table border=\"1\" class=\"dataframe\">\n",
       "  <thead>\n",
       "    <tr style=\"text-align: right;\">\n",
       "      <th></th>\n",
       "      <th>Attr</th>\n",
       "      <th>LR</th>\n",
       "      <th>Ply</th>\n",
       "      <th>DT</th>\n",
       "      <th>RF</th>\n",
       "      <th>SVM</th>\n",
       "    </tr>\n",
       "  </thead>\n",
       "  <tbody>\n",
       "    <tr>\n",
       "      <th>0</th>\n",
       "      <td>Error</td>\n",
       "      <td>4291.357721</td>\n",
       "      <td>4291.357721</td>\n",
       "      <td>3706.500141</td>\n",
       "      <td>3017.481552</td>\n",
       "      <td>7534.725342</td>\n",
       "    </tr>\n",
       "  </tbody>\n",
       "</table>\n",
       "</div>"
      ],
      "text/plain": [
       "    Attr           LR          Ply           DT           RF          SVM\n",
       "0  Error  4291.357721  4291.357721  3706.500141  3017.481552  7534.725342"
      ]
     },
     "execution_count": 18,
     "metadata": {},
     "output_type": "execute_result"
    }
   ],
   "source": [
    "# importing the pandas library\n",
    "import pandas as pd\n",
    "#error = {errors_lr, errors_pr, errors_dt, errors_rf, errors_sm}\n",
    "error = {\"Attr\": \"Error\", \"LR\": errors_lr, \"Ply\": errors_pr, \"DT\":errors_dt, \"RF\":errors_rf , \"SVM\":errors_sm}\n",
    "\n",
    "#column_name = [name, error1]\n",
    "error = pd.DataFrame([error])\n",
    "error"
   ]
  },
  {
   "cell_type": "markdown",
   "id": "07833eb7-1941-469c-92ce-4c5966d0b7c7",
   "metadata": {},
   "source": [
    "## Cross Validation when n_split = 2"
   ]
  },
  {
   "cell_type": "code",
   "execution_count": 19,
   "id": "353b35b5-f751-412b-8f70-5f5c1616dda9",
   "metadata": {},
   "outputs": [],
   "source": [
    "from sklearn.model_selection import cross_val_score\n",
    "from sklearn.model_selection import KFold\n",
    "from sklearn.model_selection import GridSearchCV\n",
    "from sklearn.pipeline import make_pipeline\n",
    "\n",
    "folds = KFold(n_splits = 5, shuffle = True, random_state = 100)\n",
    "scores = cross_val_score(reg, X_train, y_train, scoring='r2', cv=folds)\n",
    "scores  \n",
    "y_pred_1 =  reg.predict(X_test)\n",
    "errors_lr = mean_absolute_error(y_test, y_pred_1)\n",
    "errors_lr\n",
    "\n",
    "kf = KFold(n_splits=2)\n",
    "\n",
    "from sklearn.model_selection import KFold\n",
    "kf = KFold(n_splits=2)\n",
    "\n",
    "for train_index, test_index in kf.split(X):\n",
    "    #print(\"TRAIN:\", train_index, \"TEST:\", test_index)\n",
    "    X_train, X_test = X[train_index], X[test_index]\n",
    "    y_train, y_test = y[train_index], y[test_index]"
   ]
  },
  {
   "cell_type": "code",
   "execution_count": null,
   "id": "3d3e6a34-b1df-4304-9192-dd4b9838ae9b",
   "metadata": {},
   "outputs": [],
   "source": []
  },
  {
   "cell_type": "code",
   "execution_count": 20,
   "id": "2869977e-15a0-44cf-9835-1eb64824a1ac",
   "metadata": {},
   "outputs": [
    {
     "name": "stdout",
     "output_type": "stream",
     "text": [
      "Reg_Score 0.7741280987202982\n",
      "Coefficient [4169.66512276  423.15532847 2141.14880563  431.89498621 9287.56726293\n",
      " -337.29816581]\n",
      "Intercept 13087.168860633235\n"
     ]
    }
   ],
   "source": [
    "from sklearn.linear_model import LinearRegression\n",
    "reg = LinearRegression().fit(X_train, y_train)\n",
    "print(\"Reg_Score\" , reg.score(X_train, y_train))\n",
    "print(\"Coefficient\",  reg.coef_)\n",
    "print(\"Intercept\",  reg.intercept_)\n",
    "y_pred =  reg.predict(X_test)\n",
    "errors_lr = mean_absolute_error(y_test, y_pred)"
   ]
  },
  {
   "cell_type": "code",
   "execution_count": 21,
   "id": "66b5caf3-1e73-43db-bc6b-00b8966444f9",
   "metadata": {},
   "outputs": [
    {
     "data": {
      "text/plain": [
       "4447.717964688884"
      ]
     },
     "execution_count": 21,
     "metadata": {},
     "output_type": "execute_result"
    }
   ],
   "source": [
    "errors_lr"
   ]
  },
  {
   "cell_type": "code",
   "execution_count": null,
   "id": "9c8cb6f8-4448-45d2-b7d5-61732918129c",
   "metadata": {},
   "outputs": [],
   "source": []
  },
  {
   "cell_type": "code",
   "execution_count": 22,
   "id": "4a527a5b-eef0-4234-ad1e-a7903384735c",
   "metadata": {},
   "outputs": [],
   "source": [
    "# Fitting Polynomial Regression to the dataset\n",
    "from sklearn.preprocessing import PolynomialFeatures\n",
    "\n",
    "poly = PolynomialFeatures(degree=1)\n",
    "X_poly = poly.fit_transform(X_train)\n",
    "\n",
    "poly.fit(X_poly, y_train)\n",
    "lin2 = LinearRegression()\n",
    "lin2.fit(X_poly, y_train)\n",
    "\n",
    "y_pred =  lin2.predict(poly.fit_transform(X_test))\n",
    "errors_pr = mean_absolute_error(y_test, y_pred)"
   ]
  },
  {
   "cell_type": "markdown",
   "id": "c675529a-50b8-496d-9837-c6af550d08ce",
   "metadata": {},
   "source": [
    "### Decision Tree Regression"
   ]
  },
  {
   "cell_type": "code",
   "execution_count": 23,
   "id": "b1907475-e548-43ff-8a84-39e6603386f8",
   "metadata": {},
   "outputs": [
    {
     "data": {
      "text/plain": [
       "<Figure size 2500x2000 with 0 Axes>"
      ]
     },
     "metadata": {},
     "output_type": "display_data"
    }
   ],
   "source": [
    "from sklearn.tree import DecisionTreeRegressor\n",
    "# Fit regression model\n",
    "Regressor = DecisionTreeRegressor()\n",
    "Regressor.fit(X_train, y_train)\n",
    "y_pred = Regressor.predict(X_test)\n",
    "\n",
    "from sklearn.metrics import accuracy_score\n",
    "from sklearn import tree\n",
    "\n",
    "features = data.columns\n",
    "features = features[:-1]\n",
    "features\n",
    "\n",
    "fig = plt.figure(figsize=(25,20))\n",
    "#plot = tree.plot_tree(Regressor, feature_names=features, filled=True)\n",
    "\n",
    "from sklearn import tree\n",
    "#print(tree.export_text(Regressor))\n",
    "\n",
    "\n",
    "from sklearn.metrics import mean_squared_error\n",
    "errors = mean_squared_error(y_test, y_pred)\n",
    "# example of calculate the root mean squared error\n",
    "errors_dt = mean_absolute_error(y_test, y_pred)"
   ]
  },
  {
   "cell_type": "markdown",
   "id": "9b5b22c7-b96c-4f66-9c24-9d47575eceaa",
   "metadata": {},
   "source": [
    "### Random Forest "
   ]
  },
  {
   "cell_type": "code",
   "execution_count": 24,
   "id": "dfcd4361-ed85-4b61-9e39-06d2e738f2b3",
   "metadata": {},
   "outputs": [],
   "source": [
    "from sklearn.ensemble import RandomForestRegressor\n",
    "\n",
    "# Instantiate model with 1000 decision trees\n",
    "rf = RandomForestRegressor(n_estimators = 1000, random_state = 42)\n",
    "# Train the model on training data\n",
    "rf.fit(X_train, y_train)\n",
    "\n",
    "# Use the forest's predict method on the test data\n",
    "y_pred = rf.predict(X_test)\n",
    "errors_rf = mean_absolute_error(y_test, y_pred)"
   ]
  },
  {
   "cell_type": "code",
   "execution_count": 25,
   "id": "594debd6-ccc4-425c-9e03-5c77d8a3e052",
   "metadata": {},
   "outputs": [],
   "source": [
    "from sklearn.svm import SVR\n",
    "regressor = SVR(kernel = 'rbf')\n",
    "regressor.fit(X_train, y_train)\n",
    "y_pred = regressor.predict(X_test)\n",
    "#y_pred = sc_y.inverse_transform(y_pred) \n",
    "y_pred\n",
    "errors_sm = mean_absolute_error(y_test, y_pred)"
   ]
  },
  {
   "cell_type": "code",
   "execution_count": 26,
   "id": "e4e716ba-81e4-4727-b9bf-791e5f0e83bd",
   "metadata": {},
   "outputs": [
    {
     "data": {
      "text/html": [
       "<div>\n",
       "<style scoped>\n",
       "    .dataframe tbody tr th:only-of-type {\n",
       "        vertical-align: middle;\n",
       "    }\n",
       "\n",
       "    .dataframe tbody tr th {\n",
       "        vertical-align: top;\n",
       "    }\n",
       "\n",
       "    .dataframe thead th {\n",
       "        text-align: right;\n",
       "    }\n",
       "</style>\n",
       "<table border=\"1\" class=\"dataframe\">\n",
       "  <thead>\n",
       "    <tr style=\"text-align: right;\">\n",
       "      <th></th>\n",
       "      <th>Attr</th>\n",
       "      <th>LR</th>\n",
       "      <th>Ply</th>\n",
       "      <th>DT</th>\n",
       "      <th>RF</th>\n",
       "      <th>SVM</th>\n",
       "    </tr>\n",
       "  </thead>\n",
       "  <tbody>\n",
       "    <tr>\n",
       "      <th>0</th>\n",
       "      <td>Error</td>\n",
       "      <td>4291.357721</td>\n",
       "      <td>4291.357721</td>\n",
       "      <td>3706.500141</td>\n",
       "      <td>3017.481552</td>\n",
       "      <td>7534.725342</td>\n",
       "    </tr>\n",
       "    <tr>\n",
       "      <th>1</th>\n",
       "      <td>CL_2</td>\n",
       "      <td>4447.717965</td>\n",
       "      <td>4447.717965</td>\n",
       "      <td>3373.516351</td>\n",
       "      <td>2991.667965</td>\n",
       "      <td>7809.387437</td>\n",
       "    </tr>\n",
       "  </tbody>\n",
       "</table>\n",
       "</div>"
      ],
      "text/plain": [
       "    Attr           LR          Ply           DT           RF          SVM\n",
       "0  Error  4291.357721  4291.357721  3706.500141  3017.481552  7534.725342\n",
       "1   CL_2  4447.717965  4447.717965  3373.516351  2991.667965  7809.387437"
      ]
     },
     "execution_count": 26,
     "metadata": {},
     "output_type": "execute_result"
    }
   ],
   "source": [
    "import pandas as pd\n",
    "#error = {errors_lr, errors_pr, errors_dt, errors_rf, errors_sm}\n",
    "error1 = {\"Attr\": \"CL_2\", \"LR\": errors_lr, \"Ply\": errors_pr, \"DT\":errors_dt, \"RF\":errors_rf , \"SVM\":errors_sm}\n",
    "\n",
    "error = error._append(error1, ignore_index=True)\n",
    "\n",
    "error"
   ]
  },
  {
   "cell_type": "markdown",
   "id": "8df485c4-c73e-4568-811d-da88c78ae58b",
   "metadata": {},
   "source": [
    "## Cross Vaidation when N splits = 5"
   ]
  },
  {
   "cell_type": "code",
   "execution_count": 27,
   "id": "80bcae5d-ee6c-42ce-b410-66e54b6028a1",
   "metadata": {},
   "outputs": [],
   "source": [
    "from sklearn.model_selection import cross_val_score\n",
    "from sklearn.model_selection import KFold\n",
    "from sklearn.model_selection import GridSearchCV\n",
    "from sklearn.pipeline import make_pipeline\n",
    "\n",
    "from sklearn.model_selection import KFold\n",
    "kf = KFold(n_splits=5)\n",
    "\n",
    "for train_index, test_index in kf.split(X):\n",
    "    #print(\"TRAIN:\", train_index, \"TEST:\", test_index)\n",
    "    X_train, X_test = X[train_index], X[test_index]\n",
    "    y_train, y_test = y[train_index], y[test_index]"
   ]
  },
  {
   "cell_type": "code",
   "execution_count": null,
   "id": "9cffdcca-2a51-49b5-971d-71b5b1b4bf69",
   "metadata": {},
   "outputs": [],
   "source": []
  },
  {
   "cell_type": "code",
   "execution_count": 28,
   "id": "bedc5a84-4134-4491-b4a3-e03441df919e",
   "metadata": {},
   "outputs": [
    {
     "name": "stdout",
     "output_type": "stream",
     "text": [
      "Reg_Score 0.7503629482414114\n",
      "Coefficient [3867.58403472  274.93353687 1868.26826993  325.41054813 9132.10288926\n",
      " -169.59312957]\n",
      "Intercept 13133.700597034263\n"
     ]
    }
   ],
   "source": [
    "from sklearn.linear_model import LinearRegression\n",
    "reg = LinearRegression().fit(X_train, y_train)\n",
    "print(\"Reg_Score\" , reg.score(X_train, y_train))\n",
    "print(\"Coefficient\",  reg.coef_)\n",
    "print(\"Intercept\",  reg.intercept_)\n",
    "y_pred =  reg.predict(X_test)\n",
    "errors_lr = mean_absolute_error(y_test, y_pred)"
   ]
  },
  {
   "cell_type": "code",
   "execution_count": 29,
   "id": "9815b86c-b629-4ded-9bbc-a8fd26dceb21",
   "metadata": {},
   "outputs": [
    {
     "data": {
      "text/plain": [
       "4542.904990326425"
      ]
     },
     "execution_count": 29,
     "metadata": {},
     "output_type": "execute_result"
    }
   ],
   "source": [
    "errors_lr"
   ]
  },
  {
   "cell_type": "code",
   "execution_count": null,
   "id": "0cf34d57-02bd-4b5c-ae8f-e5d06d1fb8c5",
   "metadata": {},
   "outputs": [],
   "source": []
  },
  {
   "cell_type": "code",
   "execution_count": 30,
   "id": "aa7bd0e2-c679-42d2-a7aa-a03cde15a7bb",
   "metadata": {},
   "outputs": [],
   "source": [
    "# Fitting Polynomial Regression to the dataset\n",
    "from sklearn.preprocessing import PolynomialFeatures\n",
    "\n",
    "poly = PolynomialFeatures(degree=1)\n",
    "X_poly = poly.fit_transform(X_train)\n",
    "\n",
    "poly.fit(X_poly, y_train)\n",
    "lin2 = LinearRegression()\n",
    "lin2.fit(X_poly, y_train)\n",
    "\n",
    "y_pred =  lin2.predict(poly.fit_transform(X_test))\n",
    "errors_pr = mean_absolute_error(y_test, y_pred)"
   ]
  },
  {
   "cell_type": "markdown",
   "id": "4aafbde5-7c67-4894-9107-35ecd5d3ee8e",
   "metadata": {},
   "source": [
    "### Decision Tree Regression"
   ]
  },
  {
   "cell_type": "code",
   "execution_count": 31,
   "id": "ab6fd537-5039-4472-aebc-77157d670099",
   "metadata": {},
   "outputs": [],
   "source": [
    "from sklearn.tree import DecisionTreeRegressor\n",
    "# Fit regression model\n",
    "Regressor = DecisionTreeRegressor()\n",
    "Regressor.fit(X_train, y_train)\n",
    "y_pred = Regressor.predict(X_test)\n",
    "#print(y_pred)\n",
    "\n",
    "from sklearn.metrics import accuracy_score\n",
    "from sklearn import tree\n",
    "\n",
    "features = data.columns\n",
    "features = features[:-1]\n",
    "features\n",
    "\n",
    "#fig = plt.figure(figsize=(25,20))\n",
    "#plot = tree.plot_tree(Regressor, feature_names=features, filled=True)\n",
    "\n",
    "from sklearn import tree\n",
    "#print(tree.export_text(Regressor))\n",
    "\n",
    "\n",
    "from sklearn.metrics import mean_squared_error\n",
    "errors = mean_squared_error(y_test, y_pred)\n",
    "# example of calculate the root mean squared error\n",
    "errors_dt = mean_absolute_error(y_test, y_pred)"
   ]
  },
  {
   "cell_type": "markdown",
   "id": "ccbf77bd-da66-4b91-b31a-f1115b583eb8",
   "metadata": {},
   "source": [
    "### Random Forest "
   ]
  },
  {
   "cell_type": "code",
   "execution_count": 32,
   "id": "c99be883-2d56-4619-8ca6-c8afa01b7a41",
   "metadata": {},
   "outputs": [],
   "source": [
    "from sklearn.ensemble import RandomForestRegressor\n",
    "\n",
    "# Instantiate model with 1000 decision trees\n",
    "rf = RandomForestRegressor(n_estimators = 1000, random_state = 42)\n",
    "# Train the model on training data\n",
    "rf.fit(X_train, y_train)\n",
    "\n",
    "# Use the forest's predict method on the test data\n",
    "y_pred = rf.predict(X_test)\n",
    "errors_rf = mean_absolute_error(y_test, y_pred)"
   ]
  },
  {
   "cell_type": "code",
   "execution_count": 33,
   "id": "b418e219-4576-4185-b5c3-0d27856413e0",
   "metadata": {},
   "outputs": [],
   "source": [
    "from sklearn.svm import SVR\n",
    "regressor = SVR(kernel = 'rbf')\n",
    "regressor.fit(X_train, y_train)\n",
    "y_pred = regressor.predict(X_test)\n",
    "#y_pred = sc_y.inverse_transform(y_pred) \n",
    "y_pred\n",
    "errors_sm = mean_absolute_error(y_test, y_pred)"
   ]
  },
  {
   "cell_type": "code",
   "execution_count": 34,
   "id": "d968cbdc-b249-43ca-9a52-d87c763dd4fc",
   "metadata": {
    "scrolled": true
   },
   "outputs": [
    {
     "data": {
      "text/html": [
       "<div>\n",
       "<style scoped>\n",
       "    .dataframe tbody tr th:only-of-type {\n",
       "        vertical-align: middle;\n",
       "    }\n",
       "\n",
       "    .dataframe tbody tr th {\n",
       "        vertical-align: top;\n",
       "    }\n",
       "\n",
       "    .dataframe thead th {\n",
       "        text-align: right;\n",
       "    }\n",
       "</style>\n",
       "<table border=\"1\" class=\"dataframe\">\n",
       "  <thead>\n",
       "    <tr style=\"text-align: right;\">\n",
       "      <th></th>\n",
       "      <th>Attr</th>\n",
       "      <th>LR</th>\n",
       "      <th>Ply</th>\n",
       "      <th>DT</th>\n",
       "      <th>RF</th>\n",
       "      <th>SVM</th>\n",
       "    </tr>\n",
       "  </thead>\n",
       "  <tbody>\n",
       "    <tr>\n",
       "      <th>0</th>\n",
       "      <td>Error</td>\n",
       "      <td>4291.357721</td>\n",
       "      <td>4291.357721</td>\n",
       "      <td>3706.500141</td>\n",
       "      <td>3017.481552</td>\n",
       "      <td>7534.725342</td>\n",
       "    </tr>\n",
       "    <tr>\n",
       "      <th>1</th>\n",
       "      <td>CL_2</td>\n",
       "      <td>4447.717965</td>\n",
       "      <td>4447.717965</td>\n",
       "      <td>3373.516351</td>\n",
       "      <td>2991.667965</td>\n",
       "      <td>7809.387437</td>\n",
       "    </tr>\n",
       "    <tr>\n",
       "      <th>2</th>\n",
       "      <td>CV_5</td>\n",
       "      <td>4542.904990</td>\n",
       "      <td>4542.904990</td>\n",
       "      <td>3107.366576</td>\n",
       "      <td>3355.681216</td>\n",
       "      <td>8109.292842</td>\n",
       "    </tr>\n",
       "  </tbody>\n",
       "</table>\n",
       "</div>"
      ],
      "text/plain": [
       "    Attr           LR          Ply           DT           RF          SVM\n",
       "0  Error  4291.357721  4291.357721  3706.500141  3017.481552  7534.725342\n",
       "1   CL_2  4447.717965  4447.717965  3373.516351  2991.667965  7809.387437\n",
       "2   CV_5  4542.904990  4542.904990  3107.366576  3355.681216  8109.292842"
      ]
     },
     "execution_count": 34,
     "metadata": {},
     "output_type": "execute_result"
    }
   ],
   "source": [
    "import pandas as pd\n",
    "var = \"CV_5\"\n",
    "#error = {errors_lr, errors_pr, errors_dt, errors_rf, errors_sm}\n",
    "error1 = {\"Attr\": var, \"LR\": errors_lr, \"Ply\": errors_pr, \"DT\":errors_dt, \"RF\":errors_rf , \"SVM\":errors_sm}\n",
    "\n",
    "error = error._append(error1, ignore_index=True)\n",
    "\n",
    "error"
   ]
  },
  {
   "cell_type": "code",
   "execution_count": null,
   "id": "d1da1d8a-e40b-44a8-8b92-0a4eefe7b8cb",
   "metadata": {},
   "outputs": [],
   "source": []
  },
  {
   "cell_type": "markdown",
   "id": "0ae68d7f-a54a-4182-ae70-0f2d05123e6b",
   "metadata": {},
   "source": [
    "## Cross Validation when k-folds is 10"
   ]
  },
  {
   "cell_type": "code",
   "execution_count": 35,
   "id": "3c5b7b10-ee1d-4e69-a477-c0a31e58f200",
   "metadata": {},
   "outputs": [],
   "source": [
    "from sklearn.model_selection import cross_val_score\n",
    "from sklearn.model_selection import KFold\n",
    "from sklearn.model_selection import GridSearchCV\n",
    "from sklearn.pipeline import make_pipeline\n",
    "\n",
    "folds = KFold(n_splits = 5, shuffle = True, random_state = 100)\n",
    "scores = cross_val_score(reg, X_train, y_train, scoring='r2', cv=folds)\n",
    "scores  \n",
    "y_pred_1 =  reg.predict(X_test)\n",
    "errors_lr = mean_absolute_error(y_test, y_pred_1)\n",
    "errors_lr\n",
    "\n",
    "from sklearn.model_selection import KFold\n",
    "kf = KFold(n_splits=10)\n",
    "\n",
    "for train_index, test_index in kf.split(X):\n",
    "    #print(\"TRAIN:\", train_index, \"TEST:\", test_index)\n",
    "    X_train, X_test = X[train_index], X[test_index]\n",
    "    y_train, y_test = y[train_index], y[test_index]"
   ]
  },
  {
   "cell_type": "code",
   "execution_count": null,
   "id": "b849ba0c-82a6-42a1-85d0-2796d6d71275",
   "metadata": {},
   "outputs": [],
   "source": []
  },
  {
   "cell_type": "code",
   "execution_count": 36,
   "id": "b7152e82-12b9-4ae0-99a0-3c65395fc842",
   "metadata": {},
   "outputs": [
    {
     "name": "stdout",
     "output_type": "stream",
     "text": [
      "Reg_Score 0.7389955078968944\n",
      "Coefficient [3761.55788428  166.33716843 1864.15409017  212.09707296 9180.13519857\n",
      " -233.39231623]\n",
      "Intercept 13211.337577859751\n"
     ]
    }
   ],
   "source": [
    "from sklearn.linear_model import LinearRegression\n",
    "reg = LinearRegression().fit(X_train, y_train)\n",
    "print(\"Reg_Score\" , reg.score(X_train, y_train))\n",
    "print(\"Coefficient\",  reg.coef_)\n",
    "print(\"Intercept\",  reg.intercept_)\n",
    "y_pred =  reg.predict(X_test)\n",
    "errors_lr = mean_absolute_error(y_test, y_pred)"
   ]
  },
  {
   "cell_type": "code",
   "execution_count": 37,
   "id": "b59f5d1b-03b5-4b8d-8658-64518a433ee8",
   "metadata": {},
   "outputs": [
    {
     "data": {
      "text/plain": [
       "4555.98237123932"
      ]
     },
     "execution_count": 37,
     "metadata": {},
     "output_type": "execute_result"
    }
   ],
   "source": [
    "errors_lr"
   ]
  },
  {
   "cell_type": "code",
   "execution_count": null,
   "id": "dc93b9f8-b522-4c57-91ea-91d381185d58",
   "metadata": {},
   "outputs": [],
   "source": []
  },
  {
   "cell_type": "code",
   "execution_count": 38,
   "id": "cc4273eb-9a9d-462d-9774-a931a37bbe8f",
   "metadata": {},
   "outputs": [],
   "source": [
    "# Fitting Polynomial Regression to the dataset\n",
    "from sklearn.preprocessing import PolynomialFeatures\n",
    "\n",
    "poly = PolynomialFeatures(degree=1)\n",
    "X_poly = poly.fit_transform(X_train)\n",
    "\n",
    "poly.fit(X_poly, y_train)\n",
    "lin2 = LinearRegression()\n",
    "lin2.fit(X_poly, y_train)\n",
    "\n",
    "y_pred =  lin2.predict(poly.fit_transform(X_test))\n",
    "errors_pr = mean_absolute_error(y_test, y_pred)"
   ]
  },
  {
   "cell_type": "markdown",
   "id": "c088f57e-b857-47d6-8b3c-7d0ebc185a2a",
   "metadata": {},
   "source": [
    "### Decision Tree Regression"
   ]
  },
  {
   "cell_type": "code",
   "execution_count": 39,
   "id": "2a9db0bb-0f68-4227-8c3a-37cfe76f6f3d",
   "metadata": {},
   "outputs": [
    {
     "data": {
      "text/plain": [
       "<Figure size 2500x2000 with 0 Axes>"
      ]
     },
     "metadata": {},
     "output_type": "display_data"
    }
   ],
   "source": [
    "from sklearn.tree import DecisionTreeRegressor\n",
    "# Fit regression model\n",
    "Regressor = DecisionTreeRegressor()\n",
    "Regressor.fit(X_train, y_train)\n",
    "y_pred = Regressor.predict(X_test)\n",
    "\n",
    "from sklearn.metrics import accuracy_score\n",
    "from sklearn import tree\n",
    "\n",
    "features = data.columns\n",
    "features = features[:-1]\n",
    "features\n",
    "\n",
    "fig = plt.figure(figsize=(25,20))\n",
    "#plot = tree.plot_tree(Regressor, feature_names=features, filled=True)\n",
    "\n",
    "from sklearn import tree\n",
    "#print(tree.export_text(Regressor))\n",
    "\n",
    "\n",
    "from sklearn.metrics import mean_squared_error\n",
    "errors = mean_squared_error(y_test, y_pred)\n",
    "# example of calculate the root mean squared error\n",
    "errors_dt = mean_absolute_error(y_test, y_pred)"
   ]
  },
  {
   "cell_type": "markdown",
   "id": "9bd83d44-c5be-4e12-b44c-794bce210e85",
   "metadata": {},
   "source": [
    "### Random Forest "
   ]
  },
  {
   "cell_type": "code",
   "execution_count": 40,
   "id": "ae341a21-4c79-4126-81cf-5a8bcdeed183",
   "metadata": {},
   "outputs": [],
   "source": [
    "from sklearn.ensemble import RandomForestRegressor\n",
    "\n",
    "# Instantiate model with 1000 decision trees\n",
    "rf = RandomForestRegressor(n_estimators = 1000, random_state = 42)\n",
    "# Train the model on training data\n",
    "rf.fit(X_train, y_train)\n",
    "\n",
    "# Use the forest's predict method on the test data\n",
    "y_pred = rf.predict(X_test)\n",
    "errors_rf = mean_absolute_error(y_test, y_pred)"
   ]
  },
  {
   "cell_type": "code",
   "execution_count": 41,
   "id": "07938422-5d82-42df-ac42-709d7e531df3",
   "metadata": {},
   "outputs": [],
   "source": [
    "from sklearn.svm import SVR\n",
    "regressor = SVR(kernel = 'rbf')\n",
    "regressor.fit(X_train, y_train)\n",
    "y_pred = regressor.predict(X_test)\n",
    "#y_pred = sc_y.inverse_transform(y_pred) \n",
    "y_pred\n",
    "errors_sm = mean_absolute_error(y_test, y_pred)"
   ]
  },
  {
   "cell_type": "code",
   "execution_count": 42,
   "id": "b646d240-b4b7-40d4-b158-f503c8c11e03",
   "metadata": {},
   "outputs": [
    {
     "data": {
      "text/html": [
       "<div>\n",
       "<style scoped>\n",
       "    .dataframe tbody tr th:only-of-type {\n",
       "        vertical-align: middle;\n",
       "    }\n",
       "\n",
       "    .dataframe tbody tr th {\n",
       "        vertical-align: top;\n",
       "    }\n",
       "\n",
       "    .dataframe thead th {\n",
       "        text-align: right;\n",
       "    }\n",
       "</style>\n",
       "<table border=\"1\" class=\"dataframe\">\n",
       "  <thead>\n",
       "    <tr style=\"text-align: right;\">\n",
       "      <th></th>\n",
       "      <th>Attr</th>\n",
       "      <th>LR</th>\n",
       "      <th>Ply</th>\n",
       "      <th>DT</th>\n",
       "      <th>RF</th>\n",
       "      <th>SVM</th>\n",
       "    </tr>\n",
       "  </thead>\n",
       "  <tbody>\n",
       "    <tr>\n",
       "      <th>0</th>\n",
       "      <td>Error</td>\n",
       "      <td>4291.357721</td>\n",
       "      <td>4291.357721</td>\n",
       "      <td>3706.500141</td>\n",
       "      <td>3017.481552</td>\n",
       "      <td>7534.725342</td>\n",
       "    </tr>\n",
       "    <tr>\n",
       "      <th>1</th>\n",
       "      <td>CL_2</td>\n",
       "      <td>4447.717965</td>\n",
       "      <td>4447.717965</td>\n",
       "      <td>3373.516351</td>\n",
       "      <td>2991.667965</td>\n",
       "      <td>7809.387437</td>\n",
       "    </tr>\n",
       "    <tr>\n",
       "      <th>2</th>\n",
       "      <td>CV_5</td>\n",
       "      <td>4542.904990</td>\n",
       "      <td>4542.904990</td>\n",
       "      <td>3107.366576</td>\n",
       "      <td>3355.681216</td>\n",
       "      <td>8109.292842</td>\n",
       "    </tr>\n",
       "    <tr>\n",
       "      <th>3</th>\n",
       "      <td>kfolds_is_10</td>\n",
       "      <td>4555.982371</td>\n",
       "      <td>4555.982371</td>\n",
       "      <td>3977.705468</td>\n",
       "      <td>3428.890650</td>\n",
       "      <td>8667.894972</td>\n",
       "    </tr>\n",
       "  </tbody>\n",
       "</table>\n",
       "</div>"
      ],
      "text/plain": [
       "           Attr           LR          Ply           DT           RF  \\\n",
       "0         Error  4291.357721  4291.357721  3706.500141  3017.481552   \n",
       "1          CL_2  4447.717965  4447.717965  3373.516351  2991.667965   \n",
       "2          CV_5  4542.904990  4542.904990  3107.366576  3355.681216   \n",
       "3  kfolds_is_10  4555.982371  4555.982371  3977.705468  3428.890650   \n",
       "\n",
       "           SVM  \n",
       "0  7534.725342  \n",
       "1  7809.387437  \n",
       "2  8109.292842  \n",
       "3  8667.894972  "
      ]
     },
     "execution_count": 42,
     "metadata": {},
     "output_type": "execute_result"
    }
   ],
   "source": [
    "var = \"kfolds_is_10\"\n",
    "#error = {errors_lr, errors_pr, errors_dt, errors_rf, errors_sm}\n",
    "error1 = {\"Attr\": var, \"LR\": errors_lr, \"Ply\": errors_pr, \"DT\":errors_dt, \"RF\":errors_rf , \"SVM\":errors_sm}\n",
    "\n",
    "error = error._append(error1, ignore_index=True)\n",
    "\n",
    "error"
   ]
  },
  {
   "cell_type": "markdown",
   "id": "365e2802-949d-49a1-990c-40d107fe75c0",
   "metadata": {},
   "source": [
    "## LeaveOneOut Cross Validation"
   ]
  },
  {
   "cell_type": "code",
   "execution_count": 43,
   "id": "7987d0f6-d613-4ec8-a780-b2392879fd1e",
   "metadata": {},
   "outputs": [],
   "source": [
    "## import numpy as np\n",
    "from sklearn.model_selection import LeaveOneOut\n",
    "loo = LeaveOneOut()\n",
    "\n",
    "for train_index, test_index in loo.split(X):\n",
    "    #print(\"TRAIN:\", train_index, \"TEST:\", test_index)\n",
    "    X_train, X_test = X[train_index], X[test_index]\n",
    "    y_train, y_test = y[train_index], y[test_index]"
   ]
  },
  {
   "cell_type": "code",
   "execution_count": 44,
   "id": "84579f47-967b-444a-b46c-64bc9c8d9926",
   "metadata": {},
   "outputs": [
    {
     "name": "stdout",
     "output_type": "stream",
     "text": [
      "Reg_Score 0.7434418285542999\n",
      "Coefficient [3767.2085006   -52.71954256 1983.30952058  172.63433995 9485.39997943\n",
      " -351.32171305]\n",
      "Intercept 13247.30654008134\n"
     ]
    }
   ],
   "source": [
    "from sklearn.linear_model import LinearRegression\n",
    "reg = LinearRegression().fit(X_train, y_train)\n",
    "print(\"Reg_Score\" , reg.score(X_train, y_train))\n",
    "print(\"Coefficient\",  reg.coef_)\n",
    "print(\"Intercept\",  reg.intercept_)\n",
    "y_pred =  reg.predict(X_test)\n",
    "errors_lr = mean_absolute_error(y_test, y_pred)"
   ]
  },
  {
   "cell_type": "code",
   "execution_count": 45,
   "id": "0e51eb79-0ad7-4d70-8747-74b52ecf93b9",
   "metadata": {},
   "outputs": [],
   "source": [
    "# Fitting Polynomial Regression to the dataset\n",
    "from sklearn.preprocessing import PolynomialFeatures\n",
    "\n",
    "poly = PolynomialFeatures(degree=1)\n",
    "X_poly = poly.fit_transform(X_train)\n",
    "\n",
    "poly.fit(X_poly, y_train)\n",
    "lin2 = LinearRegression()\n",
    "lin2.fit(X_poly, y_train)\n",
    "\n",
    "y_pred =  lin2.predict(poly.fit_transform(X_test))\n",
    "errors_pr = mean_absolute_error(y_test, y_pred)"
   ]
  },
  {
   "cell_type": "markdown",
   "id": "538b9fa7-bffe-40fb-8408-410a67e61fe5",
   "metadata": {},
   "source": [
    "### Decision Tree Regression"
   ]
  },
  {
   "cell_type": "code",
   "execution_count": 46,
   "id": "91916b78-6136-4479-9454-f99a3163e8e5",
   "metadata": {},
   "outputs": [
    {
     "data": {
      "text/plain": [
       "<Figure size 2500x2000 with 0 Axes>"
      ]
     },
     "metadata": {},
     "output_type": "display_data"
    }
   ],
   "source": [
    "from sklearn.tree import DecisionTreeRegressor\n",
    "# Fit regression model\n",
    "Regressor = DecisionTreeRegressor()\n",
    "Regressor.fit(X_train, y_train)\n",
    "y_pred = Regressor.predict(X_test)\n",
    "\n",
    "from sklearn.metrics import accuracy_score\n",
    "from sklearn import tree\n",
    "\n",
    "features = data.columns\n",
    "features = features[:-1]\n",
    "features\n",
    "\n",
    "fig = plt.figure(figsize=(25,20))\n",
    "#plot = tree.plot_tree(Regressor, feature_names=features, filled=True)\n",
    "\n",
    "from sklearn import tree\n",
    "#print(tree.export_text(Regressor))\n",
    "\n",
    "\n",
    "from sklearn.metrics import mean_squared_error\n",
    "errors = mean_squared_error(y_test, y_pred)\n",
    "# example of calculate the root mean squared error\n",
    "errors_dt = mean_absolute_error(y_test, y_pred)"
   ]
  },
  {
   "cell_type": "markdown",
   "id": "609eeeea-3cc9-44a6-99ba-788621354f20",
   "metadata": {},
   "source": [
    "### Random Forest "
   ]
  },
  {
   "cell_type": "code",
   "execution_count": 47,
   "id": "5bae6ad4-84f9-4424-916c-66b1cd23ed29",
   "metadata": {},
   "outputs": [],
   "source": [
    "from sklearn.ensemble import RandomForestRegressor\n",
    "\n",
    "# Instantiate model with 1000 decision trees\n",
    "rf = RandomForestRegressor(n_estimators = 1000, random_state = 42)\n",
    "# Train the model on training data\n",
    "rf.fit(X_train, y_train)\n",
    "\n",
    "# Use the forest's predict method on the test data\n",
    "y_pred = rf.predict(X_test)\n",
    "errors_rf = mean_absolute_error(y_test, y_pred)"
   ]
  },
  {
   "cell_type": "code",
   "execution_count": 48,
   "id": "84c8be7c-21c7-4d51-b21e-fc78523ff56f",
   "metadata": {},
   "outputs": [],
   "source": [
    "from sklearn.svm import SVR\n",
    "regressor = SVR(kernel = 'rbf')\n",
    "regressor.fit(X_train, y_train)\n",
    "y_pred = regressor.predict(X_test)\n",
    "#y_pred = sc_y.inverse_transform(y_pred) \n",
    "y_pred\n",
    "errors_sm = mean_absolute_error(y_test, y_pred)"
   ]
  },
  {
   "cell_type": "code",
   "execution_count": 49,
   "id": "00dd3d7c-4ab4-4960-bd29-4237a7b5c35c",
   "metadata": {},
   "outputs": [
    {
     "data": {
      "text/html": [
       "<div>\n",
       "<style scoped>\n",
       "    .dataframe tbody tr th:only-of-type {\n",
       "        vertical-align: middle;\n",
       "    }\n",
       "\n",
       "    .dataframe tbody tr th {\n",
       "        vertical-align: top;\n",
       "    }\n",
       "\n",
       "    .dataframe thead th {\n",
       "        text-align: right;\n",
       "    }\n",
       "</style>\n",
       "<table border=\"1\" class=\"dataframe\">\n",
       "  <thead>\n",
       "    <tr style=\"text-align: right;\">\n",
       "      <th></th>\n",
       "      <th>Attr</th>\n",
       "      <th>LR</th>\n",
       "      <th>Ply</th>\n",
       "      <th>DT</th>\n",
       "      <th>RF</th>\n",
       "      <th>SVM</th>\n",
       "    </tr>\n",
       "  </thead>\n",
       "  <tbody>\n",
       "    <tr>\n",
       "      <th>0</th>\n",
       "      <td>Error</td>\n",
       "      <td>4291.357721</td>\n",
       "      <td>4291.357721</td>\n",
       "      <td>3706.500141</td>\n",
       "      <td>3017.481552</td>\n",
       "      <td>7534.725342</td>\n",
       "    </tr>\n",
       "    <tr>\n",
       "      <th>1</th>\n",
       "      <td>CL_2</td>\n",
       "      <td>4447.717965</td>\n",
       "      <td>4447.717965</td>\n",
       "      <td>3373.516351</td>\n",
       "      <td>2991.667965</td>\n",
       "      <td>7809.387437</td>\n",
       "    </tr>\n",
       "    <tr>\n",
       "      <th>2</th>\n",
       "      <td>CV_5</td>\n",
       "      <td>4542.904990</td>\n",
       "      <td>4542.904990</td>\n",
       "      <td>3107.366576</td>\n",
       "      <td>3355.681216</td>\n",
       "      <td>8109.292842</td>\n",
       "    </tr>\n",
       "    <tr>\n",
       "      <th>3</th>\n",
       "      <td>kfolds_is_10</td>\n",
       "      <td>4555.982371</td>\n",
       "      <td>4555.982371</td>\n",
       "      <td>3977.705468</td>\n",
       "      <td>3428.890650</td>\n",
       "      <td>8667.894972</td>\n",
       "    </tr>\n",
       "    <tr>\n",
       "      <th>4</th>\n",
       "      <td>LeaveOneOut</td>\n",
       "      <td>19076.812120</td>\n",
       "      <td>19076.812120</td>\n",
       "      <td>22075.071690</td>\n",
       "      <td>22097.302604</td>\n",
       "      <td>24100.990142</td>\n",
       "    </tr>\n",
       "  </tbody>\n",
       "</table>\n",
       "</div>"
      ],
      "text/plain": [
       "           Attr            LR           Ply            DT            RF  \\\n",
       "0         Error   4291.357721   4291.357721   3706.500141   3017.481552   \n",
       "1          CL_2   4447.717965   4447.717965   3373.516351   2991.667965   \n",
       "2          CV_5   4542.904990   4542.904990   3107.366576   3355.681216   \n",
       "3  kfolds_is_10   4555.982371   4555.982371   3977.705468   3428.890650   \n",
       "4   LeaveOneOut  19076.812120  19076.812120  22075.071690  22097.302604   \n",
       "\n",
       "            SVM  \n",
       "0   7534.725342  \n",
       "1   7809.387437  \n",
       "2   8109.292842  \n",
       "3   8667.894972  \n",
       "4  24100.990142  "
      ]
     },
     "execution_count": 49,
     "metadata": {},
     "output_type": "execute_result"
    }
   ],
   "source": [
    "import pandas as pd\n",
    "var = \"LeaveOneOut\"\n",
    "#error = {errors_lr, errors_pr, errors_dt, errors_rf, errors_sm}\n",
    "error1 = {\"Attr\": var, \"LR\": errors_lr, \"Ply\": errors_pr, \"DT\":errors_dt, \"RF\":errors_rf , \"SVM\":errors_sm}\n",
    "\n",
    "error = error._append(error1, ignore_index=True)\n",
    "\n",
    "error"
   ]
  },
  {
   "cell_type": "markdown",
   "id": "07aca192-20b2-4860-9218-3885eb2ae617",
   "metadata": {},
   "source": [
    "## Repeated K-Fold Cross-Validation when n = 2"
   ]
  },
  {
   "cell_type": "code",
   "execution_count": 50,
   "id": "e00555c7-f447-4dfb-80df-ef65e36005af",
   "metadata": {},
   "outputs": [],
   "source": [
    "import numpy as np\n",
    "from sklearn.model_selection import RepeatedKFold\n",
    "\n",
    "rkf = RepeatedKFold(n_splits=2, n_repeats=2, random_state=42)\n",
    "for train_index, test_index in rkf.split(X):\n",
    "#    print(\"TRAIN:\", train_index, \"TEST:\", test_index)\n",
    "    X_train, X_test = X[train_index], X[test_index]\n",
    "    y_train, y_test = y[train_index], y[test_index]"
   ]
  },
  {
   "cell_type": "code",
   "execution_count": null,
   "id": "008e5e0d-d3ff-4336-8b14-c06ddf31452e",
   "metadata": {},
   "outputs": [],
   "source": []
  },
  {
   "cell_type": "code",
   "execution_count": 51,
   "id": "c9e259d6-7c1c-4e19-af0d-9c4964647ce0",
   "metadata": {},
   "outputs": [
    {
     "name": "stdout",
     "output_type": "stream",
     "text": [
      "Reg_Score 0.7375694908511901\n",
      "Coefficient [3674.47346469   42.73049772 2137.83827875  467.99829407 9588.89376588\n",
      " -336.38093314]\n",
      "Intercept 13548.552253343689\n"
     ]
    }
   ],
   "source": [
    "from sklearn.linear_model import LinearRegression\n",
    "reg = LinearRegression().fit(X_train, y_train)\n",
    "print(\"Reg_Score\" , reg.score(X_train, y_train))\n",
    "print(\"Coefficient\",  reg.coef_)\n",
    "print(\"Intercept\",  reg.intercept_)\n",
    "y_pred =  reg.predict(X_test)\n",
    "errors_lr = mean_absolute_error(y_test, y_pred)"
   ]
  },
  {
   "cell_type": "code",
   "execution_count": 52,
   "id": "a37620d5-55bc-4278-a417-fab35f66ca24",
   "metadata": {},
   "outputs": [
    {
     "data": {
      "text/plain": [
       "4212.1019035487"
      ]
     },
     "execution_count": 52,
     "metadata": {},
     "output_type": "execute_result"
    }
   ],
   "source": [
    "errors_lr"
   ]
  },
  {
   "cell_type": "code",
   "execution_count": null,
   "id": "c11ccfc7-a980-4438-83cf-717913285c9e",
   "metadata": {},
   "outputs": [],
   "source": []
  },
  {
   "cell_type": "code",
   "execution_count": 53,
   "id": "1a10f2cb-5baa-4542-aded-11ce92f2ce9e",
   "metadata": {},
   "outputs": [],
   "source": [
    "# Fitting Polynomial Regression to the dataset\n",
    "from sklearn.preprocessing import PolynomialFeatures\n",
    "\n",
    "poly = PolynomialFeatures(degree=1)\n",
    "X_poly = poly.fit_transform(X_train)\n",
    "\n",
    "poly.fit(X_poly, y_train)\n",
    "lin2 = LinearRegression()\n",
    "lin2.fit(X_poly, y_train)\n",
    "\n",
    "y_pred =  lin2.predict(poly.fit_transform(X_test))\n",
    "errors_pr = mean_absolute_error(y_test, y_pred)"
   ]
  },
  {
   "cell_type": "markdown",
   "id": "6fc0e870-7072-4975-a1ff-5b84a280ee71",
   "metadata": {},
   "source": [
    "### Decision Tree Regression"
   ]
  },
  {
   "cell_type": "code",
   "execution_count": 54,
   "id": "288aa553-3779-4541-bbee-0923a66e45ed",
   "metadata": {},
   "outputs": [
    {
     "name": "stdout",
     "output_type": "stream",
     "text": [
      "[18033.9679   4260.744    4667.60765  3554.203    8823.279    6203.90175\n",
      "  6203.90175 12629.8967  28950.4692  10601.412    3947.4131   1725.5523\n",
      " 14001.2867  13430.265    2643.2685  38746.3551  12142.5786  38746.3551\n",
      " 38709.176    3044.2133  27375.90478 10601.412   14133.03775  4133.64165\n",
      "  2404.7338  21082.16    36950.2567  42856.838   37701.8768   8017.06115\n",
      " 12913.9924  15359.1045   1744.465    6186.127   18608.262   24671.66334\n",
      " 20462.99766 12333.828    7441.501    1391.5287   6186.127    3645.0894\n",
      "  6948.7008  38746.3551  38511.6283  11073.176    2755.02095 27346.04207\n",
      " 30942.1918  43578.9394  10601.412   24393.6224   2203.47185  5478.0368\n",
      " 20984.0936   1842.519   11879.10405 12105.32    19214.70553 12574.049\n",
      " 18033.9679   8116.68     7441.501    1704.5681   4337.7352  18033.9679\n",
      " 14451.83515 20462.99766  1632.03625  2643.2685  18608.262   35147.52848\n",
      " 18804.7524  27346.04207  6686.4313  19515.5416   6389.37785 25992.82104\n",
      " 37133.8982  19214.70553 10736.87075  4687.797    6334.34355 27375.90478\n",
      "  1704.5681   5012.471    6203.90175 12333.828    7749.1564  14133.03775\n",
      "  3579.8287   5969.723   20177.67113  4349.462   13405.3903   5478.0368\n",
      " 35160.13457  1725.5523   5400.9805   1748.774    9249.4952  12629.8967\n",
      " 24603.04837 12815.44495 24671.66334  3579.8287   5478.0368   7196.867\n",
      " 27346.04207  8211.1002   1969.614   27346.04207 35585.576   13224.05705\n",
      "  2867.1196   6610.1097   9715.841    1744.465    6686.4313  19515.5416\n",
      "  4949.7587  35147.52848  7443.64305 27375.90478 13429.0354   2201.0971\n",
      "  2897.3235  32734.1863  43578.9394  42856.838   39556.4945  12475.3513\n",
      " 46889.2612  33471.97189 35491.64    16297.846   19515.5416  13919.8229\n",
      "  7731.4271  24059.68019 21082.16    42856.838    2897.3235   9634.538\n",
      "  8233.0975  12629.8967  48517.56315  2897.3235   2155.6815   6203.90175\n",
      " 13224.05705 11538.421    4260.744    3947.4131   9634.538    1744.465\n",
      " 46151.1245  37079.372   10797.3362   9644.2525   5969.723    6610.1097\n",
      "  8211.1002  45702.02235  9634.538    7749.1564  14692.66935 27000.98473\n",
      " 39556.4945   8233.0975   2137.6536  12142.5786   5989.52365  8823.98575\n",
      " 12029.2867   9634.538    4667.60765 10269.46     1615.7667   9249.4952\n",
      " 15820.699    2155.6815   3056.3881   9249.4952   7731.4271  24059.68019\n",
      " 12957.118    7345.7266  39983.42595 13607.36875 11658.37915  5729.0053\n",
      " 27375.90478 12222.8983  21984.47061  3579.8287   9290.1395   8823.98575\n",
      "  7441.501    1980.07    14133.03775  9634.538    9715.841    2302.3\n",
      "  8211.1002   9715.841   27375.90478  4667.60765 32734.1863   2404.7338\n",
      "  9644.2525  48173.361   24671.66334  5976.8311  27375.90478  2897.3235\n",
      "  2727.3951  25992.82104  4133.64165  2755.02095 10450.552   24393.6224\n",
      "  6948.7008   4751.07    24671.66334  6686.4313   2257.47525  4949.7587\n",
      " 12815.44495 12105.32    10115.00885 18033.9679  13224.05705  2498.4144\n",
      " 23244.7902  30942.1918   1986.9334   1391.5287   4337.7352   1256.299\n",
      " 27346.04207 12629.8967  18608.262    2457.21115  8520.026   13880.949\n",
      " 36837.467    5969.723   23244.7902   5976.8311   6313.759    3579.8287\n",
      " 11842.442   11879.10405  9866.30485  1391.5287   5478.0368   2897.3235\n",
      "  9617.66245  5400.9805  21348.706    2404.7338   9855.1314   8823.98575\n",
      "  2196.4732  48173.361   13981.85035 12928.7911  14692.66935  5976.8311\n",
      "  8823.279    5972.378   21978.6769  63770.42801 12142.5786   5478.0368\n",
      " 33471.97189  4931.647    8823.98575  4751.07     8233.0975  10435.06525\n",
      "  2498.4144   9724.53     1744.465    6079.6715   7731.4271   4949.7587\n",
      " 27000.98473  2155.6815  38511.6283   3044.2133   1639.5631   5729.0053\n",
      "  8211.1002   5478.0368   3579.8287   9715.841    6186.127    8017.06115]\n"
     ]
    },
    {
     "data": {
      "text/plain": [
       "<Figure size 2500x2000 with 0 Axes>"
      ]
     },
     "metadata": {},
     "output_type": "display_data"
    }
   ],
   "source": [
    "from sklearn.tree import DecisionTreeRegressor\n",
    "# Fit regression model\n",
    "Regressor = DecisionTreeRegressor()\n",
    "Regressor.fit(X_train, y_train)\n",
    "y_pred = Regressor.predict(X_test)\n",
    "print(y_pred)\n",
    "\n",
    "\n",
    "from sklearn.metrics import accuracy_score\n",
    "from sklearn import tree\n",
    "\n",
    "features = data.columns\n",
    "features = features[:-1]\n",
    "features\n",
    "\n",
    "fig = plt.figure(figsize=(25,20))\n",
    "#plot = tree.plot_tree(Regressor, feature_names=features, filled=True)\n",
    "\n",
    "from sklearn.metrics import mean_squared_error\n",
    "errors = mean_squared_error(y_test, y_pred)\n",
    "# example of calculate the root mean squared error\n",
    "errors_dt = mean_absolute_error(y_test, y_pred)"
   ]
  },
  {
   "cell_type": "markdown",
   "id": "320d4484-5301-4d71-917d-30aee7c1b84b",
   "metadata": {},
   "source": [
    "### Random Forest "
   ]
  },
  {
   "cell_type": "code",
   "execution_count": 55,
   "id": "72f567ce-ce71-46ed-8cf7-2bf247e2189c",
   "metadata": {},
   "outputs": [],
   "source": [
    "from sklearn.ensemble import RandomForestRegressor\n",
    "\n",
    "# Instantiate model with 1000 decision trees\n",
    "rf = RandomForestRegressor(n_estimators = 1000, random_state = 42)\n",
    "# Train the model on training data\n",
    "rf.fit(X_train, y_train)\n",
    "\n",
    "# Use the forest's predict method on the test data\n",
    "y_pred = rf.predict(X_test)\n",
    "errors_rf = mean_absolute_error(y_test, y_pred)"
   ]
  },
  {
   "cell_type": "code",
   "execution_count": 56,
   "id": "dd555a8d-5063-4765-978f-46e9906b861b",
   "metadata": {},
   "outputs": [],
   "source": [
    "from sklearn.svm import SVR\n",
    "regressor = SVR(kernel = 'rbf')\n",
    "regressor.fit(X_train, y_train)\n",
    "y_pred = regressor.predict(X_test)\n",
    "#y_pred = sc_y.inverse_transform(y_pred) \n",
    "y_pred\n",
    "errors_sm = mean_absolute_error(y_test, y_pred)"
   ]
  },
  {
   "cell_type": "code",
   "execution_count": 57,
   "id": "d3023613-7a31-4588-91d0-e3cd0c483280",
   "metadata": {},
   "outputs": [
    {
     "data": {
      "text/html": [
       "<div>\n",
       "<style scoped>\n",
       "    .dataframe tbody tr th:only-of-type {\n",
       "        vertical-align: middle;\n",
       "    }\n",
       "\n",
       "    .dataframe tbody tr th {\n",
       "        vertical-align: top;\n",
       "    }\n",
       "\n",
       "    .dataframe thead th {\n",
       "        text-align: right;\n",
       "    }\n",
       "</style>\n",
       "<table border=\"1\" class=\"dataframe\">\n",
       "  <thead>\n",
       "    <tr style=\"text-align: right;\">\n",
       "      <th></th>\n",
       "      <th>Attr</th>\n",
       "      <th>LR</th>\n",
       "      <th>Ply</th>\n",
       "      <th>DT</th>\n",
       "      <th>RF</th>\n",
       "      <th>SVM</th>\n",
       "    </tr>\n",
       "  </thead>\n",
       "  <tbody>\n",
       "    <tr>\n",
       "      <th>0</th>\n",
       "      <td>Error</td>\n",
       "      <td>4291.357721</td>\n",
       "      <td>4291.357721</td>\n",
       "      <td>3706.500141</td>\n",
       "      <td>3017.481552</td>\n",
       "      <td>7534.725342</td>\n",
       "    </tr>\n",
       "    <tr>\n",
       "      <th>1</th>\n",
       "      <td>CL_2</td>\n",
       "      <td>4447.717965</td>\n",
       "      <td>4447.717965</td>\n",
       "      <td>3373.516351</td>\n",
       "      <td>2991.667965</td>\n",
       "      <td>7809.387437</td>\n",
       "    </tr>\n",
       "    <tr>\n",
       "      <th>2</th>\n",
       "      <td>CV_5</td>\n",
       "      <td>4542.904990</td>\n",
       "      <td>4542.904990</td>\n",
       "      <td>3107.366576</td>\n",
       "      <td>3355.681216</td>\n",
       "      <td>8109.292842</td>\n",
       "    </tr>\n",
       "    <tr>\n",
       "      <th>3</th>\n",
       "      <td>kfolds_is_10</td>\n",
       "      <td>4555.982371</td>\n",
       "      <td>4555.982371</td>\n",
       "      <td>3977.705468</td>\n",
       "      <td>3428.890650</td>\n",
       "      <td>8667.894972</td>\n",
       "    </tr>\n",
       "    <tr>\n",
       "      <th>4</th>\n",
       "      <td>LeaveOneOut</td>\n",
       "      <td>19076.812120</td>\n",
       "      <td>19076.812120</td>\n",
       "      <td>22075.071690</td>\n",
       "      <td>22097.302604</td>\n",
       "      <td>24100.990142</td>\n",
       "    </tr>\n",
       "    <tr>\n",
       "      <th>5</th>\n",
       "      <td>RepeatedKFold_is_2</td>\n",
       "      <td>4212.101904</td>\n",
       "      <td>4212.101904</td>\n",
       "      <td>3975.843458</td>\n",
       "      <td>3528.660698</td>\n",
       "      <td>7933.082450</td>\n",
       "    </tr>\n",
       "  </tbody>\n",
       "</table>\n",
       "</div>"
      ],
      "text/plain": [
       "                 Attr            LR           Ply            DT            RF  \\\n",
       "0               Error   4291.357721   4291.357721   3706.500141   3017.481552   \n",
       "1                CL_2   4447.717965   4447.717965   3373.516351   2991.667965   \n",
       "2                CV_5   4542.904990   4542.904990   3107.366576   3355.681216   \n",
       "3        kfolds_is_10   4555.982371   4555.982371   3977.705468   3428.890650   \n",
       "4         LeaveOneOut  19076.812120  19076.812120  22075.071690  22097.302604   \n",
       "5  RepeatedKFold_is_2   4212.101904   4212.101904   3975.843458   3528.660698   \n",
       "\n",
       "            SVM  \n",
       "0   7534.725342  \n",
       "1   7809.387437  \n",
       "2   8109.292842  \n",
       "3   8667.894972  \n",
       "4  24100.990142  \n",
       "5   7933.082450  "
      ]
     },
     "execution_count": 57,
     "metadata": {},
     "output_type": "execute_result"
    }
   ],
   "source": [
    "var = \"RepeatedKFold_is_2\"\n",
    "#error = {errors_lr, errors_pr, errors_dt, errors_rf, errors_sm}\n",
    "error1 = {\"Attr\": var, \"LR\": errors_lr, \"Ply\": errors_pr, \"DT\":errors_dt, \"RF\":errors_rf , \"SVM\":errors_sm}\n",
    "\n",
    "error = error._append(error1, ignore_index=True)\n",
    "\n",
    "error"
   ]
  },
  {
   "cell_type": "code",
   "execution_count": null,
   "id": "f67efade-1604-406a-9851-c7fb258bc0f0",
   "metadata": {},
   "outputs": [],
   "source": []
  },
  {
   "cell_type": "code",
   "execution_count": null,
   "id": "3a890063-f196-47e5-8aed-54780834b3a0",
   "metadata": {},
   "outputs": [],
   "source": []
  },
  {
   "cell_type": "markdown",
   "id": "7c2cc840-852c-433c-b3da-cb9a73364738",
   "metadata": {},
   "source": [
    "## Repeated K-Fold Cross-Validation when n = 5"
   ]
  },
  {
   "cell_type": "code",
   "execution_count": 58,
   "id": "b497ba5e-74f9-46af-b918-6f3f5251925d",
   "metadata": {},
   "outputs": [],
   "source": [
    "import numpy as np\n",
    "from sklearn.model_selection import RepeatedKFold\n",
    "\n",
    "rkf = RepeatedKFold(n_splits=5, n_repeats=2, random_state=42)\n",
    "for train_index, test_index in rkf.split(X):\n",
    "#    print(\"TRAIN:\", train_index, \"TEST:\", test_index)\n",
    "    X_train, X_test = X[train_index], X[test_index]\n",
    "    y_train, y_test = y[train_index], y[test_index]"
   ]
  },
  {
   "cell_type": "code",
   "execution_count": null,
   "id": "cf15d70e-c9de-4fd2-9985-0530dd5ae416",
   "metadata": {},
   "outputs": [],
   "source": []
  },
  {
   "cell_type": "code",
   "execution_count": 59,
   "id": "5053aa59-a7d4-4b5c-b831-c8dae4760036",
   "metadata": {},
   "outputs": [
    {
     "name": "stdout",
     "output_type": "stream",
     "text": [
      "Reg_Score 0.7381771633930518\n",
      "Coefficient [3752.03443188  -78.90420287 2175.86598436  337.59617992 9402.9462717\n",
      " -572.43180241]\n",
      "Intercept 13379.163673112065\n"
     ]
    }
   ],
   "source": [
    "from sklearn.linear_model import LinearRegression\n",
    "reg = LinearRegression().fit(X_train, y_train)\n",
    "print(\"Reg_Score\" , reg.score(X_train, y_train))\n",
    "print(\"Coefficient\",  reg.coef_)\n",
    "print(\"Intercept\",  reg.intercept_)\n",
    "y_pred =  reg.predict(X_test)\n",
    "errors_lr = mean_absolute_error(y_test, y_pred)"
   ]
  },
  {
   "cell_type": "code",
   "execution_count": 60,
   "id": "7fdf2d72-0102-498f-a59f-0a2097e6f8ed",
   "metadata": {},
   "outputs": [],
   "source": [
    "# Fitting Polynomial Regression to the dataset\n",
    "from sklearn.preprocessing import PolynomialFeatures\n",
    "\n",
    "poly = PolynomialFeatures(degree=1)\n",
    "X_poly = poly.fit_transform(X_train)\n",
    "\n",
    "poly.fit(X_poly, y_train)\n",
    "lin2 = LinearRegression()\n",
    "lin2.fit(X_poly, y_train)\n",
    "\n",
    "y_pred =  lin2.predict(poly.fit_transform(X_test))\n",
    "errors_pr = mean_absolute_error(y_test, y_pred)"
   ]
  },
  {
   "cell_type": "markdown",
   "id": "428da559-3f30-4298-a0ef-8e5605eabe61",
   "metadata": {},
   "source": [
    "### Decision Tree Regression"
   ]
  },
  {
   "cell_type": "code",
   "execution_count": 61,
   "id": "d3149ad8-ba42-4982-9cc7-dc54cf746aaa",
   "metadata": {},
   "outputs": [
    {
     "data": {
      "text/plain": [
       "<Figure size 2500x2000 with 0 Axes>"
      ]
     },
     "metadata": {},
     "output_type": "display_data"
    }
   ],
   "source": [
    "from sklearn.tree import DecisionTreeRegressor\n",
    "# Fit regression model\n",
    "Regressor = DecisionTreeRegressor()\n",
    "Regressor.fit(X_train, y_train)\n",
    "y_pred = Regressor.predict(X_test)\n",
    "\n",
    "from sklearn.metrics import accuracy_score\n",
    "from sklearn import tree\n",
    "\n",
    "features = data.columns\n",
    "features = features[:-1]\n",
    "features\n",
    "\n",
    "fig = plt.figure(figsize=(25,20))\n",
    "#plot = tree.plot_tree(Regressor, feature_names=features, filled=True)\n",
    "\n",
    "from sklearn.metrics import mean_squared_error\n",
    "errors = mean_squared_error(y_test, y_pred)\n",
    "# example of calculate the root mean squared error\n",
    "errors_dt = mean_absolute_error(y_test, y_pred)"
   ]
  },
  {
   "cell_type": "markdown",
   "id": "c9e3bfd3-67a2-4659-8ea8-226d9743e0d3",
   "metadata": {},
   "source": [
    "### Random Forest "
   ]
  },
  {
   "cell_type": "code",
   "execution_count": 62,
   "id": "26ab18e0-a930-4940-80da-fd78384822fe",
   "metadata": {},
   "outputs": [],
   "source": [
    "from sklearn.ensemble import RandomForestRegressor\n",
    "\n",
    "# Instantiate model with 1000 decision trees\n",
    "rf = RandomForestRegressor(n_estimators = 1000, random_state = 42)\n",
    "# Train the model on training data\n",
    "rf.fit(X_train, y_train)\n",
    "\n",
    "# Use the forest's predict method on the test data\n",
    "y_pred = rf.predict(X_test)\n",
    "errors_rf = mean_absolute_error(y_test, y_pred)"
   ]
  },
  {
   "cell_type": "code",
   "execution_count": 63,
   "id": "40495907-0de1-4fad-9fbf-e9ee652b6398",
   "metadata": {},
   "outputs": [],
   "source": [
    "from sklearn.svm import SVR\n",
    "regressor = SVR(kernel = 'rbf')\n",
    "regressor.fit(X_train, y_train)\n",
    "y_pred = regressor.predict(X_test)\n",
    "#y_pred = sc_y.inverse_transform(y_pred) \n",
    "y_pred\n",
    "errors_sm = mean_absolute_error(y_test, y_pred)"
   ]
  },
  {
   "cell_type": "code",
   "execution_count": 64,
   "id": "5d73e011-ad0d-4b87-98b5-392ff462369f",
   "metadata": {},
   "outputs": [
    {
     "data": {
      "text/html": [
       "<div>\n",
       "<style scoped>\n",
       "    .dataframe tbody tr th:only-of-type {\n",
       "        vertical-align: middle;\n",
       "    }\n",
       "\n",
       "    .dataframe tbody tr th {\n",
       "        vertical-align: top;\n",
       "    }\n",
       "\n",
       "    .dataframe thead th {\n",
       "        text-align: right;\n",
       "    }\n",
       "</style>\n",
       "<table border=\"1\" class=\"dataframe\">\n",
       "  <thead>\n",
       "    <tr style=\"text-align: right;\">\n",
       "      <th></th>\n",
       "      <th>Attr</th>\n",
       "      <th>LR</th>\n",
       "      <th>Ply</th>\n",
       "      <th>DT</th>\n",
       "      <th>RF</th>\n",
       "      <th>SVM</th>\n",
       "    </tr>\n",
       "  </thead>\n",
       "  <tbody>\n",
       "    <tr>\n",
       "      <th>0</th>\n",
       "      <td>Error</td>\n",
       "      <td>4291.357721</td>\n",
       "      <td>4291.357721</td>\n",
       "      <td>3706.500141</td>\n",
       "      <td>3017.481552</td>\n",
       "      <td>7534.725342</td>\n",
       "    </tr>\n",
       "    <tr>\n",
       "      <th>1</th>\n",
       "      <td>CL_2</td>\n",
       "      <td>4447.717965</td>\n",
       "      <td>4447.717965</td>\n",
       "      <td>3373.516351</td>\n",
       "      <td>2991.667965</td>\n",
       "      <td>7809.387437</td>\n",
       "    </tr>\n",
       "    <tr>\n",
       "      <th>2</th>\n",
       "      <td>CV_5</td>\n",
       "      <td>4542.904990</td>\n",
       "      <td>4542.904990</td>\n",
       "      <td>3107.366576</td>\n",
       "      <td>3355.681216</td>\n",
       "      <td>8109.292842</td>\n",
       "    </tr>\n",
       "    <tr>\n",
       "      <th>3</th>\n",
       "      <td>kfolds_is_10</td>\n",
       "      <td>4555.982371</td>\n",
       "      <td>4555.982371</td>\n",
       "      <td>3977.705468</td>\n",
       "      <td>3428.890650</td>\n",
       "      <td>8667.894972</td>\n",
       "    </tr>\n",
       "    <tr>\n",
       "      <th>4</th>\n",
       "      <td>LeaveOneOut</td>\n",
       "      <td>19076.812120</td>\n",
       "      <td>19076.812120</td>\n",
       "      <td>22075.071690</td>\n",
       "      <td>22097.302604</td>\n",
       "      <td>24100.990142</td>\n",
       "    </tr>\n",
       "    <tr>\n",
       "      <th>5</th>\n",
       "      <td>RepeatedKFold_is_2</td>\n",
       "      <td>4212.101904</td>\n",
       "      <td>4212.101904</td>\n",
       "      <td>3975.843458</td>\n",
       "      <td>3528.660698</td>\n",
       "      <td>7933.082450</td>\n",
       "    </tr>\n",
       "    <tr>\n",
       "      <th>6</th>\n",
       "      <td>RepeatedKFold_is_5</td>\n",
       "      <td>4320.451082</td>\n",
       "      <td>4320.451082</td>\n",
       "      <td>3576.473123</td>\n",
       "      <td>3007.481133</td>\n",
       "      <td>7749.782297</td>\n",
       "    </tr>\n",
       "  </tbody>\n",
       "</table>\n",
       "</div>"
      ],
      "text/plain": [
       "                 Attr            LR           Ply            DT            RF  \\\n",
       "0               Error   4291.357721   4291.357721   3706.500141   3017.481552   \n",
       "1                CL_2   4447.717965   4447.717965   3373.516351   2991.667965   \n",
       "2                CV_5   4542.904990   4542.904990   3107.366576   3355.681216   \n",
       "3        kfolds_is_10   4555.982371   4555.982371   3977.705468   3428.890650   \n",
       "4         LeaveOneOut  19076.812120  19076.812120  22075.071690  22097.302604   \n",
       "5  RepeatedKFold_is_2   4212.101904   4212.101904   3975.843458   3528.660698   \n",
       "6  RepeatedKFold_is_5   4320.451082   4320.451082   3576.473123   3007.481133   \n",
       "\n",
       "            SVM  \n",
       "0   7534.725342  \n",
       "1   7809.387437  \n",
       "2   8109.292842  \n",
       "3   8667.894972  \n",
       "4  24100.990142  \n",
       "5   7933.082450  \n",
       "6   7749.782297  "
      ]
     },
     "execution_count": 64,
     "metadata": {},
     "output_type": "execute_result"
    }
   ],
   "source": [
    "var = \"RepeatedKFold_is_5\"\n",
    "#error = {errors_lr, errors_pr, errors_dt, errors_rf, errors_sm}\n",
    "error1 = {\"Attr\": var, \"LR\": errors_lr, \"Ply\": errors_pr, \"DT\":errors_dt, \"RF\":errors_rf , \"SVM\":errors_sm}\n",
    "\n",
    "error = error._append(error1, ignore_index=True)\n",
    "\n",
    "error"
   ]
  },
  {
   "cell_type": "markdown",
   "id": "13ed12cd-2dc3-46dc-9eed-c999a0c5636c",
   "metadata": {},
   "source": [
    "## Repeated K-Fold Cross-Validation when n = 10"
   ]
  },
  {
   "cell_type": "code",
   "execution_count": 65,
   "id": "8f8829e7-8ad2-4bda-967a-e2f8d2143c85",
   "metadata": {},
   "outputs": [],
   "source": [
    "import numpy as np\n",
    "from sklearn.model_selection import RepeatedKFold\n",
    "\n",
    "rkf = RepeatedKFold(n_splits=10, n_repeats=2, random_state=42)\n",
    "for train_index, test_index in rkf.split(X):\n",
    "#    print(\"TRAIN:\", train_index, \"TEST:\", test_index)\n",
    "    X_train, X_test = X[train_index], X[test_index]\n",
    "    y_train, y_test = y[train_index], y[test_index]"
   ]
  },
  {
   "cell_type": "code",
   "execution_count": null,
   "id": "d4de8bff-030c-4b02-a4b5-35533728ec13",
   "metadata": {},
   "outputs": [],
   "source": []
  },
  {
   "cell_type": "code",
   "execution_count": 66,
   "id": "ca0b14d8-1653-4ed3-96c0-364c41243d36",
   "metadata": {},
   "outputs": [
    {
     "name": "stdout",
     "output_type": "stream",
     "text": [
      "Reg_Score 0.7377388690996873\n",
      "Coefficient [3824.48816644 -119.74616642 2142.14126992  200.97712294 9432.36845695\n",
      " -436.76369719]\n",
      "Intercept 13244.07486314346\n"
     ]
    }
   ],
   "source": [
    "from sklearn.linear_model import LinearRegression\n",
    "reg = LinearRegression().fit(X_train, y_train)\n",
    "print(\"Reg_Score\" , reg.score(X_train, y_train))\n",
    "print(\"Coefficient\",  reg.coef_)\n",
    "print(\"Intercept\",  reg.intercept_)\n",
    "y_pred =  reg.predict(X_test)\n",
    "errors_lr = mean_absolute_error(y_test, y_pred)"
   ]
  },
  {
   "cell_type": "code",
   "execution_count": 67,
   "id": "7fb49b6c-ae58-4692-9f25-a2f7c3a28f22",
   "metadata": {},
   "outputs": [],
   "source": [
    "# Fitting Polynomial Regression to the dataset\n",
    "from sklearn.preprocessing import PolynomialFeatures\n",
    "\n",
    "poly = PolynomialFeatures(degree=1)\n",
    "X_poly = poly.fit_transform(X_train)\n",
    "\n",
    "poly.fit(X_poly, y_train)\n",
    "lin2 = LinearRegression()\n",
    "lin2.fit(X_poly, y_train)\n",
    "\n",
    "y_pred =  lin2.predict(poly.fit_transform(X_test))\n",
    "errors_pr = mean_absolute_error(y_test, y_pred)"
   ]
  },
  {
   "cell_type": "markdown",
   "id": "3fe63a1a-fd16-44a2-bb5b-d424461e8762",
   "metadata": {},
   "source": [
    "### Decision Tree Regression"
   ]
  },
  {
   "cell_type": "code",
   "execution_count": 68,
   "id": "f054f454-aafb-4123-8ec5-82fb2bd92a76",
   "metadata": {},
   "outputs": [
    {
     "data": {
      "text/plain": [
       "<Figure size 2500x2000 with 0 Axes>"
      ]
     },
     "metadata": {},
     "output_type": "display_data"
    }
   ],
   "source": [
    "from sklearn.tree import DecisionTreeRegressor\n",
    "# Fit regression model\n",
    "Regressor = DecisionTreeRegressor()\n",
    "Regressor.fit(X_train, y_train)\n",
    "y_pred = Regressor.predict(X_test)\n",
    "\n",
    "from sklearn.metrics import accuracy_score\n",
    "from sklearn import tree\n",
    "\n",
    "features = data.columns\n",
    "features = features[:-1]\n",
    "features\n",
    "\n",
    "fig = plt.figure(figsize=(25,20))\n",
    "#plot = tree.plot_tree(Regressor, feature_names=features, filled=True)\n",
    "\n",
    "from sklearn.metrics import mean_squared_error\n",
    "errors = mean_squared_error(y_test, y_pred)\n",
    "# example of calculate the root mean squared error\n",
    "errors_dt = mean_absolute_error(y_test, y_pred)"
   ]
  },
  {
   "cell_type": "markdown",
   "id": "7b8859c8-8bdc-418a-9d60-1847105e3114",
   "metadata": {},
   "source": [
    "### Random Forest "
   ]
  },
  {
   "cell_type": "code",
   "execution_count": 69,
   "id": "1c4cd15a-e63f-4de0-b763-16746d6053db",
   "metadata": {},
   "outputs": [],
   "source": [
    "from sklearn.ensemble import RandomForestRegressor\n",
    "\n",
    "# Instantiate model with 1000 decision trees\n",
    "rf = RandomForestRegressor(n_estimators = 1000, random_state = 42)\n",
    "# Train the model on training data\n",
    "rf.fit(X_train, y_train)\n",
    "\n",
    "# Use the forest's predict method on the test data\n",
    "y_pred = rf.predict(X_test)\n",
    "errors_rf = mean_absolute_error(y_test, y_pred)"
   ]
  },
  {
   "cell_type": "code",
   "execution_count": 70,
   "id": "8a51ea48-8dbb-45fa-8529-f2a133986eca",
   "metadata": {},
   "outputs": [],
   "source": [
    "from sklearn.svm import SVR\n",
    "regressor = SVR(kernel = 'rbf')\n",
    "regressor.fit(X_train, y_train)\n",
    "y_pred = regressor.predict(X_test)\n",
    "#y_pred = sc_y.inverse_transform(y_pred) \n",
    "y_pred\n",
    "errors_sm = mean_absolute_error(y_test, y_pred)"
   ]
  },
  {
   "cell_type": "code",
   "execution_count": 71,
   "id": "5dc97806-8382-454d-96dd-526349f4c46d",
   "metadata": {},
   "outputs": [
    {
     "data": {
      "text/html": [
       "<div>\n",
       "<style scoped>\n",
       "    .dataframe tbody tr th:only-of-type {\n",
       "        vertical-align: middle;\n",
       "    }\n",
       "\n",
       "    .dataframe tbody tr th {\n",
       "        vertical-align: top;\n",
       "    }\n",
       "\n",
       "    .dataframe thead th {\n",
       "        text-align: right;\n",
       "    }\n",
       "</style>\n",
       "<table border=\"1\" class=\"dataframe\">\n",
       "  <thead>\n",
       "    <tr style=\"text-align: right;\">\n",
       "      <th></th>\n",
       "      <th>Attr</th>\n",
       "      <th>LR</th>\n",
       "      <th>Ply</th>\n",
       "      <th>DT</th>\n",
       "      <th>RF</th>\n",
       "      <th>SVM</th>\n",
       "    </tr>\n",
       "  </thead>\n",
       "  <tbody>\n",
       "    <tr>\n",
       "      <th>0</th>\n",
       "      <td>Error</td>\n",
       "      <td>4291.357721</td>\n",
       "      <td>4291.357721</td>\n",
       "      <td>3706.500141</td>\n",
       "      <td>3017.481552</td>\n",
       "      <td>7534.725342</td>\n",
       "    </tr>\n",
       "    <tr>\n",
       "      <th>1</th>\n",
       "      <td>CL_2</td>\n",
       "      <td>4447.717965</td>\n",
       "      <td>4447.717965</td>\n",
       "      <td>3373.516351</td>\n",
       "      <td>2991.667965</td>\n",
       "      <td>7809.387437</td>\n",
       "    </tr>\n",
       "    <tr>\n",
       "      <th>2</th>\n",
       "      <td>CV_5</td>\n",
       "      <td>4542.904990</td>\n",
       "      <td>4542.904990</td>\n",
       "      <td>3107.366576</td>\n",
       "      <td>3355.681216</td>\n",
       "      <td>8109.292842</td>\n",
       "    </tr>\n",
       "    <tr>\n",
       "      <th>3</th>\n",
       "      <td>kfolds_is_10</td>\n",
       "      <td>4555.982371</td>\n",
       "      <td>4555.982371</td>\n",
       "      <td>3977.705468</td>\n",
       "      <td>3428.890650</td>\n",
       "      <td>8667.894972</td>\n",
       "    </tr>\n",
       "    <tr>\n",
       "      <th>4</th>\n",
       "      <td>LeaveOneOut</td>\n",
       "      <td>19076.812120</td>\n",
       "      <td>19076.812120</td>\n",
       "      <td>22075.071690</td>\n",
       "      <td>22097.302604</td>\n",
       "      <td>24100.990142</td>\n",
       "    </tr>\n",
       "    <tr>\n",
       "      <th>5</th>\n",
       "      <td>RepeatedKFold_is_2</td>\n",
       "      <td>4212.101904</td>\n",
       "      <td>4212.101904</td>\n",
       "      <td>3975.843458</td>\n",
       "      <td>3528.660698</td>\n",
       "      <td>7933.082450</td>\n",
       "    </tr>\n",
       "    <tr>\n",
       "      <th>6</th>\n",
       "      <td>RepeatedKFold_is_5</td>\n",
       "      <td>4320.451082</td>\n",
       "      <td>4320.451082</td>\n",
       "      <td>3576.473123</td>\n",
       "      <td>3007.481133</td>\n",
       "      <td>7749.782297</td>\n",
       "    </tr>\n",
       "    <tr>\n",
       "      <th>7</th>\n",
       "      <td>RepeatedKFold_is_10</td>\n",
       "      <td>4242.232987</td>\n",
       "      <td>4242.232987</td>\n",
       "      <td>2772.724561</td>\n",
       "      <td>2815.935922</td>\n",
       "      <td>8643.582586</td>\n",
       "    </tr>\n",
       "  </tbody>\n",
       "</table>\n",
       "</div>"
      ],
      "text/plain": [
       "                  Attr            LR           Ply            DT  \\\n",
       "0                Error   4291.357721   4291.357721   3706.500141   \n",
       "1                 CL_2   4447.717965   4447.717965   3373.516351   \n",
       "2                 CV_5   4542.904990   4542.904990   3107.366576   \n",
       "3         kfolds_is_10   4555.982371   4555.982371   3977.705468   \n",
       "4          LeaveOneOut  19076.812120  19076.812120  22075.071690   \n",
       "5   RepeatedKFold_is_2   4212.101904   4212.101904   3975.843458   \n",
       "6   RepeatedKFold_is_5   4320.451082   4320.451082   3576.473123   \n",
       "7  RepeatedKFold_is_10   4242.232987   4242.232987   2772.724561   \n",
       "\n",
       "             RF           SVM  \n",
       "0   3017.481552   7534.725342  \n",
       "1   2991.667965   7809.387437  \n",
       "2   3355.681216   8109.292842  \n",
       "3   3428.890650   8667.894972  \n",
       "4  22097.302604  24100.990142  \n",
       "5   3528.660698   7933.082450  \n",
       "6   3007.481133   7749.782297  \n",
       "7   2815.935922   8643.582586  "
      ]
     },
     "execution_count": 71,
     "metadata": {},
     "output_type": "execute_result"
    }
   ],
   "source": [
    "var = \"RepeatedKFold_is_10\"\n",
    "#error = {errors_lr, errors_pr, errors_dt, errors_rf, errors_sm}\n",
    "error1 = {\"Attr\": var, \"LR\": errors_lr, \"Ply\": errors_pr, \"DT\":errors_dt, \"RF\":errors_rf , \"SVM\":errors_sm}\n",
    "error = error._append(error1, ignore_index=True)\n",
    "error"
   ]
  },
  {
   "cell_type": "code",
   "execution_count": 72,
   "id": "94340078-19b7-4749-b601-df09622ad59d",
   "metadata": {},
   "outputs": [
    {
     "data": {
      "image/png": "[encoded data removed]",
      "text/plain": [
       "<Figure size 640x480 with 1 Axes>"
      ]
     },
     "metadata": {},
     "output_type": "display_data"
    }
   ],
   "source": [
    "#plt = error.plot( title=\"SeriesGroupBy Plot\")\n",
    "\n",
    "# Plot unstacked multiple columns such as population and year from DataFrame\n",
    "plt = error.plot(x=\"Attr\", stacked=True, rot=30)"
   ]
  },
  {
   "cell_type": "code",
   "execution_count": null,
   "id": "8b10b80c-1c7f-4682-adbd-a4b1e8b5d5c1",
   "metadata": {},
   "outputs": [],
   "source": [
    "error"
   ]
  },
  {
   "cell_type": "code",
   "execution_count": null,
   "id": "c410943f-d8f8-4f58-a28f-65163ccc3000",
   "metadata": {},
   "outputs": [],
   "source": []
  }
 ],
 "metadata": {
  "kernelspec": {
   "display_name": "Python 3 (ipykernel)",
   "language": "python",
   "name": "python3"
  },
  "language_info": {
   "codemirror_mode": {
    "name": "ipython",
    "version": 3
   },
   "file_extension": ".py",
   "mimetype": "text/x-python",
   "name": "python",
   "nbconvert_exporter": "python",
   "pygments_lexer": "ipython3",
   "version": "3.10.11"
  }
 },
 "nbformat": 4,
 "nbformat_minor": 5
}
