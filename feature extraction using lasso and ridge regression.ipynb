{
 "cells": [
  {
   "cell_type": "code",
   "execution_count": 1,
   "id": "50e43075-3b64-4fd5-a04b-99f94d9c10ec",
   "metadata": {},
   "outputs": [],
   "source": [
    "import numpy as np\n",
    "from sklearn.preprocessing import StandardScaler\n",
    "from sklearn.pipeline import Pipeline\n",
    "from sklearn.model_selection import train_test_split, GridSearchCV\n",
    "from sklearn.linear_model import Lasso"
   ]
  },
  {
   "cell_type": "code",
   "execution_count": 2,
   "id": "eaf536be-b47e-45bc-8386-a6e862bd9c34",
   "metadata": {},
   "outputs": [
    {
     "data": {
      "text/plain": [
       "['age', 'sex', 'bmi', 'bp', 's1', 's2', 's3', 's4', 's5', 's6']"
      ]
     },
     "execution_count": 2,
     "metadata": {},
     "output_type": "execute_result"
    }
   ],
   "source": [
    "from sklearn.datasets import load_diabetes\n",
    "X,y = load_diabetes(return_X_y=True)\n",
    "features = load_diabetes()['feature_names']\n",
    "features"
   ]
  },
  {
   "cell_type": "code",
   "execution_count": 3,
   "id": "6ddcfe0d-2e53-4882-b316-b0e69c1799e4",
   "metadata": {},
   "outputs": [],
   "source": [
    "X_train, X_test, y_train, y_test = train_test_split(X, y, test_size=0.33, random_state=42)"
   ]
  },
  {
   "cell_type": "code",
   "execution_count": 4,
   "id": "22046334-f0a2-493c-b159-288ed316ee4e",
   "metadata": {},
   "outputs": [],
   "source": [
    "pipeline = Pipeline([\n",
    "                     ('scaler',StandardScaler()),\n",
    "                     ('model',Lasso())\n",
    "])"
   ]
  },
  {
   "cell_type": "code",
   "execution_count": 5,
   "id": "de31a138-4dbd-4645-a6e9-43f9f3205467",
   "metadata": {},
   "outputs": [],
   "source": [
    "search = GridSearchCV(pipeline,\n",
    "                      {'model__alpha':np.arange(0.1,10,0.1)},\n",
    "                      cv = 5, scoring=\"r2\",verbose=3)"
   ]
  },
  {
   "cell_type": "code",
   "execution_count": 6,
   "id": "9ed83690-c07c-4c3f-88fa-ca82b488dad5",
   "metadata": {},
   "outputs": [
    {
     "name": "stdout",
     "output_type": "stream",
     "text": [
      "Fitting 5 folds for each of 99 candidates, totalling 495 fits\n",
      "[CV 1/5] END ..................model__alpha=0.1;, score=0.487 total time=   0.0s\n",
      "[CV 2/5] END ..................model__alpha=0.1;, score=0.359 total time=   0.0s\n",
      "[CV 3/5] END ..................model__alpha=0.1;, score=0.572 total time=   0.0s\n",
      "[CV 4/5] END ..................model__alpha=0.1;, score=0.556 total time=   0.0s\n",
      "[CV 5/5] END ..................model__alpha=0.1;, score=0.286 total time=   0.0s\n",
      "[CV 1/5] END ..................model__alpha=0.2;, score=0.486 total time=   0.0s\n",
      "[CV 2/5] END ..................model__alpha=0.2;, score=0.358 total time=   0.0s\n",
      "[CV 3/5] END ..................model__alpha=0.2;, score=0.570 total time=   0.0s\n",
      "[CV 4/5] END ..................model__alpha=0.2;, score=0.555 total time=   0.0s\n",
      "[CV 5/5] END ..................model__alpha=0.2;, score=0.288 total time=   0.0s\n",
      "[CV 1/5] END ..model__alpha=0.30000000000000004;, score=0.486 total time=   0.0s\n",
      "[CV 2/5] END ..model__alpha=0.30000000000000004;, score=0.356 total time=   0.0s\n",
      "[CV 3/5] END ..model__alpha=0.30000000000000004;, score=0.570 total time=   0.0s\n",
      "[CV 4/5] END ..model__alpha=0.30000000000000004;, score=0.554 total time=   0.0s\n",
      "[CV 5/5] END ..model__alpha=0.30000000000000004;, score=0.289 total time=   0.0s\n",
      "[CV 1/5] END ..................model__alpha=0.4;, score=0.487 total time=   0.0s\n",
      "[CV 2/5] END ..................model__alpha=0.4;, score=0.356 total time=   0.0s\n",
      "[CV 3/5] END ..................model__alpha=0.4;, score=0.571 total time=   0.0s\n",
      "[CV 4/5] END ..................model__alpha=0.4;, score=0.555 total time=   0.0s\n",
      "[CV 5/5] END ..................model__alpha=0.4;, score=0.291 total time=   0.0s\n",
      "[CV 1/5] END ..................model__alpha=0.5;, score=0.487 total time=   0.0s\n",
      "[CV 2/5] END ..................model__alpha=0.5;, score=0.355 total time=   0.0s\n",
      "[CV 3/5] END ..................model__alpha=0.5;, score=0.571 total time=   0.0s\n",
      "[CV 4/5] END ..................model__alpha=0.5;, score=0.555 total time=   0.0s\n",
      "[CV 5/5] END ..................model__alpha=0.5;, score=0.292 total time=   0.0s\n",
      "[CV 1/5] END ..................model__alpha=0.6;, score=0.488 total time=   0.0s\n",
      "[CV 2/5] END ..................model__alpha=0.6;, score=0.355 total time=   0.0s\n",
      "[CV 3/5] END ..................model__alpha=0.6;, score=0.572 total time=   0.0s\n",
      "[CV 4/5] END ..................model__alpha=0.6;, score=0.555 total time=   0.0s\n",
      "[CV 5/5] END ..................model__alpha=0.6;, score=0.293 total time=   0.0s\n",
      "[CV 1/5] END ...model__alpha=0.7000000000000001;, score=0.488 total time=   0.0s\n",
      "[CV 2/5] END ...model__alpha=0.7000000000000001;, score=0.355 total time=   0.0s\n",
      "[CV 3/5] END ...model__alpha=0.7000000000000001;, score=0.573 total time=   0.0s\n",
      "[CV 4/5] END ...model__alpha=0.7000000000000001;, score=0.555 total time=   0.0s\n",
      "[CV 5/5] END ...model__alpha=0.7000000000000001;, score=0.294 total time=   0.0s\n",
      "[CV 1/5] END ..................model__alpha=0.8;, score=0.488 total time=   0.0s\n",
      "[CV 2/5] END ..................model__alpha=0.8;, score=0.354 total time=   0.0s\n",
      "[CV 3/5] END ..................model__alpha=0.8;, score=0.573 total time=   0.0s\n",
      "[CV 4/5] END ..................model__alpha=0.8;, score=0.556 total time=   0.0s\n",
      "[CV 5/5] END ..................model__alpha=0.8;, score=0.295 total time=   0.0s\n",
      "[CV 1/5] END ..................model__alpha=0.9;, score=0.488 total time=   0.0s\n",
      "[CV 2/5] END ..................model__alpha=0.9;, score=0.354 total time=   0.0s\n",
      "[CV 3/5] END ..................model__alpha=0.9;, score=0.574 total time=   0.0s\n",
      "[CV 4/5] END ..................model__alpha=0.9;, score=0.556 total time=   0.0s\n",
      "[CV 5/5] END ..................model__alpha=0.9;, score=0.297 total time=   0.0s\n",
      "[CV 1/5] END ..................model__alpha=1.0;, score=0.488 total time=   0.0s\n",
      "[CV 2/5] END ..................model__alpha=1.0;, score=0.353 total time=   0.0s\n",
      "[CV 3/5] END ..................model__alpha=1.0;, score=0.574 total time=   0.0s\n",
      "[CV 4/5] END ..................model__alpha=1.0;, score=0.556 total time=   0.0s\n",
      "[CV 5/5] END ..................model__alpha=1.0;, score=0.298 total time=   0.0s\n",
      "[CV 1/5] END ..................model__alpha=1.1;, score=0.488 total time=   0.0s\n",
      "[CV 2/5] END ..................model__alpha=1.1;, score=0.352 total time=   0.0s\n",
      "[CV 3/5] END ..................model__alpha=1.1;, score=0.575 total time=   0.0s\n",
      "[CV 4/5] END ..................model__alpha=1.1;, score=0.556 total time=   0.0s\n",
      "[CV 5/5] END ..................model__alpha=1.1;, score=0.300 total time=   0.0s\n",
      "[CV 1/5] END ...model__alpha=1.2000000000000002;, score=0.487 total time=   0.0s\n",
      "[CV 2/5] END ...model__alpha=1.2000000000000002;, score=0.352 total time=   0.0s\n",
      "[CV 3/5] END ...model__alpha=1.2000000000000002;, score=0.575 total time=   0.0s\n",
      "[CV 4/5] END ...model__alpha=1.2000000000000002;, score=0.555 total time=   0.0s\n",
      "[CV 5/5] END ...model__alpha=1.2000000000000002;, score=0.301 total time=   0.0s\n",
      "[CV 1/5] END ...model__alpha=1.3000000000000003;, score=0.486 total time=   0.0s\n",
      "[CV 2/5] END ...model__alpha=1.3000000000000003;, score=0.351 total time=   0.0s\n",
      "[CV 3/5] END ...model__alpha=1.3000000000000003;, score=0.575 total time=   0.0s\n",
      "[CV 4/5] END ...model__alpha=1.3000000000000003;, score=0.555 total time=   0.0s\n",
      "[CV 5/5] END ...model__alpha=1.3000000000000003;, score=0.302 total time=   0.0s\n",
      "[CV 1/5] END ...model__alpha=1.4000000000000001;, score=0.485 total time=   0.0s\n",
      "[CV 2/5] END ...model__alpha=1.4000000000000001;, score=0.350 total time=   0.0s\n",
      "[CV 3/5] END ...model__alpha=1.4000000000000001;, score=0.576 total time=   0.0s\n",
      "[CV 4/5] END ...model__alpha=1.4000000000000001;, score=0.555 total time=   0.0s\n",
      "[CV 5/5] END ...model__alpha=1.4000000000000001;, score=0.303 total time=   0.0s\n",
      "[CV 1/5] END ...model__alpha=1.5000000000000002;, score=0.485 total time=   0.0s\n",
      "[CV 2/5] END ...model__alpha=1.5000000000000002;, score=0.349 total time=   0.0s\n",
      "[CV 3/5] END ...model__alpha=1.5000000000000002;, score=0.576 total time=   0.0s\n",
      "[CV 4/5] END ...model__alpha=1.5000000000000002;, score=0.555 total time=   0.0s\n",
      "[CV 5/5] END ...model__alpha=1.5000000000000002;, score=0.305 total time=   0.0s\n",
      "[CV 1/5] END ..................model__alpha=1.6;, score=0.484 total time=   0.0s\n",
      "[CV 2/5] END ..................model__alpha=1.6;, score=0.348 total time=   0.0s\n",
      "[CV 3/5] END ..................model__alpha=1.6;, score=0.576 total time=   0.0s\n",
      "[CV 4/5] END ..................model__alpha=1.6;, score=0.555 total time=   0.0s\n",
      "[CV 5/5] END ..................model__alpha=1.6;, score=0.306 total time=   0.0s\n",
      "[CV 1/5] END ...model__alpha=1.7000000000000002;, score=0.483 total time=   0.0s\n",
      "[CV 2/5] END ...model__alpha=1.7000000000000002;, score=0.346 total time=   0.0s\n",
      "[CV 3/5] END ...model__alpha=1.7000000000000002;, score=0.577 total time=   0.0s\n",
      "[CV 4/5] END ...model__alpha=1.7000000000000002;, score=0.554 total time=   0.0s\n",
      "[CV 5/5] END ...model__alpha=1.7000000000000002;, score=0.307 total time=   0.0s\n",
      "[CV 1/5] END ...model__alpha=1.8000000000000003;, score=0.482 total time=   0.0s\n",
      "[CV 2/5] END ...model__alpha=1.8000000000000003;, score=0.345 total time=   0.0s\n",
      "[CV 3/5] END ...model__alpha=1.8000000000000003;, score=0.577 total time=   0.0s\n",
      "[CV 4/5] END ...model__alpha=1.8000000000000003;, score=0.554 total time=   0.0s\n",
      "[CV 5/5] END ...model__alpha=1.8000000000000003;, score=0.308 total time=   0.0s\n",
      "[CV 1/5] END ...model__alpha=1.9000000000000001;, score=0.481 total time=   0.0s\n",
      "[CV 2/5] END ...model__alpha=1.9000000000000001;, score=0.343 total time=   0.0s\n",
      "[CV 3/5] END ...model__alpha=1.9000000000000001;, score=0.577 total time=   0.0s\n",
      "[CV 4/5] END ...model__alpha=1.9000000000000001;, score=0.554 total time=   0.0s\n",
      "[CV 5/5] END ...model__alpha=1.9000000000000001;, score=0.309 total time=   0.0s\n",
      "[CV 1/5] END ..................model__alpha=2.0;, score=0.480 total time=   0.0s\n",
      "[CV 2/5] END ..................model__alpha=2.0;, score=0.342 total time=   0.0s\n",
      "[CV 3/5] END ..................model__alpha=2.0;, score=0.578 total time=   0.0s\n",
      "[CV 4/5] END ..................model__alpha=2.0;, score=0.553 total time=   0.0s\n",
      "[CV 5/5] END ..................model__alpha=2.0;, score=0.311 total time=   0.0s\n",
      "[CV 1/5] END ..................model__alpha=2.1;, score=0.479 total time=   0.0s\n",
      "[CV 2/5] END ..................model__alpha=2.1;, score=0.340 total time=   0.0s\n",
      "[CV 3/5] END ..................model__alpha=2.1;, score=0.578 total time=   0.0s\n",
      "[CV 4/5] END ..................model__alpha=2.1;, score=0.553 total time=   0.0s\n",
      "[CV 5/5] END ..................model__alpha=2.1;, score=0.312 total time=   0.0s\n",
      "[CV 1/5] END ..................model__alpha=2.2;, score=0.478 total time=   0.0s\n",
      "[CV 2/5] END ..................model__alpha=2.2;, score=0.339 total time=   0.0s\n",
      "[CV 3/5] END ..................model__alpha=2.2;, score=0.578 total time=   0.0s\n",
      "[CV 4/5] END ..................model__alpha=2.2;, score=0.552 total time=   0.0s\n",
      "[CV 5/5] END ..................model__alpha=2.2;, score=0.313 total time=   0.0s\n",
      "[CV 1/5] END ...model__alpha=2.3000000000000003;, score=0.477 total time=   0.0s\n",
      "[CV 2/5] END ...model__alpha=2.3000000000000003;, score=0.338 total time=   0.0s\n",
      "[CV 3/5] END ...model__alpha=2.3000000000000003;, score=0.578 total time=   0.0s\n",
      "[CV 4/5] END ...model__alpha=2.3000000000000003;, score=0.552 total time=   0.0s\n",
      "[CV 5/5] END ...model__alpha=2.3000000000000003;, score=0.314 total time=   0.0s\n",
      "[CV 1/5] END ...model__alpha=2.4000000000000004;, score=0.475 total time=   0.0s\n",
      "[CV 2/5] END ...model__alpha=2.4000000000000004;, score=0.337 total time=   0.0s\n",
      "[CV 3/5] END ...model__alpha=2.4000000000000004;, score=0.578 total time=   0.0s\n",
      "[CV 4/5] END ...model__alpha=2.4000000000000004;, score=0.551 total time=   0.0s\n",
      "[CV 5/5] END ...model__alpha=2.4000000000000004;, score=0.315 total time=   0.0s\n",
      "[CV 1/5] END ...model__alpha=2.5000000000000004;, score=0.474 total time=   0.0s\n",
      "[CV 2/5] END ...model__alpha=2.5000000000000004;, score=0.337 total time=   0.0s\n",
      "[CV 3/5] END ...model__alpha=2.5000000000000004;, score=0.578 total time=   0.0s\n",
      "[CV 4/5] END ...model__alpha=2.5000000000000004;, score=0.550 total time=   0.0s\n",
      "[CV 5/5] END ...model__alpha=2.5000000000000004;, score=0.316 total time=   0.0s\n",
      "[CV 1/5] END ..................model__alpha=2.6;, score=0.473 total time=   0.0s\n",
      "[CV 2/5] END ..................model__alpha=2.6;, score=0.336 total time=   0.0s\n",
      "[CV 3/5] END ..................model__alpha=2.6;, score=0.578 total time=   0.0s\n",
      "[CV 4/5] END ..................model__alpha=2.6;, score=0.550 total time=   0.0s\n",
      "[CV 5/5] END ..................model__alpha=2.6;, score=0.317 total time=   0.0s\n",
      "[CV 1/5] END ..................model__alpha=2.7;, score=0.472 total time=   0.0s\n",
      "[CV 2/5] END ..................model__alpha=2.7;, score=0.335 total time=   0.0s\n",
      "[CV 3/5] END ..................model__alpha=2.7;, score=0.577 total time=   0.0s\n",
      "[CV 4/5] END ..................model__alpha=2.7;, score=0.549 total time=   0.0s\n",
      "[CV 5/5] END ..................model__alpha=2.7;, score=0.318 total time=   0.0s\n",
      "[CV 1/5] END ...model__alpha=2.8000000000000003;, score=0.471 total time=   0.0s\n",
      "[CV 2/5] END ...model__alpha=2.8000000000000003;, score=0.335 total time=   0.0s\n",
      "[CV 3/5] END ...model__alpha=2.8000000000000003;, score=0.577 total time=   0.0s\n",
      "[CV 4/5] END ...model__alpha=2.8000000000000003;, score=0.548 total time=   0.0s\n",
      "[CV 5/5] END ...model__alpha=2.8000000000000003;, score=0.319 total time=   0.0s\n",
      "[CV 1/5] END ...model__alpha=2.9000000000000004;, score=0.470 total time=   0.0s\n",
      "[CV 2/5] END ...model__alpha=2.9000000000000004;, score=0.334 total time=   0.0s\n",
      "[CV 3/5] END ...model__alpha=2.9000000000000004;, score=0.577 total time=   0.0s\n",
      "[CV 4/5] END ...model__alpha=2.9000000000000004;, score=0.547 total time=   0.0s\n",
      "[CV 5/5] END ...model__alpha=2.9000000000000004;, score=0.319 total time=   0.0s\n",
      "[CV 1/5] END ...model__alpha=3.0000000000000004;, score=0.469 total time=   0.0s\n",
      "[CV 2/5] END ...model__alpha=3.0000000000000004;, score=0.333 total time=   0.0s\n",
      "[CV 3/5] END ...model__alpha=3.0000000000000004;, score=0.578 total time=   0.0s\n",
      "[CV 4/5] END ...model__alpha=3.0000000000000004;, score=0.546 total time=   0.0s\n",
      "[CV 5/5] END ...model__alpha=3.0000000000000004;, score=0.320 total time=   0.0s\n",
      "[CV 1/5] END ..................model__alpha=3.1;, score=0.469 total time=   0.0s\n",
      "[CV 2/5] END ..................model__alpha=3.1;, score=0.332 total time=   0.0s\n",
      "[CV 3/5] END ..................model__alpha=3.1;, score=0.578 total time=   0.0s\n",
      "[CV 4/5] END ..................model__alpha=3.1;, score=0.546 total time=   0.0s\n",
      "[CV 5/5] END ..................model__alpha=3.1;, score=0.321 total time=   0.0s\n",
      "[CV 1/5] END ..................model__alpha=3.2;, score=0.468 total time=   0.0s\n",
      "[CV 2/5] END ..................model__alpha=3.2;, score=0.332 total time=   0.0s\n",
      "[CV 3/5] END ..................model__alpha=3.2;, score=0.578 total time=   0.0s\n",
      "[CV 4/5] END ..................model__alpha=3.2;, score=0.545 total time=   0.0s\n",
      "[CV 5/5] END ..................model__alpha=3.2;, score=0.322 total time=   0.0s\n",
      "[CV 1/5] END ...model__alpha=3.3000000000000003;, score=0.467 total time=   0.0s\n",
      "[CV 2/5] END ...model__alpha=3.3000000000000003;, score=0.331 total time=   0.0s\n",
      "[CV 3/5] END ...model__alpha=3.3000000000000003;, score=0.578 total time=   0.0s\n",
      "[CV 4/5] END ...model__alpha=3.3000000000000003;, score=0.544 total time=   0.0s\n",
      "[CV 5/5] END ...model__alpha=3.3000000000000003;, score=0.322 total time=   0.0s\n",
      "[CV 1/5] END ...model__alpha=3.4000000000000004;, score=0.466 total time=   0.0s\n",
      "[CV 2/5] END ...model__alpha=3.4000000000000004;, score=0.330 total time=   0.0s\n",
      "[CV 3/5] END ...model__alpha=3.4000000000000004;, score=0.578 total time=   0.0s\n",
      "[CV 4/5] END ...model__alpha=3.4000000000000004;, score=0.543 total time=   0.0s\n",
      "[CV 5/5] END ...model__alpha=3.4000000000000004;, score=0.323 total time=   0.0s\n",
      "[CV 1/5] END ...model__alpha=3.5000000000000004;, score=0.465 total time=   0.0s\n",
      "[CV 2/5] END ...model__alpha=3.5000000000000004;, score=0.329 total time=   0.0s\n",
      "[CV 3/5] END ...model__alpha=3.5000000000000004;, score=0.578 total time=   0.0s\n",
      "[CV 4/5] END ...model__alpha=3.5000000000000004;, score=0.542 total time=   0.0s\n",
      "[CV 5/5] END ...model__alpha=3.5000000000000004;, score=0.323 total time=   0.0s\n",
      "[CV 1/5] END ..................model__alpha=3.6;, score=0.464 total time=   0.0s\n",
      "[CV 2/5] END ..................model__alpha=3.6;, score=0.328 total time=   0.0s\n",
      "[CV 3/5] END ..................model__alpha=3.6;, score=0.578 total time=   0.0s\n",
      "[CV 4/5] END ..................model__alpha=3.6;, score=0.541 total time=   0.0s\n",
      "[CV 5/5] END ..................model__alpha=3.6;, score=0.323 total time=   0.0s\n",
      "[CV 1/5] END ..................model__alpha=3.7;, score=0.463 total time=   0.0s\n",
      "[CV 2/5] END ..................model__alpha=3.7;, score=0.328 total time=   0.0s\n",
      "[CV 3/5] END ..................model__alpha=3.7;, score=0.577 total time=   0.0s\n",
      "[CV 4/5] END ..................model__alpha=3.7;, score=0.540 total time=   0.0s\n",
      "[CV 5/5] END ..................model__alpha=3.7;, score=0.324 total time=   0.0s\n",
      "[CV 1/5] END ...model__alpha=3.8000000000000003;, score=0.462 total time=   0.0s\n",
      "[CV 2/5] END ...model__alpha=3.8000000000000003;, score=0.327 total time=   0.0s\n",
      "[CV 3/5] END ...model__alpha=3.8000000000000003;, score=0.577 total time=   0.0s\n",
      "[CV 4/5] END ...model__alpha=3.8000000000000003;, score=0.539 total time=   0.0s\n",
      "[CV 5/5] END ...model__alpha=3.8000000000000003;, score=0.324 total time=   0.0s\n",
      "[CV 1/5] END ...model__alpha=3.9000000000000004;, score=0.462 total time=   0.0s\n",
      "[CV 2/5] END ...model__alpha=3.9000000000000004;, score=0.326 total time=   0.0s\n",
      "[CV 3/5] END ...model__alpha=3.9000000000000004;, score=0.577 total time=   0.0s\n",
      "[CV 4/5] END ...model__alpha=3.9000000000000004;, score=0.539 total time=   0.0s\n",
      "[CV 5/5] END ...model__alpha=3.9000000000000004;, score=0.324 total time=   0.0s\n",
      "[CV 1/5] END ..................model__alpha=4.0;, score=0.461 total time=   0.0s\n",
      "[CV 2/5] END ..................model__alpha=4.0;, score=0.325 total time=   0.0s\n",
      "[CV 3/5] END ..................model__alpha=4.0;, score=0.577 total time=   0.0s\n",
      "[CV 4/5] END ..................model__alpha=4.0;, score=0.538 total time=   0.0s\n",
      "[CV 5/5] END ..................model__alpha=4.0;, score=0.325 total time=   0.0s\n",
      "[CV 1/5] END ..................model__alpha=4.1;, score=0.460 total time=   0.0s\n",
      "[CV 2/5] END ..................model__alpha=4.1;, score=0.324 total time=   0.0s\n",
      "[CV 3/5] END ..................model__alpha=4.1;, score=0.577 total time=   0.0s\n",
      "[CV 4/5] END ..................model__alpha=4.1;, score=0.537 total time=   0.0s\n",
      "[CV 5/5] END ..................model__alpha=4.1;, score=0.325 total time=   0.0s\n",
      "[CV 1/5] END ..................model__alpha=4.2;, score=0.459 total time=   0.0s\n",
      "[CV 2/5] END ..................model__alpha=4.2;, score=0.323 total time=   0.0s\n",
      "[CV 3/5] END ..................model__alpha=4.2;, score=0.577 total time=   0.0s\n",
      "[CV 4/5] END ..................model__alpha=4.2;, score=0.537 total time=   0.0s\n",
      "[CV 5/5] END ..................model__alpha=4.2;, score=0.325 total time=   0.0s\n",
      "[CV 1/5] END ..................model__alpha=4.3;, score=0.458 total time=   0.0s\n",
      "[CV 2/5] END ..................model__alpha=4.3;, score=0.322 total time=   0.0s\n",
      "[CV 3/5] END ..................model__alpha=4.3;, score=0.577 total time=   0.0s\n",
      "[CV 4/5] END ..................model__alpha=4.3;, score=0.536 total time=   0.0s\n",
      "[CV 5/5] END ..................model__alpha=4.3;, score=0.326 total time=   0.0s\n",
      "[CV 1/5] END ...model__alpha=4.3999999999999995;, score=0.457 total time=   0.0s\n",
      "[CV 2/5] END ...model__alpha=4.3999999999999995;, score=0.322 total time=   0.0s\n",
      "[CV 3/5] END ...model__alpha=4.3999999999999995;, score=0.576 total time=   0.0s\n",
      "[CV 4/5] END ...model__alpha=4.3999999999999995;, score=0.535 total time=   0.0s\n",
      "[CV 5/5] END ...model__alpha=4.3999999999999995;, score=0.326 total time=   0.0s\n",
      "[CV 1/5] END ..................model__alpha=4.5;, score=0.456 total time=   0.0s\n",
      "[CV 2/5] END ..................model__alpha=4.5;, score=0.321 total time=   0.0s\n",
      "[CV 3/5] END ..................model__alpha=4.5;, score=0.576 total time=   0.0s\n",
      "[CV 4/5] END ..................model__alpha=4.5;, score=0.534 total time=   0.0s\n",
      "[CV 5/5] END ..................model__alpha=4.5;, score=0.326 total time=   0.0s\n",
      "[CV 1/5] END ..................model__alpha=4.6;, score=0.455 total time=   0.0s\n",
      "[CV 2/5] END ..................model__alpha=4.6;, score=0.320 total time=   0.0s\n",
      "[CV 3/5] END ..................model__alpha=4.6;, score=0.576 total time=   0.0s\n",
      "[CV 4/5] END ..................model__alpha=4.6;, score=0.534 total time=   0.0s\n",
      "[CV 5/5] END ..................model__alpha=4.6;, score=0.326 total time=   0.0s\n",
      "[CV 1/5] END ..................model__alpha=4.7;, score=0.453 total time=   0.0s\n",
      "[CV 2/5] END ..................model__alpha=4.7;, score=0.319 total time=   0.0s\n",
      "[CV 3/5] END ..................model__alpha=4.7;, score=0.576 total time=   0.0s\n",
      "[CV 4/5] END ..................model__alpha=4.7;, score=0.533 total time=   0.0s\n",
      "[CV 5/5] END ..................model__alpha=4.7;, score=0.326 total time=   0.0s\n",
      "[CV 1/5] END ..................model__alpha=4.8;, score=0.452 total time=   0.0s\n",
      "[CV 2/5] END ..................model__alpha=4.8;, score=0.318 total time=   0.0s\n",
      "[CV 3/5] END ..................model__alpha=4.8;, score=0.576 total time=   0.0s\n",
      "[CV 4/5] END ..................model__alpha=4.8;, score=0.532 total time=   0.0s\n",
      "[CV 5/5] END ..................model__alpha=4.8;, score=0.327 total time=   0.0s\n",
      "[CV 1/5] END ..................model__alpha=4.9;, score=0.451 total time=   0.0s\n",
      "[CV 2/5] END ..................model__alpha=4.9;, score=0.317 total time=   0.0s\n",
      "[CV 3/5] END ..................model__alpha=4.9;, score=0.575 total time=   0.0s\n",
      "[CV 4/5] END ..................model__alpha=4.9;, score=0.531 total time=   0.0s\n",
      "[CV 5/5] END ..................model__alpha=4.9;, score=0.327 total time=   0.0s\n",
      "[CV 1/5] END ..................model__alpha=5.0;, score=0.450 total time=   0.0s\n",
      "[CV 2/5] END ..................model__alpha=5.0;, score=0.317 total time=   0.0s\n",
      "[CV 3/5] END ..................model__alpha=5.0;, score=0.575 total time=   0.0s\n",
      "[CV 4/5] END ..................model__alpha=5.0;, score=0.530 total time=   0.0s\n",
      "[CV 5/5] END ..................model__alpha=5.0;, score=0.327 total time=   0.0s\n",
      "[CV 1/5] END ..................model__alpha=5.1;, score=0.449 total time=   0.0s\n",
      "[CV 2/5] END ..................model__alpha=5.1;, score=0.317 total time=   0.0s\n",
      "[CV 3/5] END ..................model__alpha=5.1;, score=0.575 total time=   0.0s\n",
      "[CV 4/5] END ..................model__alpha=5.1;, score=0.530 total time=   0.0s\n",
      "[CV 5/5] END ..................model__alpha=5.1;, score=0.327 total time=   0.0s\n",
      "[CV 1/5] END ..................model__alpha=5.2;, score=0.448 total time=   0.0s\n",
      "[CV 2/5] END ..................model__alpha=5.2;, score=0.317 total time=   0.0s\n",
      "[CV 3/5] END ..................model__alpha=5.2;, score=0.574 total time=   0.0s\n",
      "[CV 4/5] END ..................model__alpha=5.2;, score=0.529 total time=   0.0s\n",
      "[CV 5/5] END ..................model__alpha=5.2;, score=0.327 total time=   0.0s\n",
      "[CV 1/5] END ..................model__alpha=5.3;, score=0.447 total time=   0.0s\n",
      "[CV 2/5] END ..................model__alpha=5.3;, score=0.317 total time=   0.0s\n",
      "[CV 3/5] END ..................model__alpha=5.3;, score=0.574 total time=   0.0s\n",
      "[CV 4/5] END ..................model__alpha=5.3;, score=0.528 total time=   0.0s\n",
      "[CV 5/5] END ..................model__alpha=5.3;, score=0.327 total time=   0.0s\n",
      "[CV 1/5] END ..................model__alpha=5.4;, score=0.446 total time=   0.0s\n",
      "[CV 2/5] END ..................model__alpha=5.4;, score=0.317 total time=   0.0s\n",
      "[CV 3/5] END ..................model__alpha=5.4;, score=0.573 total time=   0.0s\n",
      "[CV 4/5] END ..................model__alpha=5.4;, score=0.527 total time=   0.0s\n",
      "[CV 5/5] END ..................model__alpha=5.4;, score=0.327 total time=   0.0s\n",
      "[CV 1/5] END ..................model__alpha=5.5;, score=0.444 total time=   0.0s\n",
      "[CV 2/5] END ..................model__alpha=5.5;, score=0.318 total time=   0.0s\n",
      "[CV 3/5] END ..................model__alpha=5.5;, score=0.573 total time=   0.0s\n",
      "[CV 4/5] END ..................model__alpha=5.5;, score=0.526 total time=   0.0s\n",
      "[CV 5/5] END ..................model__alpha=5.5;, score=0.327 total time=   0.0s\n",
      "[CV 1/5] END ..................model__alpha=5.6;, score=0.443 total time=   0.0s\n",
      "[CV 2/5] END ..................model__alpha=5.6;, score=0.318 total time=   0.0s\n",
      "[CV 3/5] END ..................model__alpha=5.6;, score=0.573 total time=   0.0s\n",
      "[CV 4/5] END ..................model__alpha=5.6;, score=0.525 total time=   0.0s\n",
      "[CV 5/5] END ..................model__alpha=5.6;, score=0.327 total time=   0.0s\n",
      "[CV 1/5] END ..................model__alpha=5.7;, score=0.442 total time=   0.0s\n",
      "[CV 2/5] END ..................model__alpha=5.7;, score=0.318 total time=   0.0s\n",
      "[CV 3/5] END ..................model__alpha=5.7;, score=0.572 total time=   0.0s\n",
      "[CV 4/5] END ..................model__alpha=5.7;, score=0.524 total time=   0.0s\n",
      "[CV 5/5] END ..................model__alpha=5.7;, score=0.327 total time=   0.0s\n",
      "[CV 1/5] END ..................model__alpha=5.8;, score=0.441 total time=   0.0s\n",
      "[CV 2/5] END ..................model__alpha=5.8;, score=0.318 total time=   0.0s\n",
      "[CV 3/5] END ..................model__alpha=5.8;, score=0.572 total time=   0.0s\n",
      "[CV 4/5] END ..................model__alpha=5.8;, score=0.523 total time=   0.0s\n",
      "[CV 5/5] END ..................model__alpha=5.8;, score=0.327 total time=   0.0s\n",
      "[CV 1/5] END ..................model__alpha=5.9;, score=0.440 total time=   0.0s\n",
      "[CV 2/5] END ..................model__alpha=5.9;, score=0.318 total time=   0.0s\n",
      "[CV 3/5] END ..................model__alpha=5.9;, score=0.571 total time=   0.0s\n",
      "[CV 4/5] END ..................model__alpha=5.9;, score=0.522 total time=   0.0s\n",
      "[CV 5/5] END ..................model__alpha=5.9;, score=0.327 total time=   0.0s\n",
      "[CV 1/5] END ..................model__alpha=6.0;, score=0.438 total time=   0.0s\n",
      "[CV 2/5] END ..................model__alpha=6.0;, score=0.319 total time=   0.0s\n",
      "[CV 3/5] END ..................model__alpha=6.0;, score=0.571 total time=   0.0s\n",
      "[CV 4/5] END ..................model__alpha=6.0;, score=0.521 total time=   0.0s\n",
      "[CV 5/5] END ..................model__alpha=6.0;, score=0.326 total time=   0.0s\n",
      "[CV 1/5] END ..................model__alpha=6.1;, score=0.437 total time=   0.0s\n",
      "[CV 2/5] END ..................model__alpha=6.1;, score=0.319 total time=   0.0s\n",
      "[CV 3/5] END ..................model__alpha=6.1;, score=0.570 total time=   0.0s\n",
      "[CV 4/5] END ..................model__alpha=6.1;, score=0.520 total time=   0.0s\n",
      "[CV 5/5] END ..................model__alpha=6.1;, score=0.326 total time=   0.0s\n",
      "[CV 1/5] END ..................model__alpha=6.2;, score=0.436 total time=   0.0s\n",
      "[CV 2/5] END ..................model__alpha=6.2;, score=0.319 total time=   0.0s\n",
      "[CV 3/5] END ..................model__alpha=6.2;, score=0.570 total time=   0.0s\n",
      "[CV 4/5] END ..................model__alpha=6.2;, score=0.519 total time=   0.0s\n",
      "[CV 5/5] END ..................model__alpha=6.2;, score=0.326 total time=   0.0s\n",
      "[CV 1/5] END ..................model__alpha=6.3;, score=0.434 total time=   0.0s\n",
      "[CV 2/5] END ..................model__alpha=6.3;, score=0.319 total time=   0.0s\n",
      "[CV 3/5] END ..................model__alpha=6.3;, score=0.569 total time=   0.0s\n",
      "[CV 4/5] END ..................model__alpha=6.3;, score=0.518 total time=   0.0s\n",
      "[CV 5/5] END ..................model__alpha=6.3;, score=0.326 total time=   0.0s\n",
      "[CV 1/5] END ..................model__alpha=6.4;, score=0.433 total time=   0.0s\n",
      "[CV 2/5] END ..................model__alpha=6.4;, score=0.319 total time=   0.0s\n",
      "[CV 3/5] END ..................model__alpha=6.4;, score=0.568 total time=   0.0s\n",
      "[CV 4/5] END ..................model__alpha=6.4;, score=0.517 total time=   0.0s\n",
      "[CV 5/5] END ..................model__alpha=6.4;, score=0.326 total time=   0.0s\n",
      "[CV 1/5] END ..................model__alpha=6.5;, score=0.432 total time=   0.0s\n",
      "[CV 2/5] END ..................model__alpha=6.5;, score=0.319 total time=   0.0s\n",
      "[CV 3/5] END ..................model__alpha=6.5;, score=0.567 total time=   0.0s\n",
      "[CV 4/5] END ..................model__alpha=6.5;, score=0.516 total time=   0.0s\n",
      "[CV 5/5] END ..................model__alpha=6.5;, score=0.325 total time=   0.0s\n",
      "[CV 1/5] END ..................model__alpha=6.6;, score=0.430 total time=   0.0s\n",
      "[CV 2/5] END ..................model__alpha=6.6;, score=0.320 total time=   0.0s\n",
      "[CV 3/5] END ..................model__alpha=6.6;, score=0.566 total time=   0.0s\n",
      "[CV 4/5] END ..................model__alpha=6.6;, score=0.515 total time=   0.0s\n",
      "[CV 5/5] END ..................model__alpha=6.6;, score=0.325 total time=   0.0s\n",
      "[CV 1/5] END ..................model__alpha=6.7;, score=0.429 total time=   0.0s\n",
      "[CV 2/5] END ..................model__alpha=6.7;, score=0.320 total time=   0.0s\n",
      "[CV 3/5] END ..................model__alpha=6.7;, score=0.566 total time=   0.0s\n",
      "[CV 4/5] END ..................model__alpha=6.7;, score=0.514 total time=   0.0s\n",
      "[CV 5/5] END ..................model__alpha=6.7;, score=0.325 total time=   0.0s\n",
      "[CV 1/5] END ..................model__alpha=6.8;, score=0.428 total time=   0.0s\n",
      "[CV 2/5] END ..................model__alpha=6.8;, score=0.320 total time=   0.0s\n",
      "[CV 3/5] END ..................model__alpha=6.8;, score=0.565 total time=   0.0s\n",
      "[CV 4/5] END ..................model__alpha=6.8;, score=0.513 total time=   0.0s\n",
      "[CV 5/5] END ..................model__alpha=6.8;, score=0.324 total time=   0.0s\n",
      "[CV 1/5] END ..................model__alpha=6.9;, score=0.427 total time=   0.0s\n",
      "[CV 2/5] END ..................model__alpha=6.9;, score=0.320 total time=   0.0s\n",
      "[CV 3/5] END ..................model__alpha=6.9;, score=0.564 total time=   0.0s\n",
      "[CV 4/5] END ..................model__alpha=6.9;, score=0.511 total time=   0.0s\n",
      "[CV 5/5] END ..................model__alpha=6.9;, score=0.324 total time=   0.0s\n",
      "[CV 1/5] END ..................model__alpha=7.0;, score=0.427 total time=   0.0s\n",
      "[CV 2/5] END ..................model__alpha=7.0;, score=0.320 total time=   0.0s\n",
      "[CV 3/5] END ..................model__alpha=7.0;, score=0.563 total time=   0.0s\n",
      "[CV 4/5] END ..................model__alpha=7.0;, score=0.510 total time=   0.0s\n",
      "[CV 5/5] END ..................model__alpha=7.0;, score=0.324 total time=   0.0s\n",
      "[CV 1/5] END ..................model__alpha=7.1;, score=0.426 total time=   0.0s\n",
      "[CV 2/5] END ..................model__alpha=7.1;, score=0.320 total time=   0.0s\n",
      "[CV 3/5] END ..................model__alpha=7.1;, score=0.562 total time=   0.0s\n",
      "[CV 4/5] END ..................model__alpha=7.1;, score=0.509 total time=   0.0s\n",
      "[CV 5/5] END ..................model__alpha=7.1;, score=0.323 total time=   0.0s\n",
      "[CV 1/5] END ..................model__alpha=7.2;, score=0.425 total time=   0.0s\n",
      "[CV 2/5] END ..................model__alpha=7.2;, score=0.320 total time=   0.0s\n",
      "[CV 3/5] END ..................model__alpha=7.2;, score=0.561 total time=   0.0s\n",
      "[CV 4/5] END ..................model__alpha=7.2;, score=0.508 total time=   0.0s\n",
      "[CV 5/5] END ..................model__alpha=7.2;, score=0.323 total time=   0.0s\n",
      "[CV 1/5] END ..................model__alpha=7.3;, score=0.424 total time=   0.0s\n",
      "[CV 2/5] END ..................model__alpha=7.3;, score=0.320 total time=   0.0s\n",
      "[CV 3/5] END ..................model__alpha=7.3;, score=0.560 total time=   0.0s\n",
      "[CV 4/5] END ..................model__alpha=7.3;, score=0.508 total time=   0.0s\n",
      "[CV 5/5] END ..................model__alpha=7.3;, score=0.323 total time=   0.0s\n",
      "[CV 1/5] END ..................model__alpha=7.4;, score=0.423 total time=   0.0s\n",
      "[CV 2/5] END ..................model__alpha=7.4;, score=0.321 total time=   0.0s\n",
      "[CV 3/5] END ..................model__alpha=7.4;, score=0.560 total time=   0.0s\n",
      "[CV 4/5] END ..................model__alpha=7.4;, score=0.507 total time=   0.0s\n",
      "[CV 5/5] END ..................model__alpha=7.4;, score=0.322 total time=   0.0s\n",
      "[CV 1/5] END ..................model__alpha=7.5;, score=0.422 total time=   0.0s\n",
      "[CV 2/5] END ..................model__alpha=7.5;, score=0.321 total time=   0.0s\n",
      "[CV 3/5] END ..................model__alpha=7.5;, score=0.559 total time=   0.0s\n",
      "[CV 4/5] END ..................model__alpha=7.5;, score=0.506 total time=   0.0s\n",
      "[CV 5/5] END ..................model__alpha=7.5;, score=0.322 total time=   0.0s\n",
      "[CV 1/5] END ..................model__alpha=7.6;, score=0.421 total time=   0.0s\n",
      "[CV 2/5] END ..................model__alpha=7.6;, score=0.321 total time=   0.0s\n",
      "[CV 3/5] END ..................model__alpha=7.6;, score=0.559 total time=   0.0s\n",
      "[CV 4/5] END ..................model__alpha=7.6;, score=0.505 total time=   0.0s\n",
      "[CV 5/5] END ..................model__alpha=7.6;, score=0.322 total time=   0.0s\n",
      "[CV 1/5] END ..................model__alpha=7.7;, score=0.421 total time=   0.0s\n",
      "[CV 2/5] END ..................model__alpha=7.7;, score=0.321 total time=   0.0s\n",
      "[CV 3/5] END ..................model__alpha=7.7;, score=0.558 total time=   0.0s\n",
      "[CV 4/5] END ..................model__alpha=7.7;, score=0.504 total time=   0.0s\n",
      "[CV 5/5] END ..................model__alpha=7.7;, score=0.321 total time=   0.0s\n",
      "[CV 1/5] END ..................model__alpha=7.8;, score=0.420 total time=   0.0s\n",
      "[CV 2/5] END ..................model__alpha=7.8;, score=0.321 total time=   0.0s\n",
      "[CV 3/5] END ..................model__alpha=7.8;, score=0.557 total time=   0.0s\n",
      "[CV 4/5] END ..................model__alpha=7.8;, score=0.504 total time=   0.0s\n",
      "[CV 5/5] END ..................model__alpha=7.8;, score=0.321 total time=   0.0s\n",
      "[CV 1/5] END ..................model__alpha=7.9;, score=0.419 total time=   0.0s\n",
      "[CV 2/5] END ..................model__alpha=7.9;, score=0.321 total time=   0.0s\n",
      "[CV 3/5] END ..................model__alpha=7.9;, score=0.557 total time=   0.0s\n",
      "[CV 4/5] END ..................model__alpha=7.9;, score=0.503 total time=   0.0s\n",
      "[CV 5/5] END ..................model__alpha=7.9;, score=0.320 total time=   0.0s\n",
      "[CV 1/5] END ..................model__alpha=8.0;, score=0.418 total time=   0.0s\n",
      "[CV 2/5] END ..................model__alpha=8.0;, score=0.321 total time=   0.0s\n",
      "[CV 3/5] END ..................model__alpha=8.0;, score=0.556 total time=   0.0s\n",
      "[CV 4/5] END ..................model__alpha=8.0;, score=0.502 total time=   0.0s\n",
      "[CV 5/5] END ..................model__alpha=8.0;, score=0.320 total time=   0.0s\n",
      "[CV 1/5] END ..................model__alpha=8.1;, score=0.417 total time=   0.0s\n",
      "[CV 2/5] END ..................model__alpha=8.1;, score=0.321 total time=   0.0s\n",
      "[CV 3/5] END ..................model__alpha=8.1;, score=0.555 total time=   0.0s\n",
      "[CV 4/5] END ..................model__alpha=8.1;, score=0.501 total time=   0.0s\n",
      "[CV 5/5] END ..................model__alpha=8.1;, score=0.320 total time=   0.0s\n",
      "[CV 1/5] END ..................model__alpha=8.2;, score=0.416 total time=   0.0s\n",
      "[CV 2/5] END ..................model__alpha=8.2;, score=0.321 total time=   0.0s\n",
      "[CV 3/5] END ..................model__alpha=8.2;, score=0.555 total time=   0.0s\n",
      "[CV 4/5] END ..................model__alpha=8.2;, score=0.500 total time=   0.0s\n",
      "[CV 5/5] END ..................model__alpha=8.2;, score=0.320 total time=   0.0s\n",
      "[CV 1/5] END ..................model__alpha=8.3;, score=0.415 total time=   0.0s\n",
      "[CV 2/5] END ..................model__alpha=8.3;, score=0.321 total time=   0.0s\n",
      "[CV 3/5] END ..................model__alpha=8.3;, score=0.554 total time=   0.0s\n",
      "[CV 4/5] END ..................model__alpha=8.3;, score=0.499 total time=   0.0s\n",
      "[CV 5/5] END ..................model__alpha=8.3;, score=0.320 total time=   0.0s\n",
      "[CV 1/5] END ..................model__alpha=8.4;, score=0.414 total time=   0.0s\n",
      "[CV 2/5] END ..................model__alpha=8.4;, score=0.321 total time=   0.0s\n",
      "[CV 3/5] END ..................model__alpha=8.4;, score=0.553 total time=   0.0s\n",
      "[CV 4/5] END ..................model__alpha=8.4;, score=0.498 total time=   0.0s\n",
      "[CV 5/5] END ..................model__alpha=8.4;, score=0.319 total time=   0.0s\n",
      "[CV 1/5] END ..................model__alpha=8.5;, score=0.413 total time=   0.0s\n",
      "[CV 2/5] END ..................model__alpha=8.5;, score=0.321 total time=   0.0s\n",
      "[CV 3/5] END ..................model__alpha=8.5;, score=0.552 total time=   0.0s\n",
      "[CV 4/5] END ..................model__alpha=8.5;, score=0.497 total time=   0.0s\n",
      "[CV 5/5] END ..................model__alpha=8.5;, score=0.319 total time=   0.0s\n",
      "[CV 1/5] END ..................model__alpha=8.6;, score=0.412 total time=   0.0s\n",
      "[CV 2/5] END ..................model__alpha=8.6;, score=0.321 total time=   0.0s\n",
      "[CV 3/5] END ..................model__alpha=8.6;, score=0.552 total time=   0.0s\n",
      "[CV 4/5] END ..................model__alpha=8.6;, score=0.497 total time=   0.0s\n",
      "[CV 5/5] END ..................model__alpha=8.6;, score=0.319 total time=   0.0s\n",
      "[CV 1/5] END ..................model__alpha=8.7;, score=0.411 total time=   0.0s\n",
      "[CV 2/5] END ..................model__alpha=8.7;, score=0.321 total time=   0.0s\n",
      "[CV 3/5] END ..................model__alpha=8.7;, score=0.551 total time=   0.0s\n",
      "[CV 4/5] END ..................model__alpha=8.7;, score=0.496 total time=   0.0s\n",
      "[CV 5/5] END ..................model__alpha=8.7;, score=0.319 total time=   0.0s\n",
      "[CV 1/5] END ..................model__alpha=8.8;, score=0.411 total time=   0.0s\n",
      "[CV 2/5] END ..................model__alpha=8.8;, score=0.321 total time=   0.0s\n",
      "[CV 3/5] END ..................model__alpha=8.8;, score=0.550 total time=   0.0s\n",
      "[CV 4/5] END ..................model__alpha=8.8;, score=0.495 total time=   0.0s\n",
      "[CV 5/5] END ..................model__alpha=8.8;, score=0.319 total time=   0.0s\n",
      "[CV 1/5] END ..................model__alpha=8.9;, score=0.410 total time=   0.0s\n",
      "[CV 2/5] END ..................model__alpha=8.9;, score=0.321 total time=   0.0s\n",
      "[CV 3/5] END ..................model__alpha=8.9;, score=0.549 total time=   0.0s\n",
      "[CV 4/5] END ..................model__alpha=8.9;, score=0.494 total time=   0.0s\n",
      "[CV 5/5] END ..................model__alpha=8.9;, score=0.318 total time=   0.0s\n",
      "[CV 1/5] END ..................model__alpha=9.0;, score=0.409 total time=   0.0s\n",
      "[CV 2/5] END ..................model__alpha=9.0;, score=0.321 total time=   0.0s\n",
      "[CV 3/5] END ..................model__alpha=9.0;, score=0.549 total time=   0.0s\n",
      "[CV 4/5] END ..................model__alpha=9.0;, score=0.493 total time=   0.0s\n",
      "[CV 5/5] END ..................model__alpha=9.0;, score=0.318 total time=   0.0s\n",
      "[CV 1/5] END ..................model__alpha=9.1;, score=0.408 total time=   0.0s\n",
      "[CV 2/5] END ..................model__alpha=9.1;, score=0.321 total time=   0.0s\n",
      "[CV 3/5] END ..................model__alpha=9.1;, score=0.548 total time=   0.0s\n",
      "[CV 4/5] END ..................model__alpha=9.1;, score=0.492 total time=   0.0s\n",
      "[CV 5/5] END ..................model__alpha=9.1;, score=0.318 total time=   0.0s\n",
      "[CV 1/5] END ..................model__alpha=9.2;, score=0.407 total time=   0.0s\n",
      "[CV 2/5] END ..................model__alpha=9.2;, score=0.321 total time=   0.0s\n",
      "[CV 3/5] END ..................model__alpha=9.2;, score=0.547 total time=   0.0s\n",
      "[CV 4/5] END ..................model__alpha=9.2;, score=0.491 total time=   0.0s\n",
      "[CV 5/5] END ..................model__alpha=9.2;, score=0.318 total time=   0.0s\n",
      "[CV 1/5] END ..................model__alpha=9.3;, score=0.406 total time=   0.0s\n",
      "[CV 2/5] END ..................model__alpha=9.3;, score=0.321 total time=   0.0s\n",
      "[CV 3/5] END ..................model__alpha=9.3;, score=0.546 total time=   0.0s\n",
      "[CV 4/5] END ..................model__alpha=9.3;, score=0.490 total time=   0.0s\n",
      "[CV 5/5] END ..................model__alpha=9.3;, score=0.317 total time=   0.0s\n",
      "[CV 1/5] END ..................model__alpha=9.4;, score=0.405 total time=   0.0s\n",
      "[CV 2/5] END ..................model__alpha=9.4;, score=0.321 total time=   0.0s\n",
      "[CV 3/5] END ..................model__alpha=9.4;, score=0.546 total time=   0.0s\n",
      "[CV 4/5] END ..................model__alpha=9.4;, score=0.489 total time=   0.0s\n",
      "[CV 5/5] END ..................model__alpha=9.4;, score=0.317 total time=   0.0s\n",
      "[CV 1/5] END ..................model__alpha=9.5;, score=0.404 total time=   0.0s\n",
      "[CV 2/5] END ..................model__alpha=9.5;, score=0.321 total time=   0.0s\n",
      "[CV 3/5] END ..................model__alpha=9.5;, score=0.545 total time=   0.0s\n",
      "[CV 4/5] END ..................model__alpha=9.5;, score=0.488 total time=   0.0s\n",
      "[CV 5/5] END ..................model__alpha=9.5;, score=0.317 total time=   0.0s\n",
      "[CV 1/5] END ..................model__alpha=9.6;, score=0.403 total time=   0.0s\n",
      "[CV 2/5] END ..................model__alpha=9.6;, score=0.321 total time=   0.0s\n",
      "[CV 3/5] END ..................model__alpha=9.6;, score=0.544 total time=   0.0s\n",
      "[CV 4/5] END ..................model__alpha=9.6;, score=0.487 total time=   0.0s\n",
      "[CV 5/5] END ..................model__alpha=9.6;, score=0.316 total time=   0.0s\n",
      "[CV 1/5] END ....model__alpha=9.700000000000001;, score=0.402 total time=   0.0s\n",
      "[CV 2/5] END ....model__alpha=9.700000000000001;, score=0.321 total time=   0.0s\n",
      "[CV 3/5] END ....model__alpha=9.700000000000001;, score=0.543 total time=   0.0s\n",
      "[CV 4/5] END ....model__alpha=9.700000000000001;, score=0.486 total time=   0.0s\n",
      "[CV 5/5] END ....model__alpha=9.700000000000001;, score=0.316 total time=   0.0s\n",
      "[CV 1/5] END ..................model__alpha=9.8;, score=0.401 total time=   0.0s\n",
      "[CV 2/5] END ..................model__alpha=9.8;, score=0.321 total time=   0.0s\n",
      "[CV 3/5] END ..................model__alpha=9.8;, score=0.542 total time=   0.0s\n",
      "[CV 4/5] END ..................model__alpha=9.8;, score=0.485 total time=   0.0s\n",
      "[CV 5/5] END ..................model__alpha=9.8;, score=0.316 total time=   0.0s\n",
      "[CV 1/5] END ..................model__alpha=9.9;, score=0.400 total time=   0.0s\n",
      "[CV 2/5] END ..................model__alpha=9.9;, score=0.321 total time=   0.0s\n",
      "[CV 3/5] END ..................model__alpha=9.9;, score=0.541 total time=   0.0s\n",
      "[CV 4/5] END ..................model__alpha=9.9;, score=0.484 total time=   0.0s\n",
      "[CV 5/5] END ..................model__alpha=9.9;, score=0.315 total time=   0.0s\n"
     ]
    },
    {
     "data": {
      "text/html": [
       "<style>#sk-container-id-1 {color: black;}#sk-container-id-1 pre{padding: 0;}#sk-container-id-1 div.sk-toggleable {background-color: white;}#sk-container-id-1 label.sk-toggleable__label {cursor: pointer;display: block;width: 100%;margin-bottom: 0;padding: 0.3em;box-sizing: border-box;text-align: center;}#sk-container-id-1 label.sk-toggleable__label-arrow:before {content: \"▸\";float: left;margin-right: 0.25em;color: #696969;}#sk-container-id-1 label.sk-toggleable__label-arrow:hover:before {color: black;}#sk-container-id-1 div.sk-estimator:hover label.sk-toggleable__label-arrow:before {color: black;}#sk-container-id-1 div.sk-toggleable__content {max-height: 0;max-width: 0;overflow: hidden;text-align: left;background-color: #f0f8ff;}#sk-container-id-1 div.sk-toggleable__content pre {margin: 0.2em;color: black;border-radius: 0.25em;background-color: #f0f8ff;}#sk-container-id-1 input.sk-toggleable__control:checked~div.sk-toggleable__content {max-height: 200px;max-width: 100%;overflow: auto;}#sk-container-id-1 input.sk-toggleable__control:checked~label.sk-toggleable__label-arrow:before {content: \"▾\";}#sk-container-id-1 div.sk-estimator input.sk-toggleable__control:checked~label.sk-toggleable__label {background-color: #d4ebff;}#sk-container-id-1 div.sk-label input.sk-toggleable__control:checked~label.sk-toggleable__label {background-color: #d4ebff;}#sk-container-id-1 input.sk-hidden--visually {border: 0;clip: rect(1px 1px 1px 1px);clip: rect(1px, 1px, 1px, 1px);height: 1px;margin: -1px;overflow: hidden;padding: 0;position: absolute;width: 1px;}#sk-container-id-1 div.sk-estimator {font-family: monospace;background-color: #f0f8ff;border: 1px dotted black;border-radius: 0.25em;box-sizing: border-box;margin-bottom: 0.5em;}#sk-container-id-1 div.sk-estimator:hover {background-color: #d4ebff;}#sk-container-id-1 div.sk-parallel-item::after {content: \"\";width: 100%;border-bottom: 1px solid gray;flex-grow: 1;}#sk-container-id-1 div.sk-label:hover label.sk-toggleable__label {background-color: #d4ebff;}#sk-container-id-1 div.sk-serial::before {content: \"\";position: absolute;border-left: 1px solid gray;box-sizing: border-box;top: 0;bottom: 0;left: 50%;z-index: 0;}#sk-container-id-1 div.sk-serial {display: flex;flex-direction: column;align-items: center;background-color: white;padding-right: 0.2em;padding-left: 0.2em;position: relative;}#sk-container-id-1 div.sk-item {position: relative;z-index: 1;}#sk-container-id-1 div.sk-parallel {display: flex;align-items: stretch;justify-content: center;background-color: white;position: relative;}#sk-container-id-1 div.sk-item::before, #sk-container-id-1 div.sk-parallel-item::before {content: \"\";position: absolute;border-left: 1px solid gray;box-sizing: border-box;top: 0;bottom: 0;left: 50%;z-index: -1;}#sk-container-id-1 div.sk-parallel-item {display: flex;flex-direction: column;z-index: 1;position: relative;background-color: white;}#sk-container-id-1 div.sk-parallel-item:first-child::after {align-self: flex-end;width: 50%;}#sk-container-id-1 div.sk-parallel-item:last-child::after {align-self: flex-start;width: 50%;}#sk-container-id-1 div.sk-parallel-item:only-child::after {width: 0;}#sk-container-id-1 div.sk-dashed-wrapped {border: 1px dashed gray;margin: 0 0.4em 0.5em 0.4em;box-sizing: border-box;padding-bottom: 0.4em;background-color: white;}#sk-container-id-1 div.sk-label label {font-family: monospace;font-weight: bold;display: inline-block;line-height: 1.2em;}#sk-container-id-1 div.sk-label-container {text-align: center;}#sk-container-id-1 div.sk-container {/* jupyter's `normalize.less` sets `[hidden] { display: none; }` but bootstrap.min.css set `[hidden] { display: none !important; }` so we also need the `!important` here to be able to override the default hidden behavior on the sphinx rendered scikit-learn.org. See: https://github.com/scikit-learn/scikit-learn/issues/21755 */display: inline-block !important;position: relative;}#sk-container-id-1 div.sk-text-repr-fallback {display: none;}</style><div id=\"sk-container-id-1\" class=\"sk-top-container\"><div class=\"sk-text-repr-fallback\"><pre>GridSearchCV(cv=5,\n",
       "             estimator=Pipeline(steps=[(&#x27;scaler&#x27;, StandardScaler()),\n",
       "                                       (&#x27;model&#x27;, Lasso())]),\n",
       "             param_grid={&#x27;model__alpha&#x27;: array([0.1, 0.2, 0.3, 0.4, 0.5, 0.6, 0.7, 0.8, 0.9, 1. , 1.1, 1.2, 1.3,\n",
       "       1.4, 1.5, 1.6, 1.7, 1.8, 1.9, 2. , 2.1, 2.2, 2.3, 2.4, 2.5, 2.6,\n",
       "       2.7, 2.8, 2.9, 3. , 3.1, 3.2, 3.3, 3.4, 3.5, 3.6, 3.7, 3.8, 3.9,\n",
       "       4. , 4.1, 4.2, 4.3, 4.4, 4.5, 4.6, 4.7, 4.8, 4.9, 5. , 5.1, 5.2,\n",
       "       5.3, 5.4, 5.5, 5.6, 5.7, 5.8, 5.9, 6. , 6.1, 6.2, 6.3, 6.4, 6.5,\n",
       "       6.6, 6.7, 6.8, 6.9, 7. , 7.1, 7.2, 7.3, 7.4, 7.5, 7.6, 7.7, 7.8,\n",
       "       7.9, 8. , 8.1, 8.2, 8.3, 8.4, 8.5, 8.6, 8.7, 8.8, 8.9, 9. , 9.1,\n",
       "       9.2, 9.3, 9.4, 9.5, 9.6, 9.7, 9.8, 9.9])},\n",
       "             scoring=&#x27;r2&#x27;, verbose=3)</pre><b>In a Jupyter environment, please rerun this cell to show the HTML representation or trust the notebook. <br />On GitHub, the HTML representation is unable to render, please try loading this page with nbviewer.org.</b></div><div class=\"sk-container\" hidden><div class=\"sk-item sk-dashed-wrapped\"><div class=\"sk-label-container\"><div class=\"sk-label sk-toggleable\"><input class=\"sk-toggleable__control sk-hidden--visually\" id=\"sk-estimator-id-1\" type=\"checkbox\" ><label for=\"sk-estimator-id-1\" class=\"sk-toggleable__label sk-toggleable__label-arrow\">GridSearchCV</label><div class=\"sk-toggleable__content\"><pre>GridSearchCV(cv=5,\n",
       "             estimator=Pipeline(steps=[(&#x27;scaler&#x27;, StandardScaler()),\n",
       "                                       (&#x27;model&#x27;, Lasso())]),\n",
       "             param_grid={&#x27;model__alpha&#x27;: array([0.1, 0.2, 0.3, 0.4, 0.5, 0.6, 0.7, 0.8, 0.9, 1. , 1.1, 1.2, 1.3,\n",
       "       1.4, 1.5, 1.6, 1.7, 1.8, 1.9, 2. , 2.1, 2.2, 2.3, 2.4, 2.5, 2.6,\n",
       "       2.7, 2.8, 2.9, 3. , 3.1, 3.2, 3.3, 3.4, 3.5, 3.6, 3.7, 3.8, 3.9,\n",
       "       4. , 4.1, 4.2, 4.3, 4.4, 4.5, 4.6, 4.7, 4.8, 4.9, 5. , 5.1, 5.2,\n",
       "       5.3, 5.4, 5.5, 5.6, 5.7, 5.8, 5.9, 6. , 6.1, 6.2, 6.3, 6.4, 6.5,\n",
       "       6.6, 6.7, 6.8, 6.9, 7. , 7.1, 7.2, 7.3, 7.4, 7.5, 7.6, 7.7, 7.8,\n",
       "       7.9, 8. , 8.1, 8.2, 8.3, 8.4, 8.5, 8.6, 8.7, 8.8, 8.9, 9. , 9.1,\n",
       "       9.2, 9.3, 9.4, 9.5, 9.6, 9.7, 9.8, 9.9])},\n",
       "             scoring=&#x27;r2&#x27;, verbose=3)</pre></div></div></div><div class=\"sk-parallel\"><div class=\"sk-parallel-item\"><div class=\"sk-item\"><div class=\"sk-label-container\"><div class=\"sk-label sk-toggleable\"><input class=\"sk-toggleable__control sk-hidden--visually\" id=\"sk-estimator-id-2\" type=\"checkbox\" ><label for=\"sk-estimator-id-2\" class=\"sk-toggleable__label sk-toggleable__label-arrow\">estimator: Pipeline</label><div class=\"sk-toggleable__content\"><pre>Pipeline(steps=[(&#x27;scaler&#x27;, StandardScaler()), (&#x27;model&#x27;, Lasso())])</pre></div></div></div><div class=\"sk-serial\"><div class=\"sk-item\"><div class=\"sk-serial\"><div class=\"sk-item\"><div class=\"sk-estimator sk-toggleable\"><input class=\"sk-toggleable__control sk-hidden--visually\" id=\"sk-estimator-id-3\" type=\"checkbox\" ><label for=\"sk-estimator-id-3\" class=\"sk-toggleable__label sk-toggleable__label-arrow\">StandardScaler</label><div class=\"sk-toggleable__content\"><pre>StandardScaler()</pre></div></div></div><div class=\"sk-item\"><div class=\"sk-estimator sk-toggleable\"><input class=\"sk-toggleable__control sk-hidden--visually\" id=\"sk-estimator-id-4\" type=\"checkbox\" ><label for=\"sk-estimator-id-4\" class=\"sk-toggleable__label sk-toggleable__label-arrow\">Lasso</label><div class=\"sk-toggleable__content\"><pre>Lasso()</pre></div></div></div></div></div></div></div></div></div></div></div></div>"
      ],
      "text/plain": [
       "GridSearchCV(cv=5,\n",
       "             estimator=Pipeline(steps=[('scaler', StandardScaler()),\n",
       "                                       ('model', Lasso())]),\n",
       "             param_grid={'model__alpha': array([0.1, 0.2, 0.3, 0.4, 0.5, 0.6, 0.7, 0.8, 0.9, 1. , 1.1, 1.2, 1.3,\n",
       "       1.4, 1.5, 1.6, 1.7, 1.8, 1.9, 2. , 2.1, 2.2, 2.3, 2.4, 2.5, 2.6,\n",
       "       2.7, 2.8, 2.9, 3. , 3.1, 3.2, 3.3, 3.4, 3.5, 3.6, 3.7, 3.8, 3.9,\n",
       "       4. , 4.1, 4.2, 4.3, 4.4, 4.5, 4.6, 4.7, 4.8, 4.9, 5. , 5.1, 5.2,\n",
       "       5.3, 5.4, 5.5, 5.6, 5.7, 5.8, 5.9, 6. , 6.1, 6.2, 6.3, 6.4, 6.5,\n",
       "       6.6, 6.7, 6.8, 6.9, 7. , 7.1, 7.2, 7.3, 7.4, 7.5, 7.6, 7.7, 7.8,\n",
       "       7.9, 8. , 8.1, 8.2, 8.3, 8.4, 8.5, 8.6, 8.7, 8.8, 8.9, 9. , 9.1,\n",
       "       9.2, 9.3, 9.4, 9.5, 9.6, 9.7, 9.8, 9.9])},\n",
       "             scoring='r2', verbose=3)"
      ]
     },
     "execution_count": 6,
     "metadata": {},
     "output_type": "execute_result"
    }
   ],
   "source": [
    "search.fit(X_train,y_train)"
   ]
  },
  {
   "cell_type": "code",
   "execution_count": 7,
   "id": "da30d605-53f1-4863-af1e-dc79eaf4252f",
   "metadata": {},
   "outputs": [
    {
     "data": {
      "text/plain": [
       "{'model__alpha': 1.3000000000000003}"
      ]
     },
     "execution_count": 7,
     "metadata": {},
     "output_type": "execute_result"
    }
   ],
   "source": [
    "search.best_params_\n",
    "# {'model__alpha': 1.2000000000000002}"
   ]
  },
  {
   "cell_type": "code",
   "execution_count": 8,
   "id": "d7d5af63-a852-4301-8664-42a38358134a",
   "metadata": {},
   "outputs": [],
   "source": [
    "coefficients = search.best_estimator_.named_steps['model'].coef_"
   ]
  },
  {
   "cell_type": "code",
   "execution_count": 9,
   "id": "02c6850d-71b0-48f4-9aae-3dfd43000f8f",
   "metadata": {},
   "outputs": [
    {
     "name": "stdout",
     "output_type": "stream",
     "text": [
      "[ 0.03528606  8.83565347 26.87565152 17.96667084  5.2030484   0.\n",
      " 12.20576836  0.         19.35320414  0.        ]\n"
     ]
    }
   ],
   "source": [
    "importance = np.abs(coefficients)\n",
    "print(importance)"
   ]
  },
  {
   "cell_type": "code",
   "execution_count": 10,
   "id": "6062acc1-4916-482f-a89e-297cf5db4fbe",
   "metadata": {},
   "outputs": [
    {
     "data": {
      "text/plain": [
       "array(['age', 'sex', 'bmi', 'bp', 's1', 's3', 's5'], dtype='<U3')"
      ]
     },
     "execution_count": 10,
     "metadata": {},
     "output_type": "execute_result"
    }
   ],
   "source": [
    "np.array(features)[importance > 0]\n",
    "# array(['age', 'sex', 'bmi', 'bp', 's1', 's3', 's5'], dtype='<U3')"
   ]
  },
  {
   "cell_type": "code",
   "execution_count": 11,
   "id": "7afbea07-584c-48b1-8e40-b55a9c77e82a",
   "metadata": {},
   "outputs": [
    {
     "data": {
      "text/plain": [
       "array(['s2', 's4', 's6'], dtype='<U3')"
      ]
     },
     "execution_count": 11,
     "metadata": {},
     "output_type": "execute_result"
    }
   ],
   "source": [
    "np.array(features)[importance == 0]"
   ]
  },
  {
   "cell_type": "code",
   "execution_count": 12,
   "id": "57b46543-ade1-4737-8271-5f997ee59205",
   "metadata": {},
   "outputs": [
    {
     "name": "stdout",
     "output_type": "stream",
     "text": [
      "0.454072253006421\n"
     ]
    }
   ],
   "source": [
    "print(search.best_score_)"
   ]
  },
  {
   "cell_type": "code",
   "execution_count": null,
   "id": "cf58aa3e-6d7b-46d3-ba13-0856dc282414",
   "metadata": {},
   "outputs": [],
   "source": []
  },
  {
   "cell_type": "markdown",
   "id": "cc76f78c-a02d-4b01-a7c4-de7709e47add",
   "metadata": {},
   "source": [
    "now remove the ['s2', 's4', 's6']"
   ]
  },
  {
   "cell_type": "code",
   "execution_count": 13,
   "id": "c581fd95-2f77-40e7-aaca-0f06de207185",
   "metadata": {},
   "outputs": [
    {
     "name": "stdout",
     "output_type": "stream",
     "text": [
      "(442, 7)\n",
      "(442,)\n"
     ]
    }
   ],
   "source": [
    "# ['age', 'sex', 'bmi', 'bp', 's1', 's2', 's3', 's4', 's5', 's6']\n",
    "X = np.delete(X, [5,7,9], 1) \n",
    "print(X.shape)\n",
    "print(y.shape)"
   ]
  },
  {
   "cell_type": "code",
   "execution_count": 14,
   "id": "dee15bdd-7960-413b-88de-92a24b7739fd",
   "metadata": {},
   "outputs": [],
   "source": [
    "X_train, X_test, y_train, y_test = train_test_split(X, y, test_size=0.33, random_state=42)"
   ]
  },
  {
   "cell_type": "code",
   "execution_count": 15,
   "id": "da64ca82-3b8c-4369-89b6-716ff3764e3d",
   "metadata": {},
   "outputs": [],
   "source": [
    "pipeline = Pipeline([\n",
    "                     ('scaler',StandardScaler()),\n",
    "                     ('model',Lasso())\n",
    "])"
   ]
  },
  {
   "cell_type": "code",
   "execution_count": 16,
   "id": "57d74ad9-2556-4c7f-bb8a-9ce7eafb9372",
   "metadata": {},
   "outputs": [],
   "source": [
    "search = GridSearchCV(pipeline,\n",
    "                      {'model__alpha':np.arange(0.1,10,0.1)},\n",
    "                      cv = 5, scoring=\"r2\",verbose=1\n",
    "                      )"
   ]
  },
  {
   "cell_type": "code",
   "execution_count": 17,
   "id": "70c1e07b-4869-4246-a5fd-580dcb5c83c2",
   "metadata": {},
   "outputs": [
    {
     "name": "stdout",
     "output_type": "stream",
     "text": [
      "Fitting 5 folds for each of 99 candidates, totalling 495 fits\n"
     ]
    },
    {
     "data": {
      "text/html": [
       "<style>#sk-container-id-2 {color: black;}#sk-container-id-2 pre{padding: 0;}#sk-container-id-2 div.sk-toggleable {background-color: white;}#sk-container-id-2 label.sk-toggleable__label {cursor: pointer;display: block;width: 100%;margin-bottom: 0;padding: 0.3em;box-sizing: border-box;text-align: center;}#sk-container-id-2 label.sk-toggleable__label-arrow:before {content: \"▸\";float: left;margin-right: 0.25em;color: #696969;}#sk-container-id-2 label.sk-toggleable__label-arrow:hover:before {color: black;}#sk-container-id-2 div.sk-estimator:hover label.sk-toggleable__label-arrow:before {color: black;}#sk-container-id-2 div.sk-toggleable__content {max-height: 0;max-width: 0;overflow: hidden;text-align: left;background-color: #f0f8ff;}#sk-container-id-2 div.sk-toggleable__content pre {margin: 0.2em;color: black;border-radius: 0.25em;background-color: #f0f8ff;}#sk-container-id-2 input.sk-toggleable__control:checked~div.sk-toggleable__content {max-height: 200px;max-width: 100%;overflow: auto;}#sk-container-id-2 input.sk-toggleable__control:checked~label.sk-toggleable__label-arrow:before {content: \"▾\";}#sk-container-id-2 div.sk-estimator input.sk-toggleable__control:checked~label.sk-toggleable__label {background-color: #d4ebff;}#sk-container-id-2 div.sk-label input.sk-toggleable__control:checked~label.sk-toggleable__label {background-color: #d4ebff;}#sk-container-id-2 input.sk-hidden--visually {border: 0;clip: rect(1px 1px 1px 1px);clip: rect(1px, 1px, 1px, 1px);height: 1px;margin: -1px;overflow: hidden;padding: 0;position: absolute;width: 1px;}#sk-container-id-2 div.sk-estimator {font-family: monospace;background-color: #f0f8ff;border: 1px dotted black;border-radius: 0.25em;box-sizing: border-box;margin-bottom: 0.5em;}#sk-container-id-2 div.sk-estimator:hover {background-color: #d4ebff;}#sk-container-id-2 div.sk-parallel-item::after {content: \"\";width: 100%;border-bottom: 1px solid gray;flex-grow: 1;}#sk-container-id-2 div.sk-label:hover label.sk-toggleable__label {background-color: #d4ebff;}#sk-container-id-2 div.sk-serial::before {content: \"\";position: absolute;border-left: 1px solid gray;box-sizing: border-box;top: 0;bottom: 0;left: 50%;z-index: 0;}#sk-container-id-2 div.sk-serial {display: flex;flex-direction: column;align-items: center;background-color: white;padding-right: 0.2em;padding-left: 0.2em;position: relative;}#sk-container-id-2 div.sk-item {position: relative;z-index: 1;}#sk-container-id-2 div.sk-parallel {display: flex;align-items: stretch;justify-content: center;background-color: white;position: relative;}#sk-container-id-2 div.sk-item::before, #sk-container-id-2 div.sk-parallel-item::before {content: \"\";position: absolute;border-left: 1px solid gray;box-sizing: border-box;top: 0;bottom: 0;left: 50%;z-index: -1;}#sk-container-id-2 div.sk-parallel-item {display: flex;flex-direction: column;z-index: 1;position: relative;background-color: white;}#sk-container-id-2 div.sk-parallel-item:first-child::after {align-self: flex-end;width: 50%;}#sk-container-id-2 div.sk-parallel-item:last-child::after {align-self: flex-start;width: 50%;}#sk-container-id-2 div.sk-parallel-item:only-child::after {width: 0;}#sk-container-id-2 div.sk-dashed-wrapped {border: 1px dashed gray;margin: 0 0.4em 0.5em 0.4em;box-sizing: border-box;padding-bottom: 0.4em;background-color: white;}#sk-container-id-2 div.sk-label label {font-family: monospace;font-weight: bold;display: inline-block;line-height: 1.2em;}#sk-container-id-2 div.sk-label-container {text-align: center;}#sk-container-id-2 div.sk-container {/* jupyter's `normalize.less` sets `[hidden] { display: none; }` but bootstrap.min.css set `[hidden] { display: none !important; }` so we also need the `!important` here to be able to override the default hidden behavior on the sphinx rendered scikit-learn.org. See: https://github.com/scikit-learn/scikit-learn/issues/21755 */display: inline-block !important;position: relative;}#sk-container-id-2 div.sk-text-repr-fallback {display: none;}</style><div id=\"sk-container-id-2\" class=\"sk-top-container\"><div class=\"sk-text-repr-fallback\"><pre>GridSearchCV(cv=5,\n",
       "             estimator=Pipeline(steps=[(&#x27;scaler&#x27;, StandardScaler()),\n",
       "                                       (&#x27;model&#x27;, Lasso())]),\n",
       "             param_grid={&#x27;model__alpha&#x27;: array([0.1, 0.2, 0.3, 0.4, 0.5, 0.6, 0.7, 0.8, 0.9, 1. , 1.1, 1.2, 1.3,\n",
       "       1.4, 1.5, 1.6, 1.7, 1.8, 1.9, 2. , 2.1, 2.2, 2.3, 2.4, 2.5, 2.6,\n",
       "       2.7, 2.8, 2.9, 3. , 3.1, 3.2, 3.3, 3.4, 3.5, 3.6, 3.7, 3.8, 3.9,\n",
       "       4. , 4.1, 4.2, 4.3, 4.4, 4.5, 4.6, 4.7, 4.8, 4.9, 5. , 5.1, 5.2,\n",
       "       5.3, 5.4, 5.5, 5.6, 5.7, 5.8, 5.9, 6. , 6.1, 6.2, 6.3, 6.4, 6.5,\n",
       "       6.6, 6.7, 6.8, 6.9, 7. , 7.1, 7.2, 7.3, 7.4, 7.5, 7.6, 7.7, 7.8,\n",
       "       7.9, 8. , 8.1, 8.2, 8.3, 8.4, 8.5, 8.6, 8.7, 8.8, 8.9, 9. , 9.1,\n",
       "       9.2, 9.3, 9.4, 9.5, 9.6, 9.7, 9.8, 9.9])},\n",
       "             scoring=&#x27;r2&#x27;, verbose=1)</pre><b>In a Jupyter environment, please rerun this cell to show the HTML representation or trust the notebook. <br />On GitHub, the HTML representation is unable to render, please try loading this page with nbviewer.org.</b></div><div class=\"sk-container\" hidden><div class=\"sk-item sk-dashed-wrapped\"><div class=\"sk-label-container\"><div class=\"sk-label sk-toggleable\"><input class=\"sk-toggleable__control sk-hidden--visually\" id=\"sk-estimator-id-5\" type=\"checkbox\" ><label for=\"sk-estimator-id-5\" class=\"sk-toggleable__label sk-toggleable__label-arrow\">GridSearchCV</label><div class=\"sk-toggleable__content\"><pre>GridSearchCV(cv=5,\n",
       "             estimator=Pipeline(steps=[(&#x27;scaler&#x27;, StandardScaler()),\n",
       "                                       (&#x27;model&#x27;, Lasso())]),\n",
       "             param_grid={&#x27;model__alpha&#x27;: array([0.1, 0.2, 0.3, 0.4, 0.5, 0.6, 0.7, 0.8, 0.9, 1. , 1.1, 1.2, 1.3,\n",
       "       1.4, 1.5, 1.6, 1.7, 1.8, 1.9, 2. , 2.1, 2.2, 2.3, 2.4, 2.5, 2.6,\n",
       "       2.7, 2.8, 2.9, 3. , 3.1, 3.2, 3.3, 3.4, 3.5, 3.6, 3.7, 3.8, 3.9,\n",
       "       4. , 4.1, 4.2, 4.3, 4.4, 4.5, 4.6, 4.7, 4.8, 4.9, 5. , 5.1, 5.2,\n",
       "       5.3, 5.4, 5.5, 5.6, 5.7, 5.8, 5.9, 6. , 6.1, 6.2, 6.3, 6.4, 6.5,\n",
       "       6.6, 6.7, 6.8, 6.9, 7. , 7.1, 7.2, 7.3, 7.4, 7.5, 7.6, 7.7, 7.8,\n",
       "       7.9, 8. , 8.1, 8.2, 8.3, 8.4, 8.5, 8.6, 8.7, 8.8, 8.9, 9. , 9.1,\n",
       "       9.2, 9.3, 9.4, 9.5, 9.6, 9.7, 9.8, 9.9])},\n",
       "             scoring=&#x27;r2&#x27;, verbose=1)</pre></div></div></div><div class=\"sk-parallel\"><div class=\"sk-parallel-item\"><div class=\"sk-item\"><div class=\"sk-label-container\"><div class=\"sk-label sk-toggleable\"><input class=\"sk-toggleable__control sk-hidden--visually\" id=\"sk-estimator-id-6\" type=\"checkbox\" ><label for=\"sk-estimator-id-6\" class=\"sk-toggleable__label sk-toggleable__label-arrow\">estimator: Pipeline</label><div class=\"sk-toggleable__content\"><pre>Pipeline(steps=[(&#x27;scaler&#x27;, StandardScaler()), (&#x27;model&#x27;, Lasso())])</pre></div></div></div><div class=\"sk-serial\"><div class=\"sk-item\"><div class=\"sk-serial\"><div class=\"sk-item\"><div class=\"sk-estimator sk-toggleable\"><input class=\"sk-toggleable__control sk-hidden--visually\" id=\"sk-estimator-id-7\" type=\"checkbox\" ><label for=\"sk-estimator-id-7\" class=\"sk-toggleable__label sk-toggleable__label-arrow\">StandardScaler</label><div class=\"sk-toggleable__content\"><pre>StandardScaler()</pre></div></div></div><div class=\"sk-item\"><div class=\"sk-estimator sk-toggleable\"><input class=\"sk-toggleable__control sk-hidden--visually\" id=\"sk-estimator-id-8\" type=\"checkbox\" ><label for=\"sk-estimator-id-8\" class=\"sk-toggleable__label sk-toggleable__label-arrow\">Lasso</label><div class=\"sk-toggleable__content\"><pre>Lasso()</pre></div></div></div></div></div></div></div></div></div></div></div></div>"
      ],
      "text/plain": [
       "GridSearchCV(cv=5,\n",
       "             estimator=Pipeline(steps=[('scaler', StandardScaler()),\n",
       "                                       ('model', Lasso())]),\n",
       "             param_grid={'model__alpha': array([0.1, 0.2, 0.3, 0.4, 0.5, 0.6, 0.7, 0.8, 0.9, 1. , 1.1, 1.2, 1.3,\n",
       "       1.4, 1.5, 1.6, 1.7, 1.8, 1.9, 2. , 2.1, 2.2, 2.3, 2.4, 2.5, 2.6,\n",
       "       2.7, 2.8, 2.9, 3. , 3.1, 3.2, 3.3, 3.4, 3.5, 3.6, 3.7, 3.8, 3.9,\n",
       "       4. , 4.1, 4.2, 4.3, 4.4, 4.5, 4.6, 4.7, 4.8, 4.9, 5. , 5.1, 5.2,\n",
       "       5.3, 5.4, 5.5, 5.6, 5.7, 5.8, 5.9, 6. , 6.1, 6.2, 6.3, 6.4, 6.5,\n",
       "       6.6, 6.7, 6.8, 6.9, 7. , 7.1, 7.2, 7.3, 7.4, 7.5, 7.6, 7.7, 7.8,\n",
       "       7.9, 8. , 8.1, 8.2, 8.3, 8.4, 8.5, 8.6, 8.7, 8.8, 8.9, 9. , 9.1,\n",
       "       9.2, 9.3, 9.4, 9.5, 9.6, 9.7, 9.8, 9.9])},\n",
       "             scoring='r2', verbose=1)"
      ]
     },
     "execution_count": 17,
     "metadata": {},
     "output_type": "execute_result"
    }
   ],
   "source": [
    "search.fit(X_train,y_train)"
   ]
  },
  {
   "cell_type": "code",
   "execution_count": 18,
   "id": "9de53265-7b55-4612-bdec-47580bd3a4ba",
   "metadata": {},
   "outputs": [
    {
     "data": {
      "text/plain": [
       "{'model__alpha': 0.8}"
      ]
     },
     "execution_count": 18,
     "metadata": {},
     "output_type": "execute_result"
    }
   ],
   "source": [
    "search.best_params_\n",
    "# {'model__alpha': 1.2000000000000002}"
   ]
  },
  {
   "cell_type": "code",
   "execution_count": 19,
   "id": "520d2b64-ec06-4b63-b7dd-58136326b899",
   "metadata": {},
   "outputs": [],
   "source": [
    "coefficients = search.best_estimator_.named_steps['model'].coef_"
   ]
  },
  {
   "cell_type": "code",
   "execution_count": 20,
   "id": "abe4c217-03d4-4644-8eb7-da55c6b7e454",
   "metadata": {},
   "outputs": [
    {
     "name": "stdout",
     "output_type": "stream",
     "text": [
      "[ 0.61468101  9.68333251 27.00619794 18.37587105  6.28010024 12.57315436\n",
      " 20.03243647]\n"
     ]
    },
    {
     "data": {
      "text/plain": [
       "['age', 'sex', 'bmi', 'bp', 's1', 's3', 's5']"
      ]
     },
     "execution_count": 20,
     "metadata": {},
     "output_type": "execute_result"
    }
   ],
   "source": [
    "importance = np.abs(coefficients)\n",
    "print(importance)\n",
    "features = ['age', 'sex', 'bmi', 'bp', 's1', 's3', 's5']\n",
    "features"
   ]
  },
  {
   "cell_type": "code",
   "execution_count": 21,
   "id": "3a7fc5b1-58ff-41b2-b0e8-4c80b43e128d",
   "metadata": {},
   "outputs": [
    {
     "data": {
      "text/plain": [
       "array(['age', 'sex', 'bmi', 'bp', 's1', 's3', 's5'], dtype='<U3')"
      ]
     },
     "execution_count": 21,
     "metadata": {},
     "output_type": "execute_result"
    }
   ],
   "source": [
    "np.array(features)[importance > 0]\n",
    "# array(['age', 'sex', 'bmi', 'bp', 's1', 's3', 's5'], dtype='<U3')"
   ]
  },
  {
   "cell_type": "code",
   "execution_count": 22,
   "id": "c3e6b527-afe6-4f8b-817c-cdfa62edc33c",
   "metadata": {},
   "outputs": [
    {
     "data": {
      "text/plain": [
       "array([], dtype='<U3')"
      ]
     },
     "execution_count": 22,
     "metadata": {},
     "output_type": "execute_result"
    }
   ],
   "source": [
    "np.array(features)[importance == 0]"
   ]
  },
  {
   "cell_type": "code",
   "execution_count": 23,
   "id": "63848dc4-2fd9-4022-a804-cdca7da5aee5",
   "metadata": {},
   "outputs": [
    {
     "name": "stdout",
     "output_type": "stream",
     "text": [
      "0.4558661771391381\n"
     ]
    }
   ],
   "source": [
    "print(search.best_score_)"
   ]
  },
  {
   "cell_type": "code",
   "execution_count": 24,
   "id": "8a5f45c4-3179-45a1-89e7-7e062d82c1f5",
   "metadata": {},
   "outputs": [
    {
     "data": {
      "text/plain": [
       "(296, 7)"
      ]
     },
     "execution_count": 24,
     "metadata": {},
     "output_type": "execute_result"
    }
   ],
   "source": [
    "X_train.shape"
   ]
  },
  {
   "cell_type": "code",
   "execution_count": 28,
   "id": "5e110d22-3318-443b-878c-a2478898ee99",
   "metadata": {},
   "outputs": [
    {
     "name": "stdout",
     "output_type": "stream",
     "text": [
      "RMSE: 53.19675200818957\n",
      "R2 score: 0.5082942431712012\n"
     ]
    }
   ],
   "source": [
    "import matplotlib.pyplot as plt\n",
    "# Model with ridge regularization\n",
    "from sklearn.linear_model import Ridge\n",
    "\n",
    "# define model with alpha=xxx\n",
    "ridge_reg = Ridge(alpha=0.1)\n",
    "\n",
    "# fit ridge model\n",
    "ridge_reg.fit(X_train, y_train)\n",
    "\n",
    "# predict y\n",
    "y_pred = ridge_reg.predict(X_test)\n",
    "\n",
    "from sklearn.metrics import mean_squared_error, r2_score\n",
    "# Model accuracy\n",
    "rmse = np.sqrt(mean_squared_error(y_test, y_pred))\n",
    "r2 = r2_score(y_test, y_pred)\n",
    "print(\"RMSE: \" + str(rmse))\n",
    "print(\"R2 score: \" + str(r2))"
   ]
  },
  {
   "cell_type": "code",
   "execution_count": 29,
   "id": "847d148b-88f3-415c-a861-d858df53849c",
   "metadata": {},
   "outputs": [
    {
     "data": {
      "text/plain": [
       "array([[ 0.0090156 , -0.04464164, -0.03099563, ...,  0.00806271,\n",
       "         0.00446045,  0.00943366],\n",
       "       [-0.00188202, -0.04464164,  0.05415152, ...,  0.07273249,\n",
       "        -0.04340085,  0.08449153],\n",
       "       [ 0.0090156 ,  0.05068012, -0.00512814, ...,  0.06998059,\n",
       "        -0.03971921,  0.03954249],\n",
       "       ...,\n",
       "       [ 0.03081083, -0.04464164, -0.02021751, ..., -0.00432087,\n",
       "         0.0780932 , -0.01090325],\n",
       "       [-0.01277963, -0.04464164, -0.02345095, ..., -0.01670444,\n",
       "        -0.01762938, -0.03845972],\n",
       "       [-0.09269548, -0.04464164,  0.02828403, ...,  0.03695772,\n",
       "         0.05600338, -0.00514219]])"
      ]
     },
     "execution_count": 29,
     "metadata": {},
     "output_type": "execute_result"
    }
   ],
   "source": [
    "X_train"
   ]
  },
  {
   "cell_type": "code",
   "execution_count": 40,
   "id": "c57d36a6-7725-4edd-a8ad-42f686dba4e6",
   "metadata": {},
   "outputs": [
    {
     "data": {
      "text/plain": [
       "<Axes: >"
      ]
     },
     "execution_count": 40,
     "metadata": {},
     "output_type": "execute_result"
    },
    {
     "data": {
      "image/png": "[encoded data removed]",
      "text/plain": [
       "<Figure size 640x480 with 1 Axes>"
      ]
     },
     "metadata": {},
     "output_type": "display_data"
    }
   ],
   "source": [
    "import seaborn as sns\n",
    "sns.scatterplot(y_test)\n",
    "sns.scatterplot(y_pred)"
   ]
  }
 ],
 "metadata": {
  "kernelspec": {
   "display_name": "Python 3 (ipykernel)",
   "language": "python",
   "name": "python3"
  },
  "language_info": {
   "codemirror_mode": {
    "name": "ipython",
    "version": 3
   },
   "file_extension": ".py",
   "mimetype": "text/x-python",
   "name": "python",
   "nbconvert_exporter": "python",
   "pygments_lexer": "ipython3",
   "version": "3.10.11"
  }
 },
 "nbformat": 4,
 "nbformat_minor": 5
}
