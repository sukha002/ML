{
 "cells": [
  {
   "cell_type": "code",
   "execution_count": 1,
   "id": "7543ae0f-1000-40de-a5f5-db4d09efa9cc",
   "metadata": {},
   "outputs": [],
   "source": [
    "import numpy as np\n",
    "from sklearn.model_selection import KFold\n",
    "import pandas as pd\n",
    "from sklearn.tree import DecisionTreeClassifier\n",
    "import matplotlib.pyplot as plt\n",
    "from sklearn.metrics import mean_absolute_error"
   ]
  },
  {
   "cell_type": "code",
   "execution_count": 2,
   "id": "7f02ffd3-638d-414f-ba9d-ccff2bd868a8",
   "metadata": {},
   "outputs": [
    {
     "data": {
      "text/html": [
       "<div>\n",
       "<style scoped>\n",
       "    .dataframe tbody tr th:only-of-type {\n",
       "        vertical-align: middle;\n",
       "    }\n",
       "\n",
       "    .dataframe tbody tr th {\n",
       "        vertical-align: top;\n",
       "    }\n",
       "\n",
       "    .dataframe thead th {\n",
       "        text-align: right;\n",
       "    }\n",
       "</style>\n",
       "<table border=\"1\" class=\"dataframe\">\n",
       "  <thead>\n",
       "    <tr style=\"text-align: right;\">\n",
       "      <th></th>\n",
       "      <th>Index</th>\n",
       "      <th>Wt</th>\n",
       "      <th>Age</th>\n",
       "      <th>Blood_fat</th>\n",
       "    </tr>\n",
       "  </thead>\n",
       "  <tbody>\n",
       "    <tr>\n",
       "      <th>0</th>\n",
       "      <td>1</td>\n",
       "      <td>84</td>\n",
       "      <td>46</td>\n",
       "      <td>354</td>\n",
       "    </tr>\n",
       "    <tr>\n",
       "      <th>1</th>\n",
       "      <td>2</td>\n",
       "      <td>73</td>\n",
       "      <td>20</td>\n",
       "      <td>190</td>\n",
       "    </tr>\n",
       "    <tr>\n",
       "      <th>2</th>\n",
       "      <td>3</td>\n",
       "      <td>65</td>\n",
       "      <td>52</td>\n",
       "      <td>405</td>\n",
       "    </tr>\n",
       "    <tr>\n",
       "      <th>3</th>\n",
       "      <td>4</td>\n",
       "      <td>70</td>\n",
       "      <td>30</td>\n",
       "      <td>263</td>\n",
       "    </tr>\n",
       "    <tr>\n",
       "      <th>4</th>\n",
       "      <td>5</td>\n",
       "      <td>76</td>\n",
       "      <td>57</td>\n",
       "      <td>451</td>\n",
       "    </tr>\n",
       "    <tr>\n",
       "      <th>5</th>\n",
       "      <td>6</td>\n",
       "      <td>69</td>\n",
       "      <td>25</td>\n",
       "      <td>302</td>\n",
       "    </tr>\n",
       "    <tr>\n",
       "      <th>6</th>\n",
       "      <td>7</td>\n",
       "      <td>63</td>\n",
       "      <td>28</td>\n",
       "      <td>288</td>\n",
       "    </tr>\n",
       "    <tr>\n",
       "      <th>7</th>\n",
       "      <td>8</td>\n",
       "      <td>72</td>\n",
       "      <td>36</td>\n",
       "      <td>385</td>\n",
       "    </tr>\n",
       "    <tr>\n",
       "      <th>8</th>\n",
       "      <td>9</td>\n",
       "      <td>79</td>\n",
       "      <td>57</td>\n",
       "      <td>402</td>\n",
       "    </tr>\n",
       "    <tr>\n",
       "      <th>9</th>\n",
       "      <td>10</td>\n",
       "      <td>75</td>\n",
       "      <td>44</td>\n",
       "      <td>365</td>\n",
       "    </tr>\n",
       "    <tr>\n",
       "      <th>10</th>\n",
       "      <td>11</td>\n",
       "      <td>27</td>\n",
       "      <td>24</td>\n",
       "      <td>209</td>\n",
       "    </tr>\n",
       "    <tr>\n",
       "      <th>11</th>\n",
       "      <td>12</td>\n",
       "      <td>89</td>\n",
       "      <td>31</td>\n",
       "      <td>290</td>\n",
       "    </tr>\n",
       "    <tr>\n",
       "      <th>12</th>\n",
       "      <td>13</td>\n",
       "      <td>65</td>\n",
       "      <td>52</td>\n",
       "      <td>346</td>\n",
       "    </tr>\n",
       "    <tr>\n",
       "      <th>13</th>\n",
       "      <td>14</td>\n",
       "      <td>57</td>\n",
       "      <td>23</td>\n",
       "      <td>254</td>\n",
       "    </tr>\n",
       "    <tr>\n",
       "      <th>14</th>\n",
       "      <td>15</td>\n",
       "      <td>59</td>\n",
       "      <td>60</td>\n",
       "      <td>395</td>\n",
       "    </tr>\n",
       "    <tr>\n",
       "      <th>15</th>\n",
       "      <td>16</td>\n",
       "      <td>69</td>\n",
       "      <td>48</td>\n",
       "      <td>434</td>\n",
       "    </tr>\n",
       "    <tr>\n",
       "      <th>16</th>\n",
       "      <td>17</td>\n",
       "      <td>60</td>\n",
       "      <td>34</td>\n",
       "      <td>220</td>\n",
       "    </tr>\n",
       "    <tr>\n",
       "      <th>17</th>\n",
       "      <td>18</td>\n",
       "      <td>79</td>\n",
       "      <td>51</td>\n",
       "      <td>374</td>\n",
       "    </tr>\n",
       "    <tr>\n",
       "      <th>18</th>\n",
       "      <td>19</td>\n",
       "      <td>75</td>\n",
       "      <td>50</td>\n",
       "      <td>308</td>\n",
       "    </tr>\n",
       "    <tr>\n",
       "      <th>19</th>\n",
       "      <td>20</td>\n",
       "      <td>82</td>\n",
       "      <td>34</td>\n",
       "      <td>220</td>\n",
       "    </tr>\n",
       "    <tr>\n",
       "      <th>20</th>\n",
       "      <td>21</td>\n",
       "      <td>59</td>\n",
       "      <td>46</td>\n",
       "      <td>311</td>\n",
       "    </tr>\n",
       "    <tr>\n",
       "      <th>21</th>\n",
       "      <td>22</td>\n",
       "      <td>67</td>\n",
       "      <td>23</td>\n",
       "      <td>181</td>\n",
       "    </tr>\n",
       "    <tr>\n",
       "      <th>22</th>\n",
       "      <td>23</td>\n",
       "      <td>85</td>\n",
       "      <td>37</td>\n",
       "      <td>274</td>\n",
       "    </tr>\n",
       "    <tr>\n",
       "      <th>23</th>\n",
       "      <td>24</td>\n",
       "      <td>55</td>\n",
       "      <td>40</td>\n",
       "      <td>303</td>\n",
       "    </tr>\n",
       "    <tr>\n",
       "      <th>24</th>\n",
       "      <td>25</td>\n",
       "      <td>63</td>\n",
       "      <td>30</td>\n",
       "      <td>244</td>\n",
       "    </tr>\n",
       "  </tbody>\n",
       "</table>\n",
       "</div>"
      ],
      "text/plain": [
       "    Index  Wt  Age  Blood_fat\n",
       "0       1  84   46        354\n",
       "1       2  73   20        190\n",
       "2       3  65   52        405\n",
       "3       4  70   30        263\n",
       "4       5  76   57        451\n",
       "5       6  69   25        302\n",
       "6       7  63   28        288\n",
       "7       8  72   36        385\n",
       "8       9  79   57        402\n",
       "9      10  75   44        365\n",
       "10     11  27   24        209\n",
       "11     12  89   31        290\n",
       "12     13  65   52        346\n",
       "13     14  57   23        254\n",
       "14     15  59   60        395\n",
       "15     16  69   48        434\n",
       "16     17  60   34        220\n",
       "17     18  79   51        374\n",
       "18     19  75   50        308\n",
       "19     20  82   34        220\n",
       "20     21  59   46        311\n",
       "21     22  67   23        181\n",
       "22     23  85   37        274\n",
       "23     24  55   40        303\n",
       "24     25  63   30        244"
      ]
     },
     "execution_count": 2,
     "metadata": {},
     "output_type": "execute_result"
    }
   ],
   "source": [
    "data = pd.read_csv(\"age_wt_bfat.csv\" , nrows = 600)\n",
    "data\n",
    "\n",
    "#https://github.com/sukha002/Public-Regression-Datasets"
   ]
  },
  {
   "cell_type": "code",
   "execution_count": 3,
   "id": "133ca70d-20e8-4169-bf9f-cd6c31d9561d",
   "metadata": {},
   "outputs": [
    {
     "data": {
      "text/plain": [
       "'\\ndata = data.iloc[:, :-1]\\ndata = data[[\"Precip Type\",\\t\"Temperature (C)\",\\t\"Apparent Temperature (C)\",\\t\"Humidity\",\\t\"Wind Speed (km/h)\",\\t\"Wind Bearing (degrees)\",\\t\"Visibility (km)\",\\n\"Loud Cover\",\\t\"Pressure (millibars)\"]]\\n'"
      ]
     },
     "execution_count": 3,
     "metadata": {},
     "output_type": "execute_result"
    }
   ],
   "source": [
    "\"\"\"\n",
    "data = data.iloc[:, :-1]\n",
    "data = data[[\"Precip Type\",\t\"Temperature (C)\",\t\"Apparent Temperature (C)\",\t\"Humidity\",\t\"Wind Speed (km/h)\",\t\"Wind Bearing (degrees)\",\t\"Visibility (km)\",\n",
    "\"Loud Cover\",\t\"Pressure (millibars)\"]]\n",
    "\"\"\""
   ]
  },
  {
   "cell_type": "code",
   "execution_count": 4,
   "id": "aea8510d-236d-4c07-8e46-6f20ec8dc446",
   "metadata": {},
   "outputs": [],
   "source": [
    "#data = data.drop(\"id\", axis=1)"
   ]
  },
  {
   "cell_type": "code",
   "execution_count": 5,
   "id": "6e35a010-5ad3-42bd-a79c-55cd11655890",
   "metadata": {},
   "outputs": [
    {
     "data": {
      "text/plain": [
       "'\\nlabel_encoder = preprocessing.LabelEncoder()\\ndata[\"sex\"] = label_encoder.fit_transform(data[\"sex\"])\\ndata[\"children\"] = label_encoder.fit_transform(data[\"children\"])\\ndata[\"smoker\"] = label_encoder.fit_transform(data[\"smoker\"])\\ndata[\"region\"] = label_encoder.fit_transform(data[\"region\"])\\ndata.head()\\n\\n'"
      ]
     },
     "execution_count": 5,
     "metadata": {},
     "output_type": "execute_result"
    }
   ],
   "source": [
    "from sklearn import preprocessing \n",
    "#make an instance of Label Encoder\n",
    "\"\"\"\n",
    "label_encoder = preprocessing.LabelEncoder()\n",
    "data[\"sex\"] = label_encoder.fit_transform(data[\"sex\"])\n",
    "data[\"children\"] = label_encoder.fit_transform(data[\"children\"])\n",
    "data[\"smoker\"] = label_encoder.fit_transform(data[\"smoker\"])\n",
    "data[\"region\"] = label_encoder.fit_transform(data[\"region\"])\n",
    "data.head()\n",
    "\n",
    "\"\"\""
   ]
  },
  {
   "cell_type": "code",
   "execution_count": 6,
   "id": "911887a2-7ca6-4e26-bbc3-7f94676b5ed3",
   "metadata": {},
   "outputs": [
    {
     "name": "stdout",
     "output_type": "stream",
     "text": [
      "(25, 4)\n",
      "(25, 3)\n",
      "(25,)\n"
     ]
    }
   ],
   "source": [
    "X = data.iloc[: , 0:-1]\n",
    "#print(X)\n",
    "y = data.iloc[: , -1]\n",
    "#print(y)\n",
    "print(data.shape)\n",
    "print(X.shape)\n",
    "print(y.shape)"
   ]
  },
  {
   "cell_type": "code",
   "execution_count": 7,
   "id": "7a5e2bb3-f45a-4f79-bdc5-20e4a208a3d7",
   "metadata": {},
   "outputs": [],
   "source": [
    "from sklearn.preprocessing import StandardScaler\n",
    "object= StandardScaler()\n",
    "\n",
    "# standardization \n",
    "X = object.fit_transform(X) \n",
    "#y = object.fit_transform(y) "
   ]
  },
  {
   "cell_type": "code",
   "execution_count": 8,
   "id": "0c750709-4405-4b62-a5f3-d1ca61ced061",
   "metadata": {
    "scrolled": true
   },
   "outputs": [],
   "source": [
    "from sklearn.model_selection import train_test_split\n",
    "X_train, X_test, y_train, y_test = train_test_split(X, y, test_size=0.33, random_state=42)"
   ]
  },
  {
   "cell_type": "code",
   "execution_count": 9,
   "id": "81ed1d79-1d4a-40e7-babf-6e9c7c414633",
   "metadata": {
    "scrolled": true
   },
   "outputs": [
    {
     "data": {
      "text/plain": [
       "array([[-0.97072534,  0.02566186, -1.17656209],\n",
       "       [-1.38675049, -0.29511139,  1.07323794],\n",
       "       [ 0.        , -0.29511139,  1.07323794],\n",
       "       [ 0.41602515,  0.02566186,  0.73993423],\n",
       "       [-1.24807544,  0.10585517, -0.75993245],\n",
       "       [-1.10940039,  0.58701505,  1.48986757],\n",
       "       [ 1.10940039, -0.77627127,  0.57328238],\n",
       "       [ 0.69337525,  0.82759499,  0.98991201],\n",
       "       [ 1.24807544, -0.13472477, -1.34321394],\n",
       "       [ 0.83205029,  0.50682174,  0.90658608],\n",
       "       [ 1.66410059, -0.45549802, -0.75993245],\n",
       "       [-0.69337525,  0.2662418 , -0.25997689],\n",
       "       [-0.2773501 , -3.34245728, -1.25988801],\n",
       "       [ 0.2773501 , -0.77627127,  1.73984535],\n",
       "       [ 0.97072534,  1.06817493, -0.42662875],\n",
       "       [-0.83205029, -0.45549802, -0.92658431]])"
      ]
     },
     "execution_count": 9,
     "metadata": {},
     "output_type": "execute_result"
    }
   ],
   "source": [
    "X_train"
   ]
  },
  {
   "cell_type": "markdown",
   "id": "51a1f5a0-70ee-45fb-b2ed-51a2c7a0783b",
   "metadata": {},
   "source": [
    "## Experiment 1"
   ]
  },
  {
   "cell_type": "markdown",
   "id": "38869aa4-4d8f-4781-93e6-fd931adda350",
   "metadata": {},
   "source": [
    "### Linear Regression"
   ]
  },
  {
   "cell_type": "code",
   "execution_count": 10,
   "id": "1a76a9d0-c667-4138-8464-e38cdd9ee17a",
   "metadata": {},
   "outputs": [
    {
     "name": "stdout",
     "output_type": "stream",
     "text": [
      "Reg_Score 0.7966260536492977\n",
      "Coefficient [-31.2699329    8.74309249  59.75270143]\n",
      "Intercept 316.5602952997264\n"
     ]
    }
   ],
   "source": [
    "from sklearn.linear_model import LinearRegression\n",
    "\n",
    "reg = LinearRegression().fit(X_train, y_train)\n",
    "print(\"Reg_Score\" , reg.score(X_train, y_train))\n",
    "print(\"Coefficient\",  reg.coef_)\n",
    "print(\"Intercept\",  reg.intercept_)\n",
    "y_pred =  reg.predict(X_test)\n",
    "errors_lr = mean_absolute_error(y_test, y_pred)"
   ]
  },
  {
   "cell_type": "markdown",
   "id": "d5b963ab-85df-4d6a-bfa0-ec3a2619a2a5",
   "metadata": {},
   "source": [
    "### Poly"
   ]
  },
  {
   "cell_type": "code",
   "execution_count": 11,
   "id": "50325b5f-8345-4d81-a36f-28fc6b67a8b6",
   "metadata": {},
   "outputs": [],
   "source": [
    "# Fitting Polynomial Regression to the dataset\n",
    "from sklearn.preprocessing import PolynomialFeatures\n",
    "\n",
    "poly = PolynomialFeatures(degree=1)\n",
    "X_poly = poly.fit_transform(X_train)\n",
    "\n",
    "poly.fit(X_poly, y_train)\n",
    "lin2 = LinearRegression()\n",
    "lin2.fit(X_poly, y_train)\n",
    "\n",
    "y_pred =  lin2.predict(poly.fit_transform(X_test))\n",
    "errors_pr = mean_absolute_error(y_test, y_pred)"
   ]
  },
  {
   "cell_type": "markdown",
   "id": "80cf7e0f-0ee7-4277-afb5-e452a2d3bbaa",
   "metadata": {},
   "source": [
    "### Decision Tree Regression"
   ]
  },
  {
   "cell_type": "code",
   "execution_count": 12,
   "id": "784654a8-3364-40c2-ade5-2b1df5e984c8",
   "metadata": {},
   "outputs": [
    {
     "name": "stdout",
     "output_type": "stream",
     "text": [
      "[346. 220. 405. 311. 209. 385. 181. 302. 311.]\n"
     ]
    },
    {
     "data": {
      "text/plain": [
       "<Figure size 2500x2000 with 0 Axes>"
      ]
     },
     "metadata": {},
     "output_type": "display_data"
    }
   ],
   "source": [
    "from sklearn.tree import DecisionTreeRegressor\n",
    "# Fit regression model\n",
    "Regressor = DecisionTreeRegressor()\n",
    "Regressor.fit(X_train, y_train)\n",
    "y_pred = Regressor.predict(X_test)\n",
    "print(y_pred)\n",
    "\n",
    "\n",
    "from sklearn.metrics import accuracy_score\n",
    "from sklearn import tree\n",
    "\n",
    "features = data.columns\n",
    "features = features[:-1]\n",
    "features\n",
    "\n",
    "fig = plt.figure(figsize=(25,20))\n",
    "#plot = tree.plot_tree(Regressor, feature_names=features, filled=True)\n",
    "\n",
    "from sklearn import tree\n",
    "#print(tree.export_text(Regressor))\n",
    "\n",
    "\n",
    "from sklearn.metrics import mean_squared_error\n",
    "errors = mean_squared_error(y_test, y_pred)\n",
    "# example of calculate the root mean squared error\n",
    "errors_dt = mean_absolute_error(y_test, y_pred)"
   ]
  },
  {
   "cell_type": "markdown",
   "id": "537ad31d-3672-4ea6-b779-63fd11fa47e7",
   "metadata": {},
   "source": [
    "### Random Forest "
   ]
  },
  {
   "cell_type": "code",
   "execution_count": 13,
   "id": "3b88e17c-3a81-4d39-9988-9b49bcd9cb66",
   "metadata": {},
   "outputs": [],
   "source": [
    "from sklearn.ensemble import RandomForestRegressor\n",
    "\n",
    "# Instantiate model with 1000 decision trees\n",
    "rf = RandomForestRegressor(n_estimators = 1000, random_state = 42)\n",
    "# Train the model on training data\n",
    "rf.fit(X_train, y_train)\n",
    "\n",
    "# Use the forest's predict method on the test data\n",
    "y_pred = rf.predict(X_test)\n",
    "errors_rf = mean_absolute_error(y_test, y_pred)"
   ]
  },
  {
   "cell_type": "code",
   "execution_count": null,
   "id": "c4dde9b7-e91f-4a5f-95cd-dd743eeaf6e2",
   "metadata": {},
   "outputs": [],
   "source": []
  },
  {
   "cell_type": "code",
   "execution_count": 14,
   "id": "6011b8f7-a449-4aba-a5b1-0ff84d528329",
   "metadata": {},
   "outputs": [],
   "source": [
    "from sklearn.svm import SVR\n",
    "regressor = SVR(kernel = 'rbf')\n",
    "regressor.fit(X_train, y_train)\n",
    "y_pred = regressor.predict(X_test)\n",
    "#y_pred = sc_y.inverse_transform(y_pred) \n",
    "y_pred\n",
    "errors_sm = mean_absolute_error(y_test, y_pred)"
   ]
  },
  {
   "cell_type": "markdown",
   "id": "fa4b4cec-b144-460f-9fbd-ae92dc5d6a65",
   "metadata": {},
   "source": [
    "### Error Rate"
   ]
  },
  {
   "cell_type": "code",
   "execution_count": 15,
   "id": "c3467af0-23ed-4527-af2d-209adbd9f9db",
   "metadata": {},
   "outputs": [
    {
     "data": {
      "text/html": [
       "<div>\n",
       "<style scoped>\n",
       "    .dataframe tbody tr th:only-of-type {\n",
       "        vertical-align: middle;\n",
       "    }\n",
       "\n",
       "    .dataframe tbody tr th {\n",
       "        vertical-align: top;\n",
       "    }\n",
       "\n",
       "    .dataframe thead th {\n",
       "        text-align: right;\n",
       "    }\n",
       "</style>\n",
       "<table border=\"1\" class=\"dataframe\">\n",
       "  <thead>\n",
       "    <tr style=\"text-align: right;\">\n",
       "      <th></th>\n",
       "      <th>name</th>\n",
       "      <th>Error</th>\n",
       "    </tr>\n",
       "  </thead>\n",
       "  <tbody>\n",
       "    <tr>\n",
       "      <th>0</th>\n",
       "      <td>LR</td>\n",
       "      <td>33.173692</td>\n",
       "    </tr>\n",
       "    <tr>\n",
       "      <th>1</th>\n",
       "      <td>Ply</td>\n",
       "      <td>33.173692</td>\n",
       "    </tr>\n",
       "    <tr>\n",
       "      <th>2</th>\n",
       "      <td>DT</td>\n",
       "      <td>48.666667</td>\n",
       "    </tr>\n",
       "    <tr>\n",
       "      <th>3</th>\n",
       "      <td>RF</td>\n",
       "      <td>29.514556</td>\n",
       "    </tr>\n",
       "    <tr>\n",
       "      <th>4</th>\n",
       "      <td>SVM</td>\n",
       "      <td>55.805163</td>\n",
       "    </tr>\n",
       "  </tbody>\n",
       "</table>\n",
       "</div>"
      ],
      "text/plain": [
       "  name      Error\n",
       "0   LR  33.173692\n",
       "1  Ply  33.173692\n",
       "2   DT  48.666667\n",
       "3   RF  29.514556\n",
       "4  SVM  55.805163"
      ]
     },
     "execution_count": 15,
     "metadata": {},
     "output_type": "execute_result"
    }
   ],
   "source": [
    "error = errors_lr, errors_pr, errors_dt, errors_rf, errors_sm\n",
    "error =  {\"name\": [\"LR\", \"Ply\", \"DT\", \"RF\" , \"SVM\"], \"Error\": error} \n",
    "error = pd.DataFrame(error) \n",
    "error\n",
    "\n"
   ]
  },
  {
   "cell_type": "code",
   "execution_count": 16,
   "id": "28f686bc-bc5b-4c98-b9ed-e72d98ce914f",
   "metadata": {},
   "outputs": [],
   "source": [
    "error1 = list(error)"
   ]
  },
  {
   "cell_type": "code",
   "execution_count": 17,
   "id": "5ddf4d39-585b-4b80-a48e-5e0b816030a1",
   "metadata": {},
   "outputs": [
    {
     "data": {
      "text/plain": [
       "['name', 'Error']"
      ]
     },
     "execution_count": 17,
     "metadata": {},
     "output_type": "execute_result"
    }
   ],
   "source": [
    "error1"
   ]
  },
  {
   "cell_type": "code",
   "execution_count": 18,
   "id": "74461222-620c-4f24-add2-1f91f0f741d9",
   "metadata": {},
   "outputs": [
    {
     "data": {
      "text/html": [
       "<div>\n",
       "<style scoped>\n",
       "    .dataframe tbody tr th:only-of-type {\n",
       "        vertical-align: middle;\n",
       "    }\n",
       "\n",
       "    .dataframe tbody tr th {\n",
       "        vertical-align: top;\n",
       "    }\n",
       "\n",
       "    .dataframe thead th {\n",
       "        text-align: right;\n",
       "    }\n",
       "</style>\n",
       "<table border=\"1\" class=\"dataframe\">\n",
       "  <thead>\n",
       "    <tr style=\"text-align: right;\">\n",
       "      <th></th>\n",
       "      <th>Attr</th>\n",
       "      <th>LR</th>\n",
       "      <th>Ply</th>\n",
       "      <th>DT</th>\n",
       "      <th>RF</th>\n",
       "      <th>SVM</th>\n",
       "    </tr>\n",
       "  </thead>\n",
       "  <tbody>\n",
       "    <tr>\n",
       "      <th>0</th>\n",
       "      <td>Error</td>\n",
       "      <td>33.173692</td>\n",
       "      <td>33.173692</td>\n",
       "      <td>48.666667</td>\n",
       "      <td>29.514556</td>\n",
       "      <td>55.805163</td>\n",
       "    </tr>\n",
       "  </tbody>\n",
       "</table>\n",
       "</div>"
      ],
      "text/plain": [
       "    Attr         LR        Ply         DT         RF        SVM\n",
       "0  Error  33.173692  33.173692  48.666667  29.514556  55.805163"
      ]
     },
     "execution_count": 18,
     "metadata": {},
     "output_type": "execute_result"
    }
   ],
   "source": [
    "# importing the pandas library\n",
    "import pandas as pd\n",
    "#error = {errors_lr, errors_pr, errors_dt, errors_rf, errors_sm}\n",
    "error = {\"Attr\": \"Error\", \"LR\": errors_lr, \"Ply\": errors_pr, \"DT\":errors_dt, \"RF\":errors_rf , \"SVM\":errors_sm}\n",
    "\n",
    "#column_name = [name, error1]\n",
    "error = pd.DataFrame([error])\n",
    "error"
   ]
  },
  {
   "cell_type": "markdown",
   "id": "07833eb7-1941-469c-92ce-4c5966d0b7c7",
   "metadata": {},
   "source": [
    "## Cross Validation when n_split = 2"
   ]
  },
  {
   "cell_type": "code",
   "execution_count": 19,
   "id": "353b35b5-f751-412b-8f70-5f5c1616dda9",
   "metadata": {},
   "outputs": [],
   "source": [
    "from sklearn.model_selection import cross_val_score\n",
    "from sklearn.model_selection import KFold\n",
    "from sklearn.model_selection import GridSearchCV\n",
    "from sklearn.pipeline import make_pipeline\n",
    "\n",
    "folds = KFold(n_splits = 5, shuffle = True, random_state = 100)\n",
    "scores = cross_val_score(reg, X_train, y_train, scoring='r2', cv=folds)\n",
    "scores  \n",
    "y_pred_1 =  reg.predict(X_test)\n",
    "errors_lr = mean_absolute_error(y_test, y_pred_1)\n",
    "errors_lr\n",
    "\n",
    "kf = KFold(n_splits=2)\n",
    "\n",
    "from sklearn.model_selection import KFold\n",
    "kf = KFold(n_splits=2)\n",
    "\n",
    "for train_index, test_index in kf.split(X):\n",
    "    #print(\"TRAIN:\", train_index, \"TEST:\", test_index)\n",
    "    X_train, X_test = X[train_index], X[test_index]\n",
    "    y_train, y_test = y[train_index], y[test_index]"
   ]
  },
  {
   "cell_type": "code",
   "execution_count": null,
   "id": "3d3e6a34-b1df-4304-9192-dd4b9838ae9b",
   "metadata": {},
   "outputs": [],
   "source": []
  },
  {
   "cell_type": "code",
   "execution_count": 20,
   "id": "2869977e-15a0-44cf-9835-1eb64824a1ac",
   "metadata": {},
   "outputs": [
    {
     "name": "stdout",
     "output_type": "stream",
     "text": [
      "Reg_Score 0.8094921716261154\n",
      "Coefficient [-3.33826746  8.92881514 59.72448061]\n",
      "Intercept 325.87681497749224\n"
     ]
    }
   ],
   "source": [
    "from sklearn.linear_model import LinearRegression\n",
    "reg = LinearRegression().fit(X_train, y_train)\n",
    "print(\"Reg_Score\" , reg.score(X_train, y_train))\n",
    "print(\"Coefficient\",  reg.coef_)\n",
    "print(\"Intercept\",  reg.intercept_)\n",
    "y_pred =  reg.predict(X_test)\n",
    "errors_lr = mean_absolute_error(y_test, y_pred)"
   ]
  },
  {
   "cell_type": "code",
   "execution_count": 21,
   "id": "66b5caf3-1e73-43db-bc6b-00b8966444f9",
   "metadata": {},
   "outputs": [
    {
     "data": {
      "text/plain": [
       "45.28716290814743"
      ]
     },
     "execution_count": 21,
     "metadata": {},
     "output_type": "execute_result"
    }
   ],
   "source": [
    "errors_lr"
   ]
  },
  {
   "cell_type": "code",
   "execution_count": null,
   "id": "9c8cb6f8-4448-45d2-b7d5-61732918129c",
   "metadata": {},
   "outputs": [],
   "source": []
  },
  {
   "cell_type": "code",
   "execution_count": 22,
   "id": "4a527a5b-eef0-4234-ad1e-a7903384735c",
   "metadata": {},
   "outputs": [],
   "source": [
    "# Fitting Polynomial Regression to the dataset\n",
    "from sklearn.preprocessing import PolynomialFeatures\n",
    "\n",
    "poly = PolynomialFeatures(degree=1)\n",
    "X_poly = poly.fit_transform(X_train)\n",
    "\n",
    "poly.fit(X_poly, y_train)\n",
    "lin2 = LinearRegression()\n",
    "lin2.fit(X_poly, y_train)\n",
    "\n",
    "y_pred =  lin2.predict(poly.fit_transform(X_test))\n",
    "errors_pr = mean_absolute_error(y_test, y_pred)"
   ]
  },
  {
   "cell_type": "markdown",
   "id": "c675529a-50b8-496d-9837-c6af550d08ce",
   "metadata": {},
   "source": [
    "### Decision Tree Regression"
   ]
  },
  {
   "cell_type": "code",
   "execution_count": 23,
   "id": "b1907475-e548-43ff-8a84-39e6603386f8",
   "metadata": {},
   "outputs": [
    {
     "data": {
      "text/plain": [
       "<Figure size 2500x2000 with 0 Axes>"
      ]
     },
     "metadata": {},
     "output_type": "display_data"
    }
   ],
   "source": [
    "from sklearn.tree import DecisionTreeRegressor\n",
    "# Fit regression model\n",
    "Regressor = DecisionTreeRegressor()\n",
    "Regressor.fit(X_train, y_train)\n",
    "y_pred = Regressor.predict(X_test)\n",
    "\n",
    "from sklearn.metrics import accuracy_score\n",
    "from sklearn import tree\n",
    "\n",
    "features = data.columns\n",
    "features = features[:-1]\n",
    "features\n",
    "\n",
    "fig = plt.figure(figsize=(25,20))\n",
    "#plot = tree.plot_tree(Regressor, feature_names=features, filled=True)\n",
    "\n",
    "from sklearn import tree\n",
    "#print(tree.export_text(Regressor))\n",
    "\n",
    "\n",
    "from sklearn.metrics import mean_squared_error\n",
    "errors = mean_squared_error(y_test, y_pred)\n",
    "# example of calculate the root mean squared error\n",
    "errors_dt = mean_absolute_error(y_test, y_pred)"
   ]
  },
  {
   "cell_type": "markdown",
   "id": "9b5b22c7-b96c-4f66-9c24-9d47575eceaa",
   "metadata": {},
   "source": [
    "### Random Forest "
   ]
  },
  {
   "cell_type": "code",
   "execution_count": 24,
   "id": "dfcd4361-ed85-4b61-9e39-06d2e738f2b3",
   "metadata": {},
   "outputs": [],
   "source": [
    "from sklearn.ensemble import RandomForestRegressor\n",
    "\n",
    "# Instantiate model with 1000 decision trees\n",
    "rf = RandomForestRegressor(n_estimators = 1000, random_state = 42)\n",
    "# Train the model on training data\n",
    "rf.fit(X_train, y_train)\n",
    "\n",
    "# Use the forest's predict method on the test data\n",
    "y_pred = rf.predict(X_test)\n",
    "errors_rf = mean_absolute_error(y_test, y_pred)"
   ]
  },
  {
   "cell_type": "code",
   "execution_count": 25,
   "id": "594debd6-ccc4-425c-9e03-5c77d8a3e052",
   "metadata": {},
   "outputs": [],
   "source": [
    "from sklearn.svm import SVR\n",
    "regressor = SVR(kernel = 'rbf')\n",
    "regressor.fit(X_train, y_train)\n",
    "y_pred = regressor.predict(X_test)\n",
    "#y_pred = sc_y.inverse_transform(y_pred) \n",
    "y_pred\n",
    "errors_sm = mean_absolute_error(y_test, y_pred)"
   ]
  },
  {
   "cell_type": "code",
   "execution_count": 26,
   "id": "e4e716ba-81e4-4727-b9bf-791e5f0e83bd",
   "metadata": {},
   "outputs": [
    {
     "data": {
      "text/html": [
       "<div>\n",
       "<style scoped>\n",
       "    .dataframe tbody tr th:only-of-type {\n",
       "        vertical-align: middle;\n",
       "    }\n",
       "\n",
       "    .dataframe tbody tr th {\n",
       "        vertical-align: top;\n",
       "    }\n",
       "\n",
       "    .dataframe thead th {\n",
       "        text-align: right;\n",
       "    }\n",
       "</style>\n",
       "<table border=\"1\" class=\"dataframe\">\n",
       "  <thead>\n",
       "    <tr style=\"text-align: right;\">\n",
       "      <th></th>\n",
       "      <th>Attr</th>\n",
       "      <th>LR</th>\n",
       "      <th>Ply</th>\n",
       "      <th>DT</th>\n",
       "      <th>RF</th>\n",
       "      <th>SVM</th>\n",
       "    </tr>\n",
       "  </thead>\n",
       "  <tbody>\n",
       "    <tr>\n",
       "      <th>0</th>\n",
       "      <td>Error</td>\n",
       "      <td>33.173692</td>\n",
       "      <td>33.173692</td>\n",
       "      <td>48.666667</td>\n",
       "      <td>29.514556</td>\n",
       "      <td>55.805163</td>\n",
       "    </tr>\n",
       "    <tr>\n",
       "      <th>1</th>\n",
       "      <td>CL_2</td>\n",
       "      <td>45.287163</td>\n",
       "      <td>45.287163</td>\n",
       "      <td>63.000000</td>\n",
       "      <td>55.646583</td>\n",
       "      <td>78.831452</td>\n",
       "    </tr>\n",
       "  </tbody>\n",
       "</table>\n",
       "</div>"
      ],
      "text/plain": [
       "    Attr         LR        Ply         DT         RF        SVM\n",
       "0  Error  33.173692  33.173692  48.666667  29.514556  55.805163\n",
       "1   CL_2  45.287163  45.287163  63.000000  55.646583  78.831452"
      ]
     },
     "execution_count": 26,
     "metadata": {},
     "output_type": "execute_result"
    }
   ],
   "source": [
    "import pandas as pd\n",
    "#error = {errors_lr, errors_pr, errors_dt, errors_rf, errors_sm}\n",
    "error1 = {\"Attr\": \"CL_2\", \"LR\": errors_lr, \"Ply\": errors_pr, \"DT\":errors_dt, \"RF\":errors_rf , \"SVM\":errors_sm}\n",
    "\n",
    "error = error._append(error1, ignore_index=True)\n",
    "\n",
    "error"
   ]
  },
  {
   "cell_type": "markdown",
   "id": "8df485c4-c73e-4568-811d-da88c78ae58b",
   "metadata": {},
   "source": [
    "## Cross Vaidation when N splits = 5"
   ]
  },
  {
   "cell_type": "code",
   "execution_count": 27,
   "id": "80bcae5d-ee6c-42ce-b410-66e54b6028a1",
   "metadata": {},
   "outputs": [],
   "source": [
    "from sklearn.model_selection import cross_val_score\n",
    "from sklearn.model_selection import KFold\n",
    "from sklearn.model_selection import GridSearchCV\n",
    "from sklearn.pipeline import make_pipeline\n",
    "\n",
    "from sklearn.model_selection import KFold\n",
    "kf = KFold(n_splits=5)\n",
    "\n",
    "for train_index, test_index in kf.split(X):\n",
    "    #print(\"TRAIN:\", train_index, \"TEST:\", test_index)\n",
    "    X_train, X_test = X[train_index], X[test_index]\n",
    "    y_train, y_test = y[train_index], y[test_index]"
   ]
  },
  {
   "cell_type": "code",
   "execution_count": null,
   "id": "9cffdcca-2a51-49b5-971d-71b5b1b4bf69",
   "metadata": {},
   "outputs": [],
   "source": []
  },
  {
   "cell_type": "code",
   "execution_count": 28,
   "id": "bedc5a84-4134-4491-b4a3-e03441df919e",
   "metadata": {},
   "outputs": [
    {
     "name": "stdout",
     "output_type": "stream",
     "text": [
      "Reg_Score 0.7445188484671843\n",
      "Coefficient [-23.36358744   3.50654781  62.8047322 ]\n",
      "Intercept 309.319070926846\n"
     ]
    }
   ],
   "source": [
    "from sklearn.linear_model import LinearRegression\n",
    "reg = LinearRegression().fit(X_train, y_train)\n",
    "print(\"Reg_Score\" , reg.score(X_train, y_train))\n",
    "print(\"Coefficient\",  reg.coef_)\n",
    "print(\"Intercept\",  reg.intercept_)\n",
    "y_pred =  reg.predict(X_test)\n",
    "errors_lr = mean_absolute_error(y_test, y_pred)"
   ]
  },
  {
   "cell_type": "code",
   "execution_count": 29,
   "id": "9815b86c-b629-4ded-9bbc-a8fd26dceb21",
   "metadata": {},
   "outputs": [
    {
     "data": {
      "text/plain": [
       "15.008346245196673"
      ]
     },
     "execution_count": 29,
     "metadata": {},
     "output_type": "execute_result"
    }
   ],
   "source": [
    "errors_lr"
   ]
  },
  {
   "cell_type": "code",
   "execution_count": null,
   "id": "0cf34d57-02bd-4b5c-ae8f-e5d06d1fb8c5",
   "metadata": {},
   "outputs": [],
   "source": []
  },
  {
   "cell_type": "code",
   "execution_count": 30,
   "id": "aa7bd0e2-c679-42d2-a7aa-a03cde15a7bb",
   "metadata": {},
   "outputs": [],
   "source": [
    "# Fitting Polynomial Regression to the dataset\n",
    "from sklearn.preprocessing import PolynomialFeatures\n",
    "\n",
    "poly = PolynomialFeatures(degree=1)\n",
    "X_poly = poly.fit_transform(X_train)\n",
    "\n",
    "poly.fit(X_poly, y_train)\n",
    "lin2 = LinearRegression()\n",
    "lin2.fit(X_poly, y_train)\n",
    "\n",
    "y_pred =  lin2.predict(poly.fit_transform(X_test))\n",
    "errors_pr = mean_absolute_error(y_test, y_pred)"
   ]
  },
  {
   "cell_type": "markdown",
   "id": "4aafbde5-7c67-4894-9107-35ecd5d3ee8e",
   "metadata": {},
   "source": [
    "### Decision Tree Regression"
   ]
  },
  {
   "cell_type": "code",
   "execution_count": 31,
   "id": "ab6fd537-5039-4472-aebc-77157d670099",
   "metadata": {},
   "outputs": [],
   "source": [
    "from sklearn.tree import DecisionTreeRegressor\n",
    "# Fit regression model\n",
    "Regressor = DecisionTreeRegressor()\n",
    "Regressor.fit(X_train, y_train)\n",
    "y_pred = Regressor.predict(X_test)\n",
    "#print(y_pred)\n",
    "\n",
    "from sklearn.metrics import accuracy_score\n",
    "from sklearn import tree\n",
    "\n",
    "features = data.columns\n",
    "features = features[:-1]\n",
    "features\n",
    "\n",
    "#fig = plt.figure(figsize=(25,20))\n",
    "#plot = tree.plot_tree(Regressor, feature_names=features, filled=True)\n",
    "\n",
    "from sklearn import tree\n",
    "#print(tree.export_text(Regressor))\n",
    "\n",
    "\n",
    "from sklearn.metrics import mean_squared_error\n",
    "errors = mean_squared_error(y_test, y_pred)\n",
    "# example of calculate the root mean squared error\n",
    "errors_dt = mean_absolute_error(y_test, y_pred)"
   ]
  },
  {
   "cell_type": "markdown",
   "id": "ccbf77bd-da66-4b91-b31a-f1115b583eb8",
   "metadata": {},
   "source": [
    "### Random Forest "
   ]
  },
  {
   "cell_type": "code",
   "execution_count": 32,
   "id": "c99be883-2d56-4619-8ca6-c8afa01b7a41",
   "metadata": {},
   "outputs": [],
   "source": [
    "from sklearn.ensemble import RandomForestRegressor\n",
    "\n",
    "# Instantiate model with 1000 decision trees\n",
    "rf = RandomForestRegressor(n_estimators = 1000, random_state = 42)\n",
    "# Train the model on training data\n",
    "rf.fit(X_train, y_train)\n",
    "\n",
    "# Use the forest's predict method on the test data\n",
    "y_pred = rf.predict(X_test)\n",
    "errors_rf = mean_absolute_error(y_test, y_pred)"
   ]
  },
  {
   "cell_type": "code",
   "execution_count": 33,
   "id": "b418e219-4576-4185-b5c3-0d27856413e0",
   "metadata": {},
   "outputs": [],
   "source": [
    "from sklearn.svm import SVR\n",
    "regressor = SVR(kernel = 'rbf')\n",
    "regressor.fit(X_train, y_train)\n",
    "y_pred = regressor.predict(X_test)\n",
    "#y_pred = sc_y.inverse_transform(y_pred) \n",
    "y_pred\n",
    "errors_sm = mean_absolute_error(y_test, y_pred)"
   ]
  },
  {
   "cell_type": "code",
   "execution_count": 34,
   "id": "d968cbdc-b249-43ca-9a52-d87c763dd4fc",
   "metadata": {
    "scrolled": true
   },
   "outputs": [
    {
     "data": {
      "text/html": [
       "<div>\n",
       "<style scoped>\n",
       "    .dataframe tbody tr th:only-of-type {\n",
       "        vertical-align: middle;\n",
       "    }\n",
       "\n",
       "    .dataframe tbody tr th {\n",
       "        vertical-align: top;\n",
       "    }\n",
       "\n",
       "    .dataframe thead th {\n",
       "        text-align: right;\n",
       "    }\n",
       "</style>\n",
       "<table border=\"1\" class=\"dataframe\">\n",
       "  <thead>\n",
       "    <tr style=\"text-align: right;\">\n",
       "      <th></th>\n",
       "      <th>Attr</th>\n",
       "      <th>LR</th>\n",
       "      <th>Ply</th>\n",
       "      <th>DT</th>\n",
       "      <th>RF</th>\n",
       "      <th>SVM</th>\n",
       "    </tr>\n",
       "  </thead>\n",
       "  <tbody>\n",
       "    <tr>\n",
       "      <th>0</th>\n",
       "      <td>Error</td>\n",
       "      <td>33.173692</td>\n",
       "      <td>33.173692</td>\n",
       "      <td>48.666667</td>\n",
       "      <td>29.514556</td>\n",
       "      <td>55.805163</td>\n",
       "    </tr>\n",
       "    <tr>\n",
       "      <th>1</th>\n",
       "      <td>CL_2</td>\n",
       "      <td>45.287163</td>\n",
       "      <td>45.287163</td>\n",
       "      <td>63.000000</td>\n",
       "      <td>55.646583</td>\n",
       "      <td>78.831452</td>\n",
       "    </tr>\n",
       "    <tr>\n",
       "      <th>2</th>\n",
       "      <td>CV_5</td>\n",
       "      <td>15.008346</td>\n",
       "      <td>15.008346</td>\n",
       "      <td>32.200000</td>\n",
       "      <td>34.515400</td>\n",
       "      <td>60.700159</td>\n",
       "    </tr>\n",
       "  </tbody>\n",
       "</table>\n",
       "</div>"
      ],
      "text/plain": [
       "    Attr         LR        Ply         DT         RF        SVM\n",
       "0  Error  33.173692  33.173692  48.666667  29.514556  55.805163\n",
       "1   CL_2  45.287163  45.287163  63.000000  55.646583  78.831452\n",
       "2   CV_5  15.008346  15.008346  32.200000  34.515400  60.700159"
      ]
     },
     "execution_count": 34,
     "metadata": {},
     "output_type": "execute_result"
    }
   ],
   "source": [
    "import pandas as pd\n",
    "var = \"CV_5\"\n",
    "#error = {errors_lr, errors_pr, errors_dt, errors_rf, errors_sm}\n",
    "error1 = {\"Attr\": var, \"LR\": errors_lr, \"Ply\": errors_pr, \"DT\":errors_dt, \"RF\":errors_rf , \"SVM\":errors_sm}\n",
    "\n",
    "error = error._append(error1, ignore_index=True)\n",
    "\n",
    "error"
   ]
  },
  {
   "cell_type": "code",
   "execution_count": null,
   "id": "d1da1d8a-e40b-44a8-8b92-0a4eefe7b8cb",
   "metadata": {},
   "outputs": [],
   "source": []
  },
  {
   "cell_type": "markdown",
   "id": "0ae68d7f-a54a-4182-ae70-0f2d05123e6b",
   "metadata": {},
   "source": [
    "## Cross Validation when k-folds is 10"
   ]
  },
  {
   "cell_type": "code",
   "execution_count": 35,
   "id": "3c5b7b10-ee1d-4e69-a477-c0a31e58f200",
   "metadata": {},
   "outputs": [],
   "source": [
    "from sklearn.model_selection import cross_val_score\n",
    "from sklearn.model_selection import KFold\n",
    "from sklearn.model_selection import GridSearchCV\n",
    "from sklearn.pipeline import make_pipeline\n",
    "\n",
    "folds = KFold(n_splits = 5, shuffle = True, random_state = 100)\n",
    "scores = cross_val_score(reg, X_train, y_train, scoring='r2', cv=folds)\n",
    "scores  \n",
    "y_pred_1 =  reg.predict(X_test)\n",
    "errors_lr = mean_absolute_error(y_test, y_pred_1)\n",
    "errors_lr\n",
    "\n",
    "from sklearn.model_selection import KFold\n",
    "kf = KFold(n_splits=10)\n",
    "\n",
    "for train_index, test_index in kf.split(X):\n",
    "    #print(\"TRAIN:\", train_index, \"TEST:\", test_index)\n",
    "    X_train, X_test = X[train_index], X[test_index]\n",
    "    y_train, y_test = y[train_index], y[test_index]"
   ]
  },
  {
   "cell_type": "code",
   "execution_count": null,
   "id": "b849ba0c-82a6-42a1-85d0-2796d6d71275",
   "metadata": {},
   "outputs": [],
   "source": []
  },
  {
   "cell_type": "code",
   "execution_count": 36,
   "id": "b7152e82-12b9-4ae0-99a0-3c65395fc842",
   "metadata": {},
   "outputs": [
    {
     "name": "stdout",
     "output_type": "stream",
     "text": [
      "Reg_Score 0.7809350595390103\n",
      "Coefficient [-24.4926479    3.85351964  63.42083831]\n",
      "Intercept 308.40661744738765\n"
     ]
    }
   ],
   "source": [
    "from sklearn.linear_model import LinearRegression\n",
    "reg = LinearRegression().fit(X_train, y_train)\n",
    "print(\"Reg_Score\" , reg.score(X_train, y_train))\n",
    "print(\"Coefficient\",  reg.coef_)\n",
    "print(\"Intercept\",  reg.intercept_)\n",
    "y_pred =  reg.predict(X_test)\n",
    "errors_lr = mean_absolute_error(y_test, y_pred)"
   ]
  },
  {
   "cell_type": "code",
   "execution_count": 37,
   "id": "b59f5d1b-03b5-4b8d-8658-64518a433ee8",
   "metadata": {},
   "outputs": [
    {
     "data": {
      "text/plain": [
       "28.917281907654456"
      ]
     },
     "execution_count": 37,
     "metadata": {},
     "output_type": "execute_result"
    }
   ],
   "source": [
    "errors_lr"
   ]
  },
  {
   "cell_type": "code",
   "execution_count": null,
   "id": "dc93b9f8-b522-4c57-91ea-91d381185d58",
   "metadata": {},
   "outputs": [],
   "source": []
  },
  {
   "cell_type": "code",
   "execution_count": 38,
   "id": "cc4273eb-9a9d-462d-9774-a931a37bbe8f",
   "metadata": {},
   "outputs": [],
   "source": [
    "# Fitting Polynomial Regression to the dataset\n",
    "from sklearn.preprocessing import PolynomialFeatures\n",
    "\n",
    "poly = PolynomialFeatures(degree=1)\n",
    "X_poly = poly.fit_transform(X_train)\n",
    "\n",
    "poly.fit(X_poly, y_train)\n",
    "lin2 = LinearRegression()\n",
    "lin2.fit(X_poly, y_train)\n",
    "\n",
    "y_pred =  lin2.predict(poly.fit_transform(X_test))\n",
    "errors_pr = mean_absolute_error(y_test, y_pred)"
   ]
  },
  {
   "cell_type": "markdown",
   "id": "c088f57e-b857-47d6-8b3c-7d0ebc185a2a",
   "metadata": {},
   "source": [
    "### Decision Tree Regression"
   ]
  },
  {
   "cell_type": "code",
   "execution_count": 39,
   "id": "2a9db0bb-0f68-4227-8c3a-37cfe76f6f3d",
   "metadata": {},
   "outputs": [
    {
     "data": {
      "text/plain": [
       "<Figure size 2500x2000 with 0 Axes>"
      ]
     },
     "metadata": {},
     "output_type": "display_data"
    }
   ],
   "source": [
    "from sklearn.tree import DecisionTreeRegressor\n",
    "# Fit regression model\n",
    "Regressor = DecisionTreeRegressor()\n",
    "Regressor.fit(X_train, y_train)\n",
    "y_pred = Regressor.predict(X_test)\n",
    "\n",
    "from sklearn.metrics import accuracy_score\n",
    "from sklearn import tree\n",
    "\n",
    "features = data.columns\n",
    "features = features[:-1]\n",
    "features\n",
    "\n",
    "fig = plt.figure(figsize=(25,20))\n",
    "#plot = tree.plot_tree(Regressor, feature_names=features, filled=True)\n",
    "\n",
    "from sklearn import tree\n",
    "#print(tree.export_text(Regressor))\n",
    "\n",
    "\n",
    "from sklearn.metrics import mean_squared_error\n",
    "errors = mean_squared_error(y_test, y_pred)\n",
    "# example of calculate the root mean squared error\n",
    "errors_dt = mean_absolute_error(y_test, y_pred)"
   ]
  },
  {
   "cell_type": "markdown",
   "id": "9bd83d44-c5be-4e12-b44c-794bce210e85",
   "metadata": {},
   "source": [
    "### Random Forest "
   ]
  },
  {
   "cell_type": "code",
   "execution_count": 40,
   "id": "ae341a21-4c79-4126-81cf-5a8bcdeed183",
   "metadata": {},
   "outputs": [],
   "source": [
    "from sklearn.ensemble import RandomForestRegressor\n",
    "\n",
    "# Instantiate model with 1000 decision trees\n",
    "rf = RandomForestRegressor(n_estimators = 1000, random_state = 42)\n",
    "# Train the model on training data\n",
    "rf.fit(X_train, y_train)\n",
    "\n",
    "# Use the forest's predict method on the test data\n",
    "y_pred = rf.predict(X_test)\n",
    "errors_rf = mean_absolute_error(y_test, y_pred)"
   ]
  },
  {
   "cell_type": "code",
   "execution_count": 41,
   "id": "07938422-5d82-42df-ac42-709d7e531df3",
   "metadata": {},
   "outputs": [],
   "source": [
    "from sklearn.svm import SVR\n",
    "regressor = SVR(kernel = 'rbf')\n",
    "regressor.fit(X_train, y_train)\n",
    "y_pred = regressor.predict(X_test)\n",
    "#y_pred = sc_y.inverse_transform(y_pred) \n",
    "y_pred\n",
    "errors_sm = mean_absolute_error(y_test, y_pred)"
   ]
  },
  {
   "cell_type": "code",
   "execution_count": 42,
   "id": "b646d240-b4b7-40d4-b158-f503c8c11e03",
   "metadata": {},
   "outputs": [
    {
     "data": {
      "text/html": [
       "<div>\n",
       "<style scoped>\n",
       "    .dataframe tbody tr th:only-of-type {\n",
       "        vertical-align: middle;\n",
       "    }\n",
       "\n",
       "    .dataframe tbody tr th {\n",
       "        vertical-align: top;\n",
       "    }\n",
       "\n",
       "    .dataframe thead th {\n",
       "        text-align: right;\n",
       "    }\n",
       "</style>\n",
       "<table border=\"1\" class=\"dataframe\">\n",
       "  <thead>\n",
       "    <tr style=\"text-align: right;\">\n",
       "      <th></th>\n",
       "      <th>Attr</th>\n",
       "      <th>LR</th>\n",
       "      <th>Ply</th>\n",
       "      <th>DT</th>\n",
       "      <th>RF</th>\n",
       "      <th>SVM</th>\n",
       "    </tr>\n",
       "  </thead>\n",
       "  <tbody>\n",
       "    <tr>\n",
       "      <th>0</th>\n",
       "      <td>Error</td>\n",
       "      <td>33.173692</td>\n",
       "      <td>33.173692</td>\n",
       "      <td>48.666667</td>\n",
       "      <td>29.514556</td>\n",
       "      <td>55.805163</td>\n",
       "    </tr>\n",
       "    <tr>\n",
       "      <th>1</th>\n",
       "      <td>CL_2</td>\n",
       "      <td>45.287163</td>\n",
       "      <td>45.287163</td>\n",
       "      <td>63.000000</td>\n",
       "      <td>55.646583</td>\n",
       "      <td>78.831452</td>\n",
       "    </tr>\n",
       "    <tr>\n",
       "      <th>2</th>\n",
       "      <td>CV_5</td>\n",
       "      <td>15.008346</td>\n",
       "      <td>15.008346</td>\n",
       "      <td>32.200000</td>\n",
       "      <td>34.515400</td>\n",
       "      <td>60.700159</td>\n",
       "    </tr>\n",
       "    <tr>\n",
       "      <th>3</th>\n",
       "      <td>kfolds_is_10</td>\n",
       "      <td>28.917282</td>\n",
       "      <td>28.917282</td>\n",
       "      <td>26.500000</td>\n",
       "      <td>7.591500</td>\n",
       "      <td>30.978121</td>\n",
       "    </tr>\n",
       "  </tbody>\n",
       "</table>\n",
       "</div>"
      ],
      "text/plain": [
       "           Attr         LR        Ply         DT         RF        SVM\n",
       "0         Error  33.173692  33.173692  48.666667  29.514556  55.805163\n",
       "1          CL_2  45.287163  45.287163  63.000000  55.646583  78.831452\n",
       "2          CV_5  15.008346  15.008346  32.200000  34.515400  60.700159\n",
       "3  kfolds_is_10  28.917282  28.917282  26.500000   7.591500  30.978121"
      ]
     },
     "execution_count": 42,
     "metadata": {},
     "output_type": "execute_result"
    }
   ],
   "source": [
    "var = \"kfolds_is_10\"\n",
    "#error = {errors_lr, errors_pr, errors_dt, errors_rf, errors_sm}\n",
    "error1 = {\"Attr\": var, \"LR\": errors_lr, \"Ply\": errors_pr, \"DT\":errors_dt, \"RF\":errors_rf , \"SVM\":errors_sm}\n",
    "\n",
    "error = error._append(error1, ignore_index=True)\n",
    "\n",
    "error"
   ]
  },
  {
   "cell_type": "markdown",
   "id": "365e2802-949d-49a1-990c-40d107fe75c0",
   "metadata": {},
   "source": [
    "## LeaveOneOut Cross Validation"
   ]
  },
  {
   "cell_type": "code",
   "execution_count": 43,
   "id": "7987d0f6-d613-4ec8-a780-b2392879fd1e",
   "metadata": {},
   "outputs": [],
   "source": [
    "## import numpy as np\n",
    "from sklearn.model_selection import LeaveOneOut\n",
    "loo = LeaveOneOut()\n",
    "\n",
    "for train_index, test_index in loo.split(X):\n",
    "    #print(\"TRAIN:\", train_index, \"TEST:\", test_index)\n",
    "    X_train, X_test = X[train_index], X[test_index]\n",
    "    y_train, y_test = y[train_index], y[test_index]"
   ]
  },
  {
   "cell_type": "code",
   "execution_count": 44,
   "id": "84579f47-967b-444a-b46c-64bc9c8d9926",
   "metadata": {},
   "outputs": [
    {
     "name": "stdout",
     "output_type": "stream",
     "text": [
      "Reg_Score 0.7754270468716035\n",
      "Coefficient [-22.36414619   2.57252668  63.67502101]\n",
      "Intercept 309.8843048092587\n"
     ]
    }
   ],
   "source": [
    "from sklearn.linear_model import LinearRegression\n",
    "reg = LinearRegression().fit(X_train, y_train)\n",
    "print(\"Reg_Score\" , reg.score(X_train, y_train))\n",
    "print(\"Coefficient\",  reg.coef_)\n",
    "print(\"Intercept\",  reg.intercept_)\n",
    "y_pred =  reg.predict(X_test)\n",
    "errors_lr = mean_absolute_error(y_test, y_pred)"
   ]
  },
  {
   "cell_type": "code",
   "execution_count": 45,
   "id": "0e51eb79-0ad7-4d70-8747-74b52ecf93b9",
   "metadata": {},
   "outputs": [],
   "source": [
    "# Fitting Polynomial Regression to the dataset\n",
    "from sklearn.preprocessing import PolynomialFeatures\n",
    "\n",
    "poly = PolynomialFeatures(degree=1)\n",
    "X_poly = poly.fit_transform(X_train)\n",
    "\n",
    "poly.fit(X_poly, y_train)\n",
    "lin2 = LinearRegression()\n",
    "lin2.fit(X_poly, y_train)\n",
    "\n",
    "y_pred =  lin2.predict(poly.fit_transform(X_test))\n",
    "errors_pr = mean_absolute_error(y_test, y_pred)"
   ]
  },
  {
   "cell_type": "markdown",
   "id": "538b9fa7-bffe-40fb-8408-410a67e61fe5",
   "metadata": {},
   "source": [
    "### Decision Tree Regression"
   ]
  },
  {
   "cell_type": "code",
   "execution_count": 46,
   "id": "91916b78-6136-4479-9454-f99a3163e8e5",
   "metadata": {},
   "outputs": [
    {
     "data": {
      "text/plain": [
       "<Figure size 2500x2000 with 0 Axes>"
      ]
     },
     "metadata": {},
     "output_type": "display_data"
    }
   ],
   "source": [
    "from sklearn.tree import DecisionTreeRegressor\n",
    "# Fit regression model\n",
    "Regressor = DecisionTreeRegressor()\n",
    "Regressor.fit(X_train, y_train)\n",
    "y_pred = Regressor.predict(X_test)\n",
    "\n",
    "from sklearn.metrics import accuracy_score\n",
    "from sklearn import tree\n",
    "\n",
    "features = data.columns\n",
    "features = features[:-1]\n",
    "features\n",
    "\n",
    "fig = plt.figure(figsize=(25,20))\n",
    "#plot = tree.plot_tree(Regressor, feature_names=features, filled=True)\n",
    "\n",
    "from sklearn import tree\n",
    "#print(tree.export_text(Regressor))\n",
    "\n",
    "\n",
    "from sklearn.metrics import mean_squared_error\n",
    "errors = mean_squared_error(y_test, y_pred)\n",
    "# example of calculate the root mean squared error\n",
    "errors_dt = mean_absolute_error(y_test, y_pred)"
   ]
  },
  {
   "cell_type": "markdown",
   "id": "609eeeea-3cc9-44a6-99ba-788621354f20",
   "metadata": {},
   "source": [
    "### Random Forest "
   ]
  },
  {
   "cell_type": "code",
   "execution_count": 47,
   "id": "5bae6ad4-84f9-4424-916c-66b1cd23ed29",
   "metadata": {},
   "outputs": [],
   "source": [
    "from sklearn.ensemble import RandomForestRegressor\n",
    "\n",
    "# Instantiate model with 1000 decision trees\n",
    "rf = RandomForestRegressor(n_estimators = 1000, random_state = 42)\n",
    "# Train the model on training data\n",
    "rf.fit(X_train, y_train)\n",
    "\n",
    "# Use the forest's predict method on the test data\n",
    "y_pred = rf.predict(X_test)\n",
    "errors_rf = mean_absolute_error(y_test, y_pred)"
   ]
  },
  {
   "cell_type": "code",
   "execution_count": 48,
   "id": "84c8be7c-21c7-4d51-b21e-fc78523ff56f",
   "metadata": {},
   "outputs": [],
   "source": [
    "from sklearn.svm import SVR\n",
    "regressor = SVR(kernel = 'rbf')\n",
    "regressor.fit(X_train, y_train)\n",
    "y_pred = regressor.predict(X_test)\n",
    "#y_pred = sc_y.inverse_transform(y_pred) \n",
    "y_pred\n",
    "errors_sm = mean_absolute_error(y_test, y_pred)"
   ]
  },
  {
   "cell_type": "code",
   "execution_count": 49,
   "id": "00dd3d7c-4ab4-4960-bd29-4237a7b5c35c",
   "metadata": {},
   "outputs": [
    {
     "data": {
      "text/html": [
       "<div>\n",
       "<style scoped>\n",
       "    .dataframe tbody tr th:only-of-type {\n",
       "        vertical-align: middle;\n",
       "    }\n",
       "\n",
       "    .dataframe tbody tr th {\n",
       "        vertical-align: top;\n",
       "    }\n",
       "\n",
       "    .dataframe thead th {\n",
       "        text-align: right;\n",
       "    }\n",
       "</style>\n",
       "<table border=\"1\" class=\"dataframe\">\n",
       "  <thead>\n",
       "    <tr style=\"text-align: right;\">\n",
       "      <th></th>\n",
       "      <th>Attr</th>\n",
       "      <th>LR</th>\n",
       "      <th>Ply</th>\n",
       "      <th>DT</th>\n",
       "      <th>RF</th>\n",
       "      <th>SVM</th>\n",
       "    </tr>\n",
       "  </thead>\n",
       "  <tbody>\n",
       "    <tr>\n",
       "      <th>0</th>\n",
       "      <td>Error</td>\n",
       "      <td>33.173692</td>\n",
       "      <td>33.173692</td>\n",
       "      <td>48.666667</td>\n",
       "      <td>29.514556</td>\n",
       "      <td>55.805163</td>\n",
       "    </tr>\n",
       "    <tr>\n",
       "      <th>1</th>\n",
       "      <td>CL_2</td>\n",
       "      <td>45.287163</td>\n",
       "      <td>45.287163</td>\n",
       "      <td>63.000000</td>\n",
       "      <td>55.646583</td>\n",
       "      <td>78.831452</td>\n",
       "    </tr>\n",
       "    <tr>\n",
       "      <th>2</th>\n",
       "      <td>CV_5</td>\n",
       "      <td>15.008346</td>\n",
       "      <td>15.008346</td>\n",
       "      <td>32.200000</td>\n",
       "      <td>34.515400</td>\n",
       "      <td>60.700159</td>\n",
       "    </tr>\n",
       "    <tr>\n",
       "      <th>3</th>\n",
       "      <td>kfolds_is_10</td>\n",
       "      <td>28.917282</td>\n",
       "      <td>28.917282</td>\n",
       "      <td>26.500000</td>\n",
       "      <td>7.591500</td>\n",
       "      <td>30.978121</td>\n",
       "    </tr>\n",
       "    <tr>\n",
       "      <th>4</th>\n",
       "      <td>LeaveOneOut</td>\n",
       "      <td>20.892380</td>\n",
       "      <td>20.892380</td>\n",
       "      <td>24.000000</td>\n",
       "      <td>3.816000</td>\n",
       "      <td>58.549001</td>\n",
       "    </tr>\n",
       "  </tbody>\n",
       "</table>\n",
       "</div>"
      ],
      "text/plain": [
       "           Attr         LR        Ply         DT         RF        SVM\n",
       "0         Error  33.173692  33.173692  48.666667  29.514556  55.805163\n",
       "1          CL_2  45.287163  45.287163  63.000000  55.646583  78.831452\n",
       "2          CV_5  15.008346  15.008346  32.200000  34.515400  60.700159\n",
       "3  kfolds_is_10  28.917282  28.917282  26.500000   7.591500  30.978121\n",
       "4   LeaveOneOut  20.892380  20.892380  24.000000   3.816000  58.549001"
      ]
     },
     "execution_count": 49,
     "metadata": {},
     "output_type": "execute_result"
    }
   ],
   "source": [
    "import pandas as pd\n",
    "var = \"LeaveOneOut\"\n",
    "#error = {errors_lr, errors_pr, errors_dt, errors_rf, errors_sm}\n",
    "error1 = {\"Attr\": var, \"LR\": errors_lr, \"Ply\": errors_pr, \"DT\":errors_dt, \"RF\":errors_rf , \"SVM\":errors_sm}\n",
    "\n",
    "error = error._append(error1, ignore_index=True)\n",
    "\n",
    "error"
   ]
  },
  {
   "cell_type": "markdown",
   "id": "07aca192-20b2-4860-9218-3885eb2ae617",
   "metadata": {},
   "source": [
    "## Repeated K-Fold Cross-Validation when n = 2"
   ]
  },
  {
   "cell_type": "code",
   "execution_count": 50,
   "id": "e00555c7-f447-4dfb-80df-ef65e36005af",
   "metadata": {},
   "outputs": [],
   "source": [
    "import numpy as np\n",
    "from sklearn.model_selection import RepeatedKFold\n",
    "\n",
    "rkf = RepeatedKFold(n_splits=2, n_repeats=2, random_state=42)\n",
    "for train_index, test_index in rkf.split(X):\n",
    "#    print(\"TRAIN:\", train_index, \"TEST:\", test_index)\n",
    "    X_train, X_test = X[train_index], X[test_index]\n",
    "    y_train, y_test = y[train_index], y[test_index]"
   ]
  },
  {
   "cell_type": "code",
   "execution_count": null,
   "id": "008e5e0d-d3ff-4336-8b14-c06ddf31452e",
   "metadata": {},
   "outputs": [],
   "source": []
  },
  {
   "cell_type": "code",
   "execution_count": 51,
   "id": "c9e259d6-7c1c-4e19-af0d-9c4964647ce0",
   "metadata": {},
   "outputs": [
    {
     "name": "stdout",
     "output_type": "stream",
     "text": [
      "Reg_Score 0.7764482823530456\n",
      "Coefficient [-20.33723252   0.77156204  63.69019138]\n",
      "Intercept 311.8897094126672\n"
     ]
    }
   ],
   "source": [
    "from sklearn.linear_model import LinearRegression\n",
    "reg = LinearRegression().fit(X_train, y_train)\n",
    "print(\"Reg_Score\" , reg.score(X_train, y_train))\n",
    "print(\"Coefficient\",  reg.coef_)\n",
    "print(\"Intercept\",  reg.intercept_)\n",
    "y_pred =  reg.predict(X_test)\n",
    "errors_lr = mean_absolute_error(y_test, y_pred)"
   ]
  },
  {
   "cell_type": "code",
   "execution_count": 52,
   "id": "a37620d5-55bc-4278-a417-fab35f66ca24",
   "metadata": {},
   "outputs": [
    {
     "data": {
      "text/plain": [
       "27.890978285349178"
      ]
     },
     "execution_count": 52,
     "metadata": {},
     "output_type": "execute_result"
    }
   ],
   "source": [
    "errors_lr"
   ]
  },
  {
   "cell_type": "code",
   "execution_count": null,
   "id": "c11ccfc7-a980-4438-83cf-717913285c9e",
   "metadata": {},
   "outputs": [],
   "source": []
  },
  {
   "cell_type": "code",
   "execution_count": 53,
   "id": "1a10f2cb-5baa-4542-aded-11ce92f2ce9e",
   "metadata": {},
   "outputs": [],
   "source": [
    "# Fitting Polynomial Regression to the dataset\n",
    "from sklearn.preprocessing import PolynomialFeatures\n",
    "\n",
    "poly = PolynomialFeatures(degree=1)\n",
    "X_poly = poly.fit_transform(X_train)\n",
    "\n",
    "poly.fit(X_poly, y_train)\n",
    "lin2 = LinearRegression()\n",
    "lin2.fit(X_poly, y_train)\n",
    "\n",
    "y_pred =  lin2.predict(poly.fit_transform(X_test))\n",
    "errors_pr = mean_absolute_error(y_test, y_pred)"
   ]
  },
  {
   "cell_type": "markdown",
   "id": "6fc0e870-7072-4975-a1ff-5b84a280ee71",
   "metadata": {},
   "source": [
    "### Decision Tree Regression"
   ]
  },
  {
   "cell_type": "code",
   "execution_count": 54,
   "id": "288aa553-3779-4541-bbee-0923a66e45ed",
   "metadata": {},
   "outputs": [
    {
     "name": "stdout",
     "output_type": "stream",
     "text": [
      "[302. 302. 451. 385. 220. 311. 346. 254. 374. 254. 374. 254.]\n"
     ]
    },
    {
     "data": {
      "text/plain": [
       "<Figure size 2500x2000 with 0 Axes>"
      ]
     },
     "metadata": {},
     "output_type": "display_data"
    }
   ],
   "source": [
    "from sklearn.tree import DecisionTreeRegressor\n",
    "# Fit regression model\n",
    "Regressor = DecisionTreeRegressor()\n",
    "Regressor.fit(X_train, y_train)\n",
    "y_pred = Regressor.predict(X_test)\n",
    "print(y_pred)\n",
    "\n",
    "\n",
    "from sklearn.metrics import accuracy_score\n",
    "from sklearn import tree\n",
    "\n",
    "features = data.columns\n",
    "features = features[:-1]\n",
    "features\n",
    "\n",
    "fig = plt.figure(figsize=(25,20))\n",
    "#plot = tree.plot_tree(Regressor, feature_names=features, filled=True)\n",
    "\n",
    "from sklearn.metrics import mean_squared_error\n",
    "errors = mean_squared_error(y_test, y_pred)\n",
    "# example of calculate the root mean squared error\n",
    "errors_dt = mean_absolute_error(y_test, y_pred)"
   ]
  },
  {
   "cell_type": "markdown",
   "id": "320d4484-5301-4d71-917d-30aee7c1b84b",
   "metadata": {},
   "source": [
    "### Random Forest "
   ]
  },
  {
   "cell_type": "code",
   "execution_count": 55,
   "id": "72f567ce-ce71-46ed-8cf7-2bf247e2189c",
   "metadata": {},
   "outputs": [],
   "source": [
    "from sklearn.ensemble import RandomForestRegressor\n",
    "\n",
    "# Instantiate model with 1000 decision trees\n",
    "rf = RandomForestRegressor(n_estimators = 1000, random_state = 42)\n",
    "# Train the model on training data\n",
    "rf.fit(X_train, y_train)\n",
    "\n",
    "# Use the forest's predict method on the test data\n",
    "y_pred = rf.predict(X_test)\n",
    "errors_rf = mean_absolute_error(y_test, y_pred)"
   ]
  },
  {
   "cell_type": "code",
   "execution_count": 56,
   "id": "dd555a8d-5063-4765-978f-46e9906b861b",
   "metadata": {},
   "outputs": [],
   "source": [
    "from sklearn.svm import SVR\n",
    "regressor = SVR(kernel = 'rbf')\n",
    "regressor.fit(X_train, y_train)\n",
    "y_pred = regressor.predict(X_test)\n",
    "#y_pred = sc_y.inverse_transform(y_pred) \n",
    "y_pred\n",
    "errors_sm = mean_absolute_error(y_test, y_pred)"
   ]
  },
  {
   "cell_type": "code",
   "execution_count": 57,
   "id": "d3023613-7a31-4588-91d0-e3cd0c483280",
   "metadata": {},
   "outputs": [
    {
     "data": {
      "text/html": [
       "<div>\n",
       "<style scoped>\n",
       "    .dataframe tbody tr th:only-of-type {\n",
       "        vertical-align: middle;\n",
       "    }\n",
       "\n",
       "    .dataframe tbody tr th {\n",
       "        vertical-align: top;\n",
       "    }\n",
       "\n",
       "    .dataframe thead th {\n",
       "        text-align: right;\n",
       "    }\n",
       "</style>\n",
       "<table border=\"1\" class=\"dataframe\">\n",
       "  <thead>\n",
       "    <tr style=\"text-align: right;\">\n",
       "      <th></th>\n",
       "      <th>Attr</th>\n",
       "      <th>LR</th>\n",
       "      <th>Ply</th>\n",
       "      <th>DT</th>\n",
       "      <th>RF</th>\n",
       "      <th>SVM</th>\n",
       "    </tr>\n",
       "  </thead>\n",
       "  <tbody>\n",
       "    <tr>\n",
       "      <th>0</th>\n",
       "      <td>Error</td>\n",
       "      <td>33.173692</td>\n",
       "      <td>33.173692</td>\n",
       "      <td>48.666667</td>\n",
       "      <td>29.514556</td>\n",
       "      <td>55.805163</td>\n",
       "    </tr>\n",
       "    <tr>\n",
       "      <th>1</th>\n",
       "      <td>CL_2</td>\n",
       "      <td>45.287163</td>\n",
       "      <td>45.287163</td>\n",
       "      <td>63.000000</td>\n",
       "      <td>55.646583</td>\n",
       "      <td>78.831452</td>\n",
       "    </tr>\n",
       "    <tr>\n",
       "      <th>2</th>\n",
       "      <td>CV_5</td>\n",
       "      <td>15.008346</td>\n",
       "      <td>15.008346</td>\n",
       "      <td>32.200000</td>\n",
       "      <td>34.515400</td>\n",
       "      <td>60.700159</td>\n",
       "    </tr>\n",
       "    <tr>\n",
       "      <th>3</th>\n",
       "      <td>kfolds_is_10</td>\n",
       "      <td>28.917282</td>\n",
       "      <td>28.917282</td>\n",
       "      <td>26.500000</td>\n",
       "      <td>7.591500</td>\n",
       "      <td>30.978121</td>\n",
       "    </tr>\n",
       "    <tr>\n",
       "      <th>4</th>\n",
       "      <td>LeaveOneOut</td>\n",
       "      <td>20.892380</td>\n",
       "      <td>20.892380</td>\n",
       "      <td>24.000000</td>\n",
       "      <td>3.816000</td>\n",
       "      <td>58.549001</td>\n",
       "    </tr>\n",
       "    <tr>\n",
       "      <th>5</th>\n",
       "      <td>RepeatedKFold_is_2</td>\n",
       "      <td>27.890978</td>\n",
       "      <td>27.890978</td>\n",
       "      <td>53.916667</td>\n",
       "      <td>34.609583</td>\n",
       "      <td>63.315447</td>\n",
       "    </tr>\n",
       "  </tbody>\n",
       "</table>\n",
       "</div>"
      ],
      "text/plain": [
       "                 Attr         LR        Ply         DT         RF        SVM\n",
       "0               Error  33.173692  33.173692  48.666667  29.514556  55.805163\n",
       "1                CL_2  45.287163  45.287163  63.000000  55.646583  78.831452\n",
       "2                CV_5  15.008346  15.008346  32.200000  34.515400  60.700159\n",
       "3        kfolds_is_10  28.917282  28.917282  26.500000   7.591500  30.978121\n",
       "4         LeaveOneOut  20.892380  20.892380  24.000000   3.816000  58.549001\n",
       "5  RepeatedKFold_is_2  27.890978  27.890978  53.916667  34.609583  63.315447"
      ]
     },
     "execution_count": 57,
     "metadata": {},
     "output_type": "execute_result"
    }
   ],
   "source": [
    "var = \"RepeatedKFold_is_2\"\n",
    "#error = {errors_lr, errors_pr, errors_dt, errors_rf, errors_sm}\n",
    "error1 = {\"Attr\": var, \"LR\": errors_lr, \"Ply\": errors_pr, \"DT\":errors_dt, \"RF\":errors_rf , \"SVM\":errors_sm}\n",
    "\n",
    "error = error._append(error1, ignore_index=True)\n",
    "\n",
    "error"
   ]
  },
  {
   "cell_type": "code",
   "execution_count": null,
   "id": "f67efade-1604-406a-9851-c7fb258bc0f0",
   "metadata": {},
   "outputs": [],
   "source": []
  },
  {
   "cell_type": "code",
   "execution_count": null,
   "id": "3a890063-f196-47e5-8aed-54780834b3a0",
   "metadata": {},
   "outputs": [],
   "source": []
  },
  {
   "cell_type": "markdown",
   "id": "7c2cc840-852c-433c-b3da-cb9a73364738",
   "metadata": {},
   "source": [
    "## Repeated K-Fold Cross-Validation when n = 5"
   ]
  },
  {
   "cell_type": "code",
   "execution_count": 58,
   "id": "b497ba5e-74f9-46af-b918-6f3f5251925d",
   "metadata": {},
   "outputs": [],
   "source": [
    "import numpy as np\n",
    "from sklearn.model_selection import RepeatedKFold\n",
    "\n",
    "rkf = RepeatedKFold(n_splits=5, n_repeats=2, random_state=42)\n",
    "for train_index, test_index in rkf.split(X):\n",
    "#    print(\"TRAIN:\", train_index, \"TEST:\", test_index)\n",
    "    X_train, X_test = X[train_index], X[test_index]\n",
    "    y_train, y_test = y[train_index], y[test_index]"
   ]
  },
  {
   "cell_type": "code",
   "execution_count": null,
   "id": "cf15d70e-c9de-4fd2-9985-0530dd5ae416",
   "metadata": {},
   "outputs": [],
   "source": []
  },
  {
   "cell_type": "code",
   "execution_count": 59,
   "id": "5053aa59-a7d4-4b5c-b831-c8dae4760036",
   "metadata": {},
   "outputs": [
    {
     "name": "stdout",
     "output_type": "stream",
     "text": [
      "Reg_Score 0.7442967621900394\n",
      "Coefficient [-1.92182801e+01  9.11870429e-03  6.19564516e+01]\n",
      "Intercept 311.92890452366197\n"
     ]
    }
   ],
   "source": [
    "from sklearn.linear_model import LinearRegression\n",
    "reg = LinearRegression().fit(X_train, y_train)\n",
    "print(\"Reg_Score\" , reg.score(X_train, y_train))\n",
    "print(\"Coefficient\",  reg.coef_)\n",
    "print(\"Intercept\",  reg.intercept_)\n",
    "y_pred =  reg.predict(X_test)\n",
    "errors_lr = mean_absolute_error(y_test, y_pred)"
   ]
  },
  {
   "cell_type": "code",
   "execution_count": 60,
   "id": "7fdf2d72-0102-498f-a59f-0a2097e6f8ed",
   "metadata": {},
   "outputs": [],
   "source": [
    "# Fitting Polynomial Regression to the dataset\n",
    "from sklearn.preprocessing import PolynomialFeatures\n",
    "\n",
    "poly = PolynomialFeatures(degree=1)\n",
    "X_poly = poly.fit_transform(X_train)\n",
    "\n",
    "poly.fit(X_poly, y_train)\n",
    "lin2 = LinearRegression()\n",
    "lin2.fit(X_poly, y_train)\n",
    "\n",
    "y_pred =  lin2.predict(poly.fit_transform(X_test))\n",
    "errors_pr = mean_absolute_error(y_test, y_pred)"
   ]
  },
  {
   "cell_type": "markdown",
   "id": "428da559-3f30-4298-a0ef-8e5605eabe61",
   "metadata": {},
   "source": [
    "### Decision Tree Regression"
   ]
  },
  {
   "cell_type": "code",
   "execution_count": 61,
   "id": "d3149ad8-ba42-4982-9cc7-dc54cf746aaa",
   "metadata": {},
   "outputs": [
    {
     "data": {
      "text/plain": [
       "<Figure size 2500x2000 with 0 Axes>"
      ]
     },
     "metadata": {},
     "output_type": "display_data"
    }
   ],
   "source": [
    "from sklearn.tree import DecisionTreeRegressor\n",
    "# Fit regression model\n",
    "Regressor = DecisionTreeRegressor()\n",
    "Regressor.fit(X_train, y_train)\n",
    "y_pred = Regressor.predict(X_test)\n",
    "\n",
    "from sklearn.metrics import accuracy_score\n",
    "from sklearn import tree\n",
    "\n",
    "features = data.columns\n",
    "features = features[:-1]\n",
    "features\n",
    "\n",
    "fig = plt.figure(figsize=(25,20))\n",
    "#plot = tree.plot_tree(Regressor, feature_names=features, filled=True)\n",
    "\n",
    "from sklearn.metrics import mean_squared_error\n",
    "errors = mean_squared_error(y_test, y_pred)\n",
    "# example of calculate the root mean squared error\n",
    "errors_dt = mean_absolute_error(y_test, y_pred)"
   ]
  },
  {
   "cell_type": "markdown",
   "id": "c9e3bfd3-67a2-4659-8ea8-226d9743e0d3",
   "metadata": {},
   "source": [
    "### Random Forest "
   ]
  },
  {
   "cell_type": "code",
   "execution_count": 62,
   "id": "26ab18e0-a930-4940-80da-fd78384822fe",
   "metadata": {},
   "outputs": [],
   "source": [
    "from sklearn.ensemble import RandomForestRegressor\n",
    "\n",
    "# Instantiate model with 1000 decision trees\n",
    "rf = RandomForestRegressor(n_estimators = 1000, random_state = 42)\n",
    "# Train the model on training data\n",
    "rf.fit(X_train, y_train)\n",
    "\n",
    "# Use the forest's predict method on the test data\n",
    "y_pred = rf.predict(X_test)\n",
    "errors_rf = mean_absolute_error(y_test, y_pred)"
   ]
  },
  {
   "cell_type": "code",
   "execution_count": 63,
   "id": "40495907-0de1-4fad-9fbf-e9ee652b6398",
   "metadata": {},
   "outputs": [],
   "source": [
    "from sklearn.svm import SVR\n",
    "regressor = SVR(kernel = 'rbf')\n",
    "regressor.fit(X_train, y_train)\n",
    "y_pred = regressor.predict(X_test)\n",
    "#y_pred = sc_y.inverse_transform(y_pred) \n",
    "y_pred\n",
    "errors_sm = mean_absolute_error(y_test, y_pred)"
   ]
  },
  {
   "cell_type": "code",
   "execution_count": 64,
   "id": "5d73e011-ad0d-4b87-98b5-392ff462369f",
   "metadata": {},
   "outputs": [
    {
     "data": {
      "text/html": [
       "<div>\n",
       "<style scoped>\n",
       "    .dataframe tbody tr th:only-of-type {\n",
       "        vertical-align: middle;\n",
       "    }\n",
       "\n",
       "    .dataframe tbody tr th {\n",
       "        vertical-align: top;\n",
       "    }\n",
       "\n",
       "    .dataframe thead th {\n",
       "        text-align: right;\n",
       "    }\n",
       "</style>\n",
       "<table border=\"1\" class=\"dataframe\">\n",
       "  <thead>\n",
       "    <tr style=\"text-align: right;\">\n",
       "      <th></th>\n",
       "      <th>Attr</th>\n",
       "      <th>LR</th>\n",
       "      <th>Ply</th>\n",
       "      <th>DT</th>\n",
       "      <th>RF</th>\n",
       "      <th>SVM</th>\n",
       "    </tr>\n",
       "  </thead>\n",
       "  <tbody>\n",
       "    <tr>\n",
       "      <th>0</th>\n",
       "      <td>Error</td>\n",
       "      <td>33.173692</td>\n",
       "      <td>33.173692</td>\n",
       "      <td>48.666667</td>\n",
       "      <td>29.514556</td>\n",
       "      <td>55.805163</td>\n",
       "    </tr>\n",
       "    <tr>\n",
       "      <th>1</th>\n",
       "      <td>CL_2</td>\n",
       "      <td>45.287163</td>\n",
       "      <td>45.287163</td>\n",
       "      <td>63.000000</td>\n",
       "      <td>55.646583</td>\n",
       "      <td>78.831452</td>\n",
       "    </tr>\n",
       "    <tr>\n",
       "      <th>2</th>\n",
       "      <td>CV_5</td>\n",
       "      <td>15.008346</td>\n",
       "      <td>15.008346</td>\n",
       "      <td>32.200000</td>\n",
       "      <td>34.515400</td>\n",
       "      <td>60.700159</td>\n",
       "    </tr>\n",
       "    <tr>\n",
       "      <th>3</th>\n",
       "      <td>kfolds_is_10</td>\n",
       "      <td>28.917282</td>\n",
       "      <td>28.917282</td>\n",
       "      <td>26.500000</td>\n",
       "      <td>7.591500</td>\n",
       "      <td>30.978121</td>\n",
       "    </tr>\n",
       "    <tr>\n",
       "      <th>4</th>\n",
       "      <td>LeaveOneOut</td>\n",
       "      <td>20.892380</td>\n",
       "      <td>20.892380</td>\n",
       "      <td>24.000000</td>\n",
       "      <td>3.816000</td>\n",
       "      <td>58.549001</td>\n",
       "    </tr>\n",
       "    <tr>\n",
       "      <th>5</th>\n",
       "      <td>RepeatedKFold_is_2</td>\n",
       "      <td>27.890978</td>\n",
       "      <td>27.890978</td>\n",
       "      <td>53.916667</td>\n",
       "      <td>34.609583</td>\n",
       "      <td>63.315447</td>\n",
       "    </tr>\n",
       "    <tr>\n",
       "      <th>6</th>\n",
       "      <td>RepeatedKFold_is_5</td>\n",
       "      <td>25.375803</td>\n",
       "      <td>25.375803</td>\n",
       "      <td>41.400000</td>\n",
       "      <td>40.535200</td>\n",
       "      <td>69.333743</td>\n",
       "    </tr>\n",
       "  </tbody>\n",
       "</table>\n",
       "</div>"
      ],
      "text/plain": [
       "                 Attr         LR        Ply         DT         RF        SVM\n",
       "0               Error  33.173692  33.173692  48.666667  29.514556  55.805163\n",
       "1                CL_2  45.287163  45.287163  63.000000  55.646583  78.831452\n",
       "2                CV_5  15.008346  15.008346  32.200000  34.515400  60.700159\n",
       "3        kfolds_is_10  28.917282  28.917282  26.500000   7.591500  30.978121\n",
       "4         LeaveOneOut  20.892380  20.892380  24.000000   3.816000  58.549001\n",
       "5  RepeatedKFold_is_2  27.890978  27.890978  53.916667  34.609583  63.315447\n",
       "6  RepeatedKFold_is_5  25.375803  25.375803  41.400000  40.535200  69.333743"
      ]
     },
     "execution_count": 64,
     "metadata": {},
     "output_type": "execute_result"
    }
   ],
   "source": [
    "var = \"RepeatedKFold_is_5\"\n",
    "#error = {errors_lr, errors_pr, errors_dt, errors_rf, errors_sm}\n",
    "error1 = {\"Attr\": var, \"LR\": errors_lr, \"Ply\": errors_pr, \"DT\":errors_dt, \"RF\":errors_rf , \"SVM\":errors_sm}\n",
    "\n",
    "error = error._append(error1, ignore_index=True)\n",
    "\n",
    "error"
   ]
  },
  {
   "cell_type": "markdown",
   "id": "13ed12cd-2dc3-46dc-9eed-c999a0c5636c",
   "metadata": {},
   "source": [
    "## Repeated K-Fold Cross-Validation when n = 10"
   ]
  },
  {
   "cell_type": "code",
   "execution_count": 65,
   "id": "8f8829e7-8ad2-4bda-967a-e2f8d2143c85",
   "metadata": {},
   "outputs": [],
   "source": [
    "import numpy as np\n",
    "from sklearn.model_selection import RepeatedKFold\n",
    "\n",
    "rkf = RepeatedKFold(n_splits=10, n_repeats=2, random_state=42)\n",
    "for train_index, test_index in rkf.split(X):\n",
    "#    print(\"TRAIN:\", train_index, \"TEST:\", test_index)\n",
    "    X_train, X_test = X[train_index], X[test_index]\n",
    "    y_train, y_test = y[train_index], y[test_index]"
   ]
  },
  {
   "cell_type": "code",
   "execution_count": null,
   "id": "d4de8bff-030c-4b02-a4b5-35533728ec13",
   "metadata": {},
   "outputs": [],
   "source": []
  },
  {
   "cell_type": "code",
   "execution_count": 66,
   "id": "ca0b14d8-1653-4ed3-96c0-364c41243d36",
   "metadata": {},
   "outputs": [
    {
     "name": "stdout",
     "output_type": "stream",
     "text": [
      "Reg_Score 0.7534542315533194\n",
      "Coefficient [-19.98714463   1.57219405  62.63016363]\n",
      "Intercept 310.898899495942\n"
     ]
    }
   ],
   "source": [
    "from sklearn.linear_model import LinearRegression\n",
    "reg = LinearRegression().fit(X_train, y_train)\n",
    "print(\"Reg_Score\" , reg.score(X_train, y_train))\n",
    "print(\"Coefficient\",  reg.coef_)\n",
    "print(\"Intercept\",  reg.intercept_)\n",
    "y_pred =  reg.predict(X_test)\n",
    "errors_lr = mean_absolute_error(y_test, y_pred)"
   ]
  },
  {
   "cell_type": "code",
   "execution_count": 67,
   "id": "7fb49b6c-ae58-4692-9f25-a2f7c3a28f22",
   "metadata": {},
   "outputs": [],
   "source": [
    "# Fitting Polynomial Regression to the dataset\n",
    "from sklearn.preprocessing import PolynomialFeatures\n",
    "\n",
    "poly = PolynomialFeatures(degree=1)\n",
    "X_poly = poly.fit_transform(X_train)\n",
    "\n",
    "poly.fit(X_poly, y_train)\n",
    "lin2 = LinearRegression()\n",
    "lin2.fit(X_poly, y_train)\n",
    "\n",
    "y_pred =  lin2.predict(poly.fit_transform(X_test))\n",
    "errors_pr = mean_absolute_error(y_test, y_pred)"
   ]
  },
  {
   "cell_type": "markdown",
   "id": "3fe63a1a-fd16-44a2-bb5b-d424461e8762",
   "metadata": {},
   "source": [
    "### Decision Tree Regression"
   ]
  },
  {
   "cell_type": "code",
   "execution_count": 68,
   "id": "f054f454-aafb-4123-8ec5-82fb2bd92a76",
   "metadata": {},
   "outputs": [
    {
     "data": {
      "text/plain": [
       "<Figure size 2500x2000 with 0 Axes>"
      ]
     },
     "metadata": {},
     "output_type": "display_data"
    }
   ],
   "source": [
    "from sklearn.tree import DecisionTreeRegressor\n",
    "# Fit regression model\n",
    "Regressor = DecisionTreeRegressor()\n",
    "Regressor.fit(X_train, y_train)\n",
    "y_pred = Regressor.predict(X_test)\n",
    "\n",
    "from sklearn.metrics import accuracy_score\n",
    "from sklearn import tree\n",
    "\n",
    "features = data.columns\n",
    "features = features[:-1]\n",
    "features\n",
    "\n",
    "fig = plt.figure(figsize=(25,20))\n",
    "#plot = tree.plot_tree(Regressor, feature_names=features, filled=True)\n",
    "\n",
    "from sklearn.metrics import mean_squared_error\n",
    "errors = mean_squared_error(y_test, y_pred)\n",
    "# example of calculate the root mean squared error\n",
    "errors_dt = mean_absolute_error(y_test, y_pred)"
   ]
  },
  {
   "cell_type": "markdown",
   "id": "7b8859c8-8bdc-418a-9d60-1847105e3114",
   "metadata": {},
   "source": [
    "### Random Forest "
   ]
  },
  {
   "cell_type": "code",
   "execution_count": 69,
   "id": "1c4cd15a-e63f-4de0-b763-16746d6053db",
   "metadata": {},
   "outputs": [],
   "source": [
    "from sklearn.ensemble import RandomForestRegressor\n",
    "\n",
    "# Instantiate model with 1000 decision trees\n",
    "rf = RandomForestRegressor(n_estimators = 1000, random_state = 42)\n",
    "# Train the model on training data\n",
    "rf.fit(X_train, y_train)\n",
    "\n",
    "# Use the forest's predict method on the test data\n",
    "y_pred = rf.predict(X_test)\n",
    "errors_rf = mean_absolute_error(y_test, y_pred)"
   ]
  },
  {
   "cell_type": "code",
   "execution_count": 70,
   "id": "8a51ea48-8dbb-45fa-8529-f2a133986eca",
   "metadata": {},
   "outputs": [],
   "source": [
    "from sklearn.svm import SVR\n",
    "regressor = SVR(kernel = 'rbf')\n",
    "regressor.fit(X_train, y_train)\n",
    "y_pred = regressor.predict(X_test)\n",
    "#y_pred = sc_y.inverse_transform(y_pred) \n",
    "y_pred\n",
    "errors_sm = mean_absolute_error(y_test, y_pred)"
   ]
  },
  {
   "cell_type": "code",
   "execution_count": 71,
   "id": "5dc97806-8382-454d-96dd-526349f4c46d",
   "metadata": {},
   "outputs": [
    {
     "data": {
      "text/html": [
       "<div>\n",
       "<style scoped>\n",
       "    .dataframe tbody tr th:only-of-type {\n",
       "        vertical-align: middle;\n",
       "    }\n",
       "\n",
       "    .dataframe tbody tr th {\n",
       "        vertical-align: top;\n",
       "    }\n",
       "\n",
       "    .dataframe thead th {\n",
       "        text-align: right;\n",
       "    }\n",
       "</style>\n",
       "<table border=\"1\" class=\"dataframe\">\n",
       "  <thead>\n",
       "    <tr style=\"text-align: right;\">\n",
       "      <th></th>\n",
       "      <th>Attr</th>\n",
       "      <th>LR</th>\n",
       "      <th>Ply</th>\n",
       "      <th>DT</th>\n",
       "      <th>RF</th>\n",
       "      <th>SVM</th>\n",
       "    </tr>\n",
       "  </thead>\n",
       "  <tbody>\n",
       "    <tr>\n",
       "      <th>0</th>\n",
       "      <td>Error</td>\n",
       "      <td>33.173692</td>\n",
       "      <td>33.173692</td>\n",
       "      <td>48.666667</td>\n",
       "      <td>29.514556</td>\n",
       "      <td>55.805163</td>\n",
       "    </tr>\n",
       "    <tr>\n",
       "      <th>1</th>\n",
       "      <td>CL_2</td>\n",
       "      <td>45.287163</td>\n",
       "      <td>45.287163</td>\n",
       "      <td>63.000000</td>\n",
       "      <td>55.646583</td>\n",
       "      <td>78.831452</td>\n",
       "    </tr>\n",
       "    <tr>\n",
       "      <th>2</th>\n",
       "      <td>CV_5</td>\n",
       "      <td>15.008346</td>\n",
       "      <td>15.008346</td>\n",
       "      <td>32.200000</td>\n",
       "      <td>34.515400</td>\n",
       "      <td>60.700159</td>\n",
       "    </tr>\n",
       "    <tr>\n",
       "      <th>3</th>\n",
       "      <td>kfolds_is_10</td>\n",
       "      <td>28.917282</td>\n",
       "      <td>28.917282</td>\n",
       "      <td>26.500000</td>\n",
       "      <td>7.591500</td>\n",
       "      <td>30.978121</td>\n",
       "    </tr>\n",
       "    <tr>\n",
       "      <th>4</th>\n",
       "      <td>LeaveOneOut</td>\n",
       "      <td>20.892380</td>\n",
       "      <td>20.892380</td>\n",
       "      <td>24.000000</td>\n",
       "      <td>3.816000</td>\n",
       "      <td>58.549001</td>\n",
       "    </tr>\n",
       "    <tr>\n",
       "      <th>5</th>\n",
       "      <td>RepeatedKFold_is_2</td>\n",
       "      <td>27.890978</td>\n",
       "      <td>27.890978</td>\n",
       "      <td>53.916667</td>\n",
       "      <td>34.609583</td>\n",
       "      <td>63.315447</td>\n",
       "    </tr>\n",
       "    <tr>\n",
       "      <th>6</th>\n",
       "      <td>RepeatedKFold_is_5</td>\n",
       "      <td>25.375803</td>\n",
       "      <td>25.375803</td>\n",
       "      <td>41.400000</td>\n",
       "      <td>40.535200</td>\n",
       "      <td>69.333743</td>\n",
       "    </tr>\n",
       "    <tr>\n",
       "      <th>7</th>\n",
       "      <td>RepeatedKFold_is_10</td>\n",
       "      <td>18.379669</td>\n",
       "      <td>18.379669</td>\n",
       "      <td>66.500000</td>\n",
       "      <td>58.167500</td>\n",
       "      <td>68.029070</td>\n",
       "    </tr>\n",
       "  </tbody>\n",
       "</table>\n",
       "</div>"
      ],
      "text/plain": [
       "                  Attr         LR        Ply         DT         RF        SVM\n",
       "0                Error  33.173692  33.173692  48.666667  29.514556  55.805163\n",
       "1                 CL_2  45.287163  45.287163  63.000000  55.646583  78.831452\n",
       "2                 CV_5  15.008346  15.008346  32.200000  34.515400  60.700159\n",
       "3         kfolds_is_10  28.917282  28.917282  26.500000   7.591500  30.978121\n",
       "4          LeaveOneOut  20.892380  20.892380  24.000000   3.816000  58.549001\n",
       "5   RepeatedKFold_is_2  27.890978  27.890978  53.916667  34.609583  63.315447\n",
       "6   RepeatedKFold_is_5  25.375803  25.375803  41.400000  40.535200  69.333743\n",
       "7  RepeatedKFold_is_10  18.379669  18.379669  66.500000  58.167500  68.029070"
      ]
     },
     "execution_count": 71,
     "metadata": {},
     "output_type": "execute_result"
    }
   ],
   "source": [
    "var = \"RepeatedKFold_is_10\"\n",
    "#error = {errors_lr, errors_pr, errors_dt, errors_rf, errors_sm}\n",
    "error1 = {\"Attr\": var, \"LR\": errors_lr, \"Ply\": errors_pr, \"DT\":errors_dt, \"RF\":errors_rf , \"SVM\":errors_sm}\n",
    "error = error._append(error1, ignore_index=True)\n",
    "error"
   ]
  },
  {
   "cell_type": "code",
   "execution_count": 72,
   "id": "94340078-19b7-4749-b601-df09622ad59d",
   "metadata": {},
   "outputs": [
    {
     "data": {
      "image/png": "[encoded data removed]",
      "text/plain": [
       "<Figure size 640x480 with 1 Axes>"
      ]
     },
     "metadata": {},
     "output_type": "display_data"
    }
   ],
   "source": [
    "#plt = error.plot( title=\"SeriesGroupBy Plot\")\n",
    "\n",
    "# Plot unstacked multiple columns such as population and year from DataFrame\n",
    "plt = error.plot(x=\"Attr\", stacked=True, rot=30)"
   ]
  },
  {
   "cell_type": "code",
   "execution_count": 73,
   "id": "8b10b80c-1c7f-4682-adbd-a4b1e8b5d5c1",
   "metadata": {},
   "outputs": [
    {
     "data": {
      "text/html": [
       "<div>\n",
       "<style scoped>\n",
       "    .dataframe tbody tr th:only-of-type {\n",
       "        vertical-align: middle;\n",
       "    }\n",
       "\n",
       "    .dataframe tbody tr th {\n",
       "        vertical-align: top;\n",
       "    }\n",
       "\n",
       "    .dataframe thead th {\n",
       "        text-align: right;\n",
       "    }\n",
       "</style>\n",
       "<table border=\"1\" class=\"dataframe\">\n",
       "  <thead>\n",
       "    <tr style=\"text-align: right;\">\n",
       "      <th></th>\n",
       "      <th>Attr</th>\n",
       "      <th>LR</th>\n",
       "      <th>Ply</th>\n",
       "      <th>DT</th>\n",
       "      <th>RF</th>\n",
       "      <th>SVM</th>\n",
       "    </tr>\n",
       "  </thead>\n",
       "  <tbody>\n",
       "    <tr>\n",
       "      <th>0</th>\n",
       "      <td>Error</td>\n",
       "      <td>33.173692</td>\n",
       "      <td>33.173692</td>\n",
       "      <td>48.666667</td>\n",
       "      <td>29.514556</td>\n",
       "      <td>55.805163</td>\n",
       "    </tr>\n",
       "    <tr>\n",
       "      <th>1</th>\n",
       "      <td>CL_2</td>\n",
       "      <td>45.287163</td>\n",
       "      <td>45.287163</td>\n",
       "      <td>63.000000</td>\n",
       "      <td>55.646583</td>\n",
       "      <td>78.831452</td>\n",
       "    </tr>\n",
       "    <tr>\n",
       "      <th>2</th>\n",
       "      <td>CV_5</td>\n",
       "      <td>15.008346</td>\n",
       "      <td>15.008346</td>\n",
       "      <td>32.200000</td>\n",
       "      <td>34.515400</td>\n",
       "      <td>60.700159</td>\n",
       "    </tr>\n",
       "    <tr>\n",
       "      <th>3</th>\n",
       "      <td>kfolds_is_10</td>\n",
       "      <td>28.917282</td>\n",
       "      <td>28.917282</td>\n",
       "      <td>26.500000</td>\n",
       "      <td>7.591500</td>\n",
       "      <td>30.978121</td>\n",
       "    </tr>\n",
       "    <tr>\n",
       "      <th>4</th>\n",
       "      <td>LeaveOneOut</td>\n",
       "      <td>20.892380</td>\n",
       "      <td>20.892380</td>\n",
       "      <td>24.000000</td>\n",
       "      <td>3.816000</td>\n",
       "      <td>58.549001</td>\n",
       "    </tr>\n",
       "    <tr>\n",
       "      <th>5</th>\n",
       "      <td>RepeatedKFold_is_2</td>\n",
       "      <td>27.890978</td>\n",
       "      <td>27.890978</td>\n",
       "      <td>53.916667</td>\n",
       "      <td>34.609583</td>\n",
       "      <td>63.315447</td>\n",
       "    </tr>\n",
       "    <tr>\n",
       "      <th>6</th>\n",
       "      <td>RepeatedKFold_is_5</td>\n",
       "      <td>25.375803</td>\n",
       "      <td>25.375803</td>\n",
       "      <td>41.400000</td>\n",
       "      <td>40.535200</td>\n",
       "      <td>69.333743</td>\n",
       "    </tr>\n",
       "    <tr>\n",
       "      <th>7</th>\n",
       "      <td>RepeatedKFold_is_10</td>\n",
       "      <td>18.379669</td>\n",
       "      <td>18.379669</td>\n",
       "      <td>66.500000</td>\n",
       "      <td>58.167500</td>\n",
       "      <td>68.029070</td>\n",
       "    </tr>\n",
       "  </tbody>\n",
       "</table>\n",
       "</div>"
      ],
      "text/plain": [
       "                  Attr         LR        Ply         DT         RF        SVM\n",
       "0                Error  33.173692  33.173692  48.666667  29.514556  55.805163\n",
       "1                 CL_2  45.287163  45.287163  63.000000  55.646583  78.831452\n",
       "2                 CV_5  15.008346  15.008346  32.200000  34.515400  60.700159\n",
       "3         kfolds_is_10  28.917282  28.917282  26.500000   7.591500  30.978121\n",
       "4          LeaveOneOut  20.892380  20.892380  24.000000   3.816000  58.549001\n",
       "5   RepeatedKFold_is_2  27.890978  27.890978  53.916667  34.609583  63.315447\n",
       "6   RepeatedKFold_is_5  25.375803  25.375803  41.400000  40.535200  69.333743\n",
       "7  RepeatedKFold_is_10  18.379669  18.379669  66.500000  58.167500  68.029070"
      ]
     },
     "execution_count": 73,
     "metadata": {},
     "output_type": "execute_result"
    }
   ],
   "source": [
    "error"
   ]
  },
  {
   "cell_type": "code",
   "execution_count": null,
   "id": "c410943f-d8f8-4f58-a28f-65163ccc3000",
   "metadata": {},
   "outputs": [],
   "source": []
  }
 ],
 "metadata": {
  "kernelspec": {
   "display_name": "Python 3 (ipykernel)",
   "language": "python",
   "name": "python3"
  },
  "language_info": {
   "codemirror_mode": {
    "name": "ipython",
    "version": 3
   },
   "file_extension": ".py",
   "mimetype": "text/x-python",
   "name": "python",
   "nbconvert_exporter": "python",
   "pygments_lexer": "ipython3",
   "version": "3.10.11"
  }
 },
 "nbformat": 4,
 "nbformat_minor": 5
}
